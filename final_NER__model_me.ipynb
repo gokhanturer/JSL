{
  "nbformat": 4,
  "nbformat_minor": 0,
  "metadata": {
    "colab": {
      "name": "final_NER _model_me.ipynb",
      "provenance": [],
      "toc_visible": true,
      "mount_file_id": "1KtA_K-7_xO0oxQ7DhJtU5RPHtGnMzK8z",
      "authorship_tag": "ABX9TyPIL5aDzPZHj0x2uktWbpCq",
      "include_colab_link": true
    },
    "kernelspec": {
      "name": "python3",
      "display_name": "Python 3"
    },
    "language_info": {
      "name": "python"
    }
  },
  "cells": [
    {
      "cell_type": "markdown",
      "metadata": {
        "id": "view-in-github",
        "colab_type": "text"
      },
      "source": [
        "<a href=\"https://colab.research.google.com/github/gokhanturer/JSL/blob/main/final_NER__model_me.ipynb\" target=\"_parent\"><img src=\"https://colab.research.google.com/assets/colab-badge.svg\" alt=\"Open In Colab\"/></a>"
      ]
    },
    {
      "cell_type": "markdown",
      "source": [
        "![JOHNSNOWLABS_LOGO.png](data:image/png;base64,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)"
      ],
      "metadata": {
        "id": "bRIfhPbx0kQN"
      }
    },
    {
      "cell_type": "markdown",
      "source": [
        "# Colab Setup"
      ],
      "metadata": {
        "id": "EnEUZwuU0y69"
      }
    },
    {
      "cell_type": "code",
      "source": [
        "! pip install -q pyspark==3.1.2 spark-nlp\n",
        "\n",
        "! pip install -q spark-nlp-display"
      ],
      "metadata": {
        "colab": {
          "base_uri": "https://localhost:8080/"
        },
        "id": "LY4Pc5NA0cBg",
        "outputId": "b6a62c28-a978-4ee8-ee1e-ff54a0deb724"
      },
      "execution_count": 1,
      "outputs": [
        {
          "output_type": "stream",
          "name": "stdout",
          "text": [
            "\u001b[K     |████████████████████████████████| 212.4 MB 82 kB/s \n",
            "\u001b[K     |████████████████████████████████| 140 kB 61.0 MB/s \n",
            "\u001b[K     |████████████████████████████████| 198 kB 73.0 MB/s \n",
            "\u001b[?25h  Building wheel for pyspark (setup.py) ... \u001b[?25l\u001b[?25hdone\n",
            "\u001b[K     |████████████████████████████████| 95 kB 2.0 MB/s \n",
            "\u001b[K     |████████████████████████████████| 66 kB 3.5 MB/s \n",
            "\u001b[?25h"
          ]
        }
      ]
    },
    {
      "cell_type": "code",
      "source": [
        "import sparknlp\n",
        "\n",
        "spark = sparknlp.start(gpu = True) \n",
        "\n",
        "from sparknlp.base import *\n",
        "from sparknlp.annotator import *\n",
        "import pyspark.sql.functions as F\n",
        "from sparknlp.training import CoNLL\n",
        "\n",
        "print(\"Spark NLP version\", sparknlp.version())\n",
        "\n",
        "print(\"Apache Spark version:\", spark.version)\n",
        "\n",
        "spark"
      ],
      "metadata": {
        "colab": {
          "base_uri": "https://localhost:8080/",
          "height": 250
        },
        "id": "jyzAvIiV04z1",
        "outputId": "338ee561-ee03-40ce-be4f-e73897ff8372"
      },
      "execution_count": 3,
      "outputs": [
        {
          "output_type": "stream",
          "name": "stdout",
          "text": [
            "Spark NLP version 3.4.0\n",
            "Apache Spark version: 3.1.2\n"
          ]
        },
        {
          "output_type": "execute_result",
          "data": {
            "text/html": [
              "\n",
              "            <div>\n",
              "                <p><b>SparkSession - in-memory</b></p>\n",
              "                \n",
              "        <div>\n",
              "            <p><b>SparkContext</b></p>\n",
              "\n",
              "            <p><a href=\"http://375e265e48e3:4040\">Spark UI</a></p>\n",
              "\n",
              "            <dl>\n",
              "              <dt>Version</dt>\n",
              "                <dd><code>v3.1.2</code></dd>\n",
              "              <dt>Master</dt>\n",
              "                <dd><code>local[*]</code></dd>\n",
              "              <dt>AppName</dt>\n",
              "                <dd><code>Spark NLP</code></dd>\n",
              "            </dl>\n",
              "        </div>\n",
              "        \n",
              "            </div>\n",
              "        "
            ],
            "text/plain": [
              "<pyspark.sql.session.SparkSession at 0x7f7ea65ad490>"
            ]
          },
          "metadata": {},
          "execution_count": 3
        }
      ]
    },
    {
      "cell_type": "markdown",
      "source": [
        "# CONLL Data Prep"
      ],
      "metadata": {
        "id": "z_wlHwVB1Bmr"
      }
    },
    {
      "cell_type": "code",
      "source": [
        "!wget -q https://raw.githubusercontent.com/JohnSnowLabs/spark-nlp/master/src/test/resources/conll2003/eng.train\n",
        "!wget -q https://raw.githubusercontent.com/JohnSnowLabs/spark-nlp/master/src/test/resources/conll2003/eng.testa"
      ],
      "metadata": {
        "id": "S9gjLM1_04wh"
      },
      "execution_count": 2,
      "outputs": []
    },
    {
      "cell_type": "markdown",
      "source": [
        "### Train Data"
      ],
      "metadata": {
        "id": "SqsTOFgG1LHd"
      }
    },
    {
      "cell_type": "code",
      "source": [
        "with open (\"eng.train\") as f:\n",
        "  train_data = f.read()\n",
        "print (train_data[:500])"
      ],
      "metadata": {
        "colab": {
          "base_uri": "https://localhost:8080/"
        },
        "id": "5Kbp6otf04t8",
        "outputId": "e6af76e9-2396-455a-8cdd-ab040a238aa7"
      },
      "execution_count": 5,
      "outputs": [
        {
          "output_type": "stream",
          "name": "stdout",
          "text": [
            "-DOCSTART- -X- -X- O\n",
            "\n",
            "EU NNP B-NP B-ORG\n",
            "rejects VBZ B-VP O\n",
            "German JJ B-NP B-MISC\n",
            "call NN I-NP O\n",
            "to TO B-VP O\n",
            "boycott VB I-VP O\n",
            "British JJ B-NP B-MISC\n",
            "lamb NN I-NP O\n",
            ". . O O\n",
            "\n",
            "Peter NNP B-NP B-PER\n",
            "Blackburn NNP I-NP I-PER\n",
            "\n",
            "BRUSSELS NNP B-NP B-LOC\n",
            "1996-08-22 CD I-NP O\n",
            "\n",
            "The DT B-NP O\n",
            "European NNP I-NP B-ORG\n",
            "Commission NNP I-NP I-ORG\n",
            "said VBD B-VP O\n",
            "on IN B-PP O\n",
            "Thursday NNP B-NP O\n",
            "it PRP B-NP O\n",
            "disagreed VBD B-VP O\n",
            "with IN B-PP O\n",
            "German JJ B-NP B-MISC\n",
            "advice NN I-NP O\n",
            "to TO B-PP O\n",
            "consumers NNS B-NP\n"
          ]
        }
      ]
    },
    {
      "cell_type": "code",
      "source": [
        "train_data = CoNLL().readDataset(spark, 'eng.train')\n",
        "\n",
        "train_data.show(3)"
      ],
      "metadata": {
        "colab": {
          "base_uri": "https://localhost:8080/"
        },
        "id": "FghF9zVf04rY",
        "outputId": "f433d1d7-0d23-4c3f-bd5f-db25cac7cda0"
      },
      "execution_count": 6,
      "outputs": [
        {
          "output_type": "stream",
          "name": "stdout",
          "text": [
            "+--------------------+--------------------+--------------------+--------------------+--------------------+--------------------+\n",
            "|                text|            document|            sentence|               token|                 pos|               label|\n",
            "+--------------------+--------------------+--------------------+--------------------+--------------------+--------------------+\n",
            "|EU rejects German...|[{document, 0, 47...|[{document, 0, 47...|[{token, 0, 1, EU...|[{pos, 0, 1, NNP,...|[{named_entity, 0...|\n",
            "|     Peter Blackburn|[{document, 0, 14...|[{document, 0, 14...|[{token, 0, 4, Pe...|[{pos, 0, 4, NNP,...|[{named_entity, 0...|\n",
            "| BRUSSELS 1996-08-22|[{document, 0, 18...|[{document, 0, 18...|[{token, 0, 7, BR...|[{pos, 0, 7, NNP,...|[{named_entity, 0...|\n",
            "+--------------------+--------------------+--------------------+--------------------+--------------------+--------------------+\n",
            "only showing top 3 rows\n",
            "\n"
          ]
        }
      ]
    },
    {
      "cell_type": "code",
      "source": [
        "train_data.count()"
      ],
      "metadata": {
        "colab": {
          "base_uri": "https://localhost:8080/"
        },
        "id": "00J5B47Z04fx",
        "outputId": "6c9684ec-653b-4818-842b-b3aa9f301911"
      },
      "execution_count": 7,
      "outputs": [
        {
          "output_type": "execute_result",
          "data": {
            "text/plain": [
              "14041"
            ]
          },
          "metadata": {},
          "execution_count": 7
        }
      ]
    },
    {
      "cell_type": "code",
      "source": [
        "train_data.select(F.explode(F.arrays_zip('token.result', 'pos.result',  'label.result')).alias(\"cols\")) \\\n",
        ".select(F.expr(\"cols['0']\").alias(\"token\"),\n",
        "        F.expr(\"cols['1']\").alias(\"pos\"),\n",
        "        F.expr(\"cols['2']\").alias(\"ner_label\")).show(truncate=50)"
      ],
      "metadata": {
        "colab": {
          "base_uri": "https://localhost:8080/"
        },
        "id": "EXvpjBBG1hr6",
        "outputId": "9b92c681-f0e8-43ec-91a3-2d7eaed10999"
      },
      "execution_count": 8,
      "outputs": [
        {
          "output_type": "stream",
          "name": "stdout",
          "text": [
            "+----------+---+---------+\n",
            "|     token|pos|ner_label|\n",
            "+----------+---+---------+\n",
            "|        EU|NNP|    B-ORG|\n",
            "|   rejects|VBZ|        O|\n",
            "|    German| JJ|   B-MISC|\n",
            "|      call| NN|        O|\n",
            "|        to| TO|        O|\n",
            "|   boycott| VB|        O|\n",
            "|   British| JJ|   B-MISC|\n",
            "|      lamb| NN|        O|\n",
            "|         .|  .|        O|\n",
            "|     Peter|NNP|    B-PER|\n",
            "| Blackburn|NNP|    I-PER|\n",
            "|  BRUSSELS|NNP|    B-LOC|\n",
            "|1996-08-22| CD|        O|\n",
            "|       The| DT|        O|\n",
            "|  European|NNP|    B-ORG|\n",
            "|Commission|NNP|    I-ORG|\n",
            "|      said|VBD|        O|\n",
            "|        on| IN|        O|\n",
            "|  Thursday|NNP|        O|\n",
            "|        it|PRP|        O|\n",
            "+----------+---+---------+\n",
            "only showing top 20 rows\n",
            "\n"
          ]
        }
      ]
    },
    {
      "cell_type": "code",
      "source": [
        "train_data.select(F.explode(F.arrays_zip(\"token.result\",\"label.result\")).alias(\"cols\")) \\\n",
        ".select(F.expr(\"cols['0']\").alias(\"token\"),\n",
        "        F.expr(\"cols['1']\").alias(\"ground_truth\")).groupBy(\"ground_truth\").count().orderBy(\"count\", ascending=False).show(100,truncate=False)"
      ],
      "metadata": {
        "colab": {
          "base_uri": "https://localhost:8080/"
        },
        "id": "opk3ZCdS1mX4",
        "outputId": "1a5cd8d4-c3a4-48b1-d7e5-c8863507cc72"
      },
      "execution_count": 9,
      "outputs": [
        {
          "output_type": "stream",
          "name": "stdout",
          "text": [
            "+------------+------+\n",
            "|ground_truth|count |\n",
            "+------------+------+\n",
            "|O           |169578|\n",
            "|B-LOC       |7140  |\n",
            "|B-PER       |6600  |\n",
            "|B-ORG       |6321  |\n",
            "|I-PER       |4528  |\n",
            "|I-ORG       |3704  |\n",
            "|B-MISC      |3438  |\n",
            "|I-LOC       |1157  |\n",
            "|I-MISC      |1155  |\n",
            "+------------+------+\n",
            "\n"
          ]
        }
      ]
    },
    {
      "cell_type": "code",
      "source": [
        "#conll_data.select(F.countDistinct(\"label.result\")).show()\n",
        "#conll_data.groupBy(\"label.result\").count().show(truncate=False)\n",
        "\n",
        "train_data = train_data.withColumn('unique', F.array_distinct(\"label.result\"))\\\n",
        "                       .withColumn('c', F.size('unique'))\\\n",
        "                       .filter(F.col('c')>1)\n",
        "\n",
        "train_data.select(F.explode(F.arrays_zip('token.result','label.result')).alias(\"cols\")) \\\n",
        "          .select(F.expr(\"cols['0']\").alias(\"token\"),\n",
        "                  F.expr(\"cols['1']\").alias(\"ground_truth\"))\\\n",
        "          .groupBy('ground_truth')\\\n",
        "          .count()\\\n",
        "          .orderBy('count', ascending=False)\\\n",
        "          .show(100,truncate=False)"
      ],
      "metadata": {
        "colab": {
          "base_uri": "https://localhost:8080/"
        },
        "id": "yvCgfnmE1mVT",
        "outputId": "fa7c507e-a922-4050-a570-3025b92ad93f"
      },
      "execution_count": 10,
      "outputs": [
        {
          "output_type": "stream",
          "name": "stdout",
          "text": [
            "+------------+------+\n",
            "|ground_truth|count |\n",
            "+------------+------+\n",
            "|O           |137736|\n",
            "|B-LOC       |7125  |\n",
            "|B-PER       |6596  |\n",
            "|B-ORG       |6288  |\n",
            "|I-PER       |4528  |\n",
            "|I-ORG       |3704  |\n",
            "|B-MISC      |3437  |\n",
            "|I-LOC       |1157  |\n",
            "|I-MISC      |1155  |\n",
            "+------------+------+\n",
            "\n"
          ]
        }
      ]
    },
    {
      "cell_type": "markdown",
      "source": [
        "### Test Data"
      ],
      "metadata": {
        "id": "JAEI8yHe1xUZ"
      }
    },
    {
      "cell_type": "code",
      "source": [
        "with open (\"eng.testa\") as f:\n",
        "  test_data = f.read()\n",
        "print (test_data[:500])"
      ],
      "metadata": {
        "colab": {
          "base_uri": "https://localhost:8080/"
        },
        "id": "g4bFA3o-1mR_",
        "outputId": "c11e52ea-4197-4277-825a-ec0326ca35b8"
      },
      "execution_count": 11,
      "outputs": [
        {
          "output_type": "stream",
          "name": "stdout",
          "text": [
            "-DOCSTART- -X- -X- O\n",
            "\n",
            "CRICKET NNP B-NP O\n",
            "- : O O\n",
            "LEICESTERSHIRE NNP B-NP B-ORG\n",
            "TAKE NNP I-NP O\n",
            "OVER IN B-PP O\n",
            "AT NNP B-NP O\n",
            "TOP NNP I-NP O\n",
            "AFTER NNP I-NP O\n",
            "INNINGS NNP I-NP O\n",
            "VICTORY NN I-NP O\n",
            ". . O O\n",
            "\n",
            "LONDON NNP B-NP B-LOC\n",
            "1996-08-30 CD I-NP O\n",
            "\n",
            "West NNP B-NP B-MISC\n",
            "Indian NNP I-NP I-MISC\n",
            "all-rounder NN I-NP O\n",
            "Phil NNP I-NP B-PER\n",
            "Simmons NNP I-NP I-PER\n",
            "took VBD B-VP O\n",
            "four CD B-NP O\n",
            "for IN B-PP O\n",
            "38 CD B-NP O\n",
            "on IN B-PP O\n",
            "Friday NNP B-NP O\n",
            "as IN B-PP O\n",
            "Leicestershire NNP B-NP B-ORG\n",
            "beat VBD B-VP\n"
          ]
        }
      ]
    },
    {
      "cell_type": "code",
      "source": [
        "test_data = CoNLL().readDataset(spark, 'eng.testa')\n",
        "test_data.show(3)"
      ],
      "metadata": {
        "colab": {
          "base_uri": "https://localhost:8080/"
        },
        "id": "JgdaJU_I1mPU",
        "outputId": "b211c60d-ea45-45a6-d2e8-f8cef774e847"
      },
      "execution_count": 12,
      "outputs": [
        {
          "output_type": "stream",
          "name": "stdout",
          "text": [
            "+--------------------+--------------------+--------------------+--------------------+--------------------+--------------------+\n",
            "|                text|            document|            sentence|               token|                 pos|               label|\n",
            "+--------------------+--------------------+--------------------+--------------------+--------------------+--------------------+\n",
            "|CRICKET - LEICEST...|[{document, 0, 64...|[{document, 0, 64...|[{token, 0, 6, CR...|[{pos, 0, 6, NNP,...|[{named_entity, 0...|\n",
            "|   LONDON 1996-08-30|[{document, 0, 16...|[{document, 0, 16...|[{token, 0, 5, LO...|[{pos, 0, 5, NNP,...|[{named_entity, 0...|\n",
            "|West Indian all-r...|[{document, 0, 18...|[{document, 0, 18...|[{token, 0, 3, We...|[{pos, 0, 3, NNP,...|[{named_entity, 0...|\n",
            "+--------------------+--------------------+--------------------+--------------------+--------------------+--------------------+\n",
            "only showing top 3 rows\n",
            "\n"
          ]
        }
      ]
    },
    {
      "cell_type": "code",
      "source": [
        "test_data.count()"
      ],
      "metadata": {
        "colab": {
          "base_uri": "https://localhost:8080/"
        },
        "id": "srimugPi1mMV",
        "outputId": "e7d901b7-5e35-4a66-a281-fda48dee66ec"
      },
      "execution_count": 13,
      "outputs": [
        {
          "output_type": "execute_result",
          "data": {
            "text/plain": [
              "3250"
            ]
          },
          "metadata": {},
          "execution_count": 13
        }
      ]
    },
    {
      "cell_type": "code",
      "source": [
        "test_data.select(F.explode(F.arrays_zip(\"token.result\",\"label.result\")).alias(\"cols\")) \\\n",
        ".select(F.expr(\"cols['0']\").alias(\"token\"),\n",
        "        F.expr(\"cols['1']\").alias(\"ground_truth\")).groupBy(\"ground_truth\").count().orderBy(\"count\", ascending=False).show(100,truncate=False)"
      ],
      "metadata": {
        "colab": {
          "base_uri": "https://localhost:8080/"
        },
        "id": "lXFijm4J179Q",
        "outputId": "53283c64-19fb-4d92-9111-30849c64d7c5"
      },
      "execution_count": 14,
      "outputs": [
        {
          "output_type": "stream",
          "name": "stdout",
          "text": [
            "+------------+-----+\n",
            "|ground_truth|count|\n",
            "+------------+-----+\n",
            "|O           |42759|\n",
            "|B-PER       |1842 |\n",
            "|B-LOC       |1837 |\n",
            "|B-ORG       |1341 |\n",
            "|I-PER       |1307 |\n",
            "|B-MISC      |922  |\n",
            "|I-ORG       |751  |\n",
            "|I-MISC      |346  |\n",
            "|I-LOC       |257  |\n",
            "+------------+-----+\n",
            "\n"
          ]
        }
      ]
    },
    {
      "cell_type": "markdown",
      "source": [
        "# NERDL Model with Glove_100d"
      ],
      "metadata": {
        "id": "Wh7gkE_82GFq"
      }
    },
    {
      "cell_type": "code",
      "source": [
        "glove_embeddings = WordEmbeddingsModel.pretrained()\\\n",
        "    .setInputCols([\"sentence\", \"token\"])\\\n",
        "    .setOutputCol(\"embeddings\")"
      ],
      "metadata": {
        "colab": {
          "base_uri": "https://localhost:8080/"
        },
        "id": "ihkc4RGl176c",
        "outputId": "e20830a3-b349-4c3c-8e2c-b18a02496f8e"
      },
      "execution_count": 15,
      "outputs": [
        {
          "output_type": "stream",
          "name": "stdout",
          "text": [
            "glove_100d download started this may take some time.\n",
            "Approximate size to download 145.3 MB\n",
            "[OK!]\n"
          ]
        }
      ]
    },
    {
      "cell_type": "code",
      "source": [
        "glove_embeddings.transform(test_data).write.parquet('test_data_embeddings.parquet')"
      ],
      "metadata": {
        "id": "TiEnifQq172n"
      },
      "execution_count": 16,
      "outputs": []
    },
    {
      "cell_type": "code",
      "source": [
        "nerTagger = NerDLApproach()\\\n",
        "    .setInputCols([\"sentence\", \"token\", \"embeddings\"])\\\n",
        "    .setLabelColumn(\"label\")\\\n",
        "    .setOutputCol(\"ner\")\\\n",
        "    .setMaxEpochs(8)\\\n",
        "    .setLr(0.002)\\\n",
        "    .setDropout(0.5)\\\n",
        "    .setBatchSize(16)\\\n",
        "    .setRandomSeed(0)\\\n",
        "    .setVerbose(1)\\\n",
        "    .setEvaluationLogExtended(True) \\\n",
        "    .setEnableOutputLogs(True)\\\n",
        "    .setIncludeConfidence(True)\\\n",
        "    .setTestDataset('test_data_embeddings.parquet')\\\n",
        "    .setEnableMemoryOptimizer(False)\n",
        "\n",
        "ner_pipeline = Pipeline(stages=[\n",
        "      glove_embeddings,\n",
        "      nerTagger\n",
        "])"
      ],
      "metadata": {
        "id": "Tjh34nJL2QUJ"
      },
      "execution_count": 17,
      "outputs": []
    },
    {
      "cell_type": "code",
      "source": [
        "%%time\n",
        "\n",
        "ner_model = ner_pipeline.fit(train_data)"
      ],
      "metadata": {
        "colab": {
          "base_uri": "https://localhost:8080/"
        },
        "id": "Va_L392U2QQy",
        "outputId": "2b63f253-1e4f-4fe0-caf3-90f2159ed6a5"
      },
      "execution_count": 19,
      "outputs": [
        {
          "output_type": "stream",
          "name": "stdout",
          "text": [
            "CPU times: user 10.6 s, sys: 1.08 s, total: 11.7 s\n",
            "Wall time: 35min 21s\n"
          ]
        }
      ]
    },
    {
      "cell_type": "code",
      "source": [
        "!cd ~/annotator_logs/ && ls -lt"
      ],
      "metadata": {
        "colab": {
          "base_uri": "https://localhost:8080/"
        },
        "id": "pDSGpqk92QNe",
        "outputId": "164744ad-e3f5-4b7d-b2ec-5945efecec00"
      },
      "execution_count": 20,
      "outputs": [
        {
          "output_type": "stream",
          "name": "stdout",
          "text": [
            "total 16\n",
            "-rw-r--r-- 1 root root 13178 Feb  6 17:05 NerDLApproach_c5bf4e4c6211.log\n"
          ]
        }
      ]
    },
    {
      "cell_type": "code",
      "source": [
        "!cat ~/annotator_logs/NerDLApproach_c5bf4e4c6211.log"
      ],
      "metadata": {
        "colab": {
          "base_uri": "https://localhost:8080/"
        },
        "id": "HZ8rot-D2QJ7",
        "outputId": "8546af45-d3f2-4619-c398-7e8ecd0d36ff"
      },
      "execution_count": 21,
      "outputs": [
        {
          "output_type": "stream",
          "name": "stdout",
          "text": [
            "Name of the selected graph: ner-dl/blstm_10_100_128_120.pb\n",
            "Training started - total epochs: 8 - lr: 0.002 - batch size: 16 - labels: 9 - chars: 82 - training examples: 11079\n",
            "\n",
            "\n",
            "Epoch 1/8 started, lr: 0.002, dataset size: 11079\n",
            "\n",
            "\n",
            "Epoch 1/8 - 159.93s - loss: 2234.436 - batches: 695\n",
            "Quality on test dataset: \n",
            "time to finish evaluation: 17.74s\n",
            "label\t tp\t fp\t fn\t prec\t rec\t f1\n",
            "B-LOC\t 1695\t 94\t 142\t 0.94745666\t 0.92270005\t 0.93491447\n",
            "I-ORG\t 528\t 76\t 223\t 0.8741722\t 0.7030626\t 0.77933586\n",
            "I-MISC\t 255\t 88\t 91\t 0.7434402\t 0.7369942\t 0.74020314\n",
            "I-LOC\t 189\t 14\t 68\t 0.9310345\t 0.73540854\t 0.8217391\n",
            "I-PER\t 1270\t 59\t 37\t 0.95560575\t 0.9716909\t 0.9635812\n",
            "B-MISC\t 797\t 142\t 125\t 0.84877527\t 0.8644252\t 0.85652876\n",
            "B-ORG\t 1139\t 170\t 202\t 0.8701299\t 0.8493661\t 0.85962266\n",
            "B-PER\t 1802\t 176\t 40\t 0.91102123\t 0.9782845\t 0.94345546\n",
            "tp: 7675 fp: 819 fn: 928 labels: 8\n",
            "Macro-average\t prec: 0.8852045, rec: 0.84524155, f1: 0.86476153\n",
            "Micro-average\t prec: 0.903579, rec: 0.8921307, f1: 0.8978184\n",
            "\n",
            "\n",
            "Epoch 2/8 started, lr: 0.0019900498, dataset size: 11079\n",
            "Name of the selected graph: ner-dl/blstm_10_100_128_120.pb\n",
            "Training started - total epochs: 8 - lr: 0.002 - batch size: 16 - labels: 9 - chars: 82 - training examples: 11079\n",
            "\n",
            "\n",
            "Epoch 1/8 started, lr: 0.002, dataset size: 11079\n",
            "\n",
            "\n",
            "Epoch 2/8 - 246.28s - loss: 839.1736 - batches: 695\n",
            "Quality on test dataset: \n",
            "time to finish evaluation: 19.66s\n",
            "label\t tp\t fp\t fn\t prec\t rec\t f1\n",
            "B-LOC\t 1762\t 124\t 75\t 0.9342524\t 0.95917255\t 0.9465484\n",
            "I-ORG\t 585\t 76\t 166\t 0.8850227\t 0.77896136\t 0.82861185\n",
            "I-MISC\t 247\t 39\t 99\t 0.8636364\t 0.71387285\t 0.7816456\n",
            "I-LOC\t 233\t 74\t 24\t 0.7589577\t 0.9066148\t 0.8262412\n",
            "I-PER\t 1275\t 54\t 32\t 0.95936793\t 0.97551644\t 0.9673748\n",
            "B-MISC\t 791\t 70\t 131\t 0.9186992\t 0.85791755\t 0.88726866\n",
            "B-ORG\t 1150\t 151\t 191\t 0.88393545\t 0.857569\t 0.8705526\n",
            "B-PER\t 1800\t 147\t 42\t 0.9244992\t 0.9771987\t 0.9501188\n",
            "tp: 7843 fp: 735 fn: 760 labels: 8\n",
            "Macro-average\t prec: 0.89104635, rec: 0.8783529, f1: 0.88465416\n",
            "Micro-average\t prec: 0.9143157, rec: 0.9116587, f1: 0.9129852\n",
            "\n",
            "\n",
            "Epoch 3/8 started, lr: 0.001980198, dataset size: 11079\n",
            "\n",
            "\n",
            "Epoch 1/8 - 254.10s - loss: 2203.116 - batches: 695\n",
            "Quality on test dataset: \n",
            "time to finish evaluation: 22.30s\n",
            "label\t tp\t fp\t fn\t prec\t rec\t f1\n",
            "B-LOC\t 1660\t 82\t 177\t 0.95292765\t 0.90364724\t 0.9276334\n",
            "I-ORG\t 560\t 123\t 191\t 0.81991214\t 0.74567246\t 0.781032\n",
            "I-MISC\t 227\t 65\t 119\t 0.7773973\t 0.65606934\t 0.7115987\n",
            "I-LOC\t 155\t 10\t 102\t 0.93939394\t 0.6031128\t 0.73459715\n",
            "I-PER\t 1259\t 60\t 48\t 0.954511\t 0.96327466\t 0.9588728\n",
            "B-MISC\t 762\t 110\t 160\t 0.8738532\t 0.82646424\t 0.8494984\n",
            "B-ORG\t 1160\t 237\t 181\t 0.83035076\t 0.8650261\t 0.8473338\n",
            "B-PER\t 1785\t 170\t 57\t 0.9130435\t 0.96905535\t 0.94021595\n",
            "tp: 7568 fp: 857 fn: 1035 labels: 8\n",
            "Macro-average\t prec: 0.88267374, rec: 0.81654024, f1: 0.84832007\n",
            "Micro-average\t prec: 0.89827895, rec: 0.87969315, f1: 0.8888889\n",
            "\n",
            "\n",
            "Epoch 2/8 started, lr: 0.0019900498, dataset size: 11079\n",
            "\n",
            "\n",
            "Epoch 3/8 - 257.88s - loss: 610.81525 - batches: 695\n",
            "Quality on test dataset: \n",
            "time to finish evaluation: 18.07s\n",
            "label\t tp\t fp\t fn\t prec\t rec\t f1\n",
            "B-LOC\t 1764\t 104\t 73\t 0.9443255\t 0.9602613\t 0.9522267\n",
            "I-ORG\t 640\t 140\t 111\t 0.82051283\t 0.85219705\t 0.8360548\n",
            "I-MISC\t 227\t 22\t 119\t 0.9116466\t 0.65606934\t 0.7630252\n",
            "I-LOC\t 223\t 43\t 34\t 0.8383459\t 0.8677043\t 0.8527725\n",
            "I-PER\t 1265\t 31\t 42\t 0.97608024\t 0.96786535\t 0.9719554\n",
            "B-MISC\t 785\t 62\t 137\t 0.9268005\t 0.85141\t 0.8875071\n",
            "B-ORG\t 1207\t 174\t 134\t 0.87400436\t 0.90007454\t 0.8868479\n",
            "B-PER\t 1795\t 94\t 47\t 0.9502382\t 0.97448426\t 0.96220857\n",
            "tp: 7906 fp: 670 fn: 697 labels: 8\n",
            "Macro-average\t prec: 0.90524435, rec: 0.87875825, f1: 0.8918047\n",
            "Micro-average\t prec: 0.921875, rec: 0.91898173, f1: 0.9204261\n",
            "\n",
            "\n",
            "Epoch 4/8 started, lr: 0.0019704434, dataset size: 11079\n",
            "\n",
            "\n",
            "Epoch 2/8 - 252.19s - loss: 828.8285 - batches: 695\n",
            "Quality on test dataset: \n",
            "time to finish evaluation: 17.37s\n",
            "label\t tp\t fp\t fn\t prec\t rec\t f1\n",
            "B-LOC\t 1722\t 67\t 115\t 0.9625489\t 0.93739796\t 0.9498069\n",
            "I-ORG\t 624\t 134\t 127\t 0.823219\t 0.83089215\t 0.8270378\n",
            "I-MISC\t 230\t 30\t 116\t 0.88461536\t 0.6647399\t 0.75907594\n",
            "I-LOC\t 199\t 13\t 58\t 0.9386792\t 0.77431905\t 0.8486141\n",
            "I-PER\t 1274\t 44\t 33\t 0.9666161\t 0.97475135\t 0.9706667\n",
            "B-MISC\t 787\t 70\t 135\t 0.9183197\t 0.85357916\t 0.8847667\n",
            "B-ORG\t 1212\t 204\t 129\t 0.8559322\t 0.9038031\t 0.87921643\n",
            "B-PER\t 1807\t 109\t 35\t 0.94311064\t 0.98099893\t 0.9616817\n",
            "tp: 7855 fp: 671 fn: 748 labels: 8\n",
            "Macro-average\t prec: 0.9116301, rec: 0.8650602, f1: 0.88773483\n",
            "Micro-average\t prec: 0.9212996, rec: 0.9130536, f1: 0.917158\n",
            "\n",
            "\n",
            "Epoch 3/8 started, lr: 0.001980198, dataset size: 11079\n",
            "\n",
            "\n",
            "Epoch 4/8 - 250.45s - loss: 512.68085 - batches: 695\n",
            "Quality on test dataset: \n",
            "time to finish evaluation: 17.78s\n",
            "label\t tp\t fp\t fn\t prec\t rec\t f1\n",
            "B-LOC\t 1767\t 78\t 70\t 0.95772356\t 0.9618944\t 0.9598045\n",
            "I-ORG\t 658\t 75\t 93\t 0.89768076\t 0.8761651\t 0.8867924\n",
            "I-MISC\t 257\t 38\t 89\t 0.87118644\t 0.74277455\t 0.801872\n",
            "I-LOC\t 229\t 18\t 28\t 0.9271255\t 0.8910506\t 0.9087302\n",
            "I-PER\t 1264\t 21\t 43\t 0.9836576\t 0.9671002\t 0.97530866\n",
            "B-MISC\t 841\t 127\t 81\t 0.86880165\t 0.9121475\t 0.8899471\n",
            "B-ORG\t 1202\t 114\t 139\t 0.9133739\t 0.89634603\t 0.90477985\n",
            "B-PER\t 1799\t 87\t 43\t 0.95387065\t 0.9766558\t 0.9651288\n",
            "tp: 8017 fp: 558 fn: 586 labels: 8\n",
            "Macro-average\t prec: 0.92167753, rec: 0.9030168, f1: 0.9122517\n",
            "Micro-average\t prec: 0.9349271, rec: 0.9318842, f1: 0.93340325\n",
            "\n",
            "\n",
            "Epoch 5/8 started, lr: 0.0019607844, dataset size: 11079\n",
            "\n",
            "\n",
            "Epoch 3/8 - 252.61s - loss: 604.5874 - batches: 695\n",
            "Quality on test dataset: \n",
            "time to finish evaluation: 18.28s\n",
            "label\t tp\t fp\t fn\t prec\t rec\t f1\n",
            "B-LOC\t 1764\t 112\t 73\t 0.9402985\t 0.9602613\t 0.95017505\n",
            "I-ORG\t 614\t 84\t 137\t 0.87965614\t 0.8175766\t 0.847481\n",
            "I-MISC\t 244\t 34\t 102\t 0.8776978\t 0.70520234\t 0.78205127\n",
            "I-LOC\t 220\t 29\t 37\t 0.88353413\t 0.8560311\t 0.8695652\n",
            "I-PER\t 1268\t 38\t 39\t 0.9709035\t 0.97016066\t 0.97053194\n",
            "B-MISC\t 799\t 96\t 123\t 0.89273745\t 0.8665944\t 0.87947166\n",
            "B-ORG\t 1205\t 123\t 136\t 0.9073795\t 0.8985832\t 0.90295994\n",
            "B-PER\t 1792\t 110\t 50\t 0.94216615\t 0.97285557\t 0.95726496\n",
            "tp: 7906 fp: 626 fn: 697 labels: 8\n",
            "Macro-average\t prec: 0.9117967, rec: 0.88090813, f1: 0.89608634\n",
            "Micro-average\t prec: 0.9266292, rec: 0.91898173, f1: 0.92278963\n",
            "\n",
            "\n",
            "Epoch 4/8 started, lr: 0.0019704434, dataset size: 11079\n",
            "\n",
            "\n",
            "Epoch 5/8 - 257.56s - loss: 437.73123 - batches: 695\n",
            "Quality on test dataset: \n",
            "time to finish evaluation: 17.89s\n",
            "label\t tp\t fp\t fn\t prec\t rec\t f1\n",
            "B-LOC\t 1806\t 163\t 31\t 0.91721684\t 0.9831247\t 0.94902784\n",
            "I-ORG\t 606\t 26\t 145\t 0.95886075\t 0.8069241\t 0.8763557\n",
            "I-MISC\t 287\t 99\t 59\t 0.7435233\t 0.82947975\t 0.78415304\n",
            "I-LOC\t 233\t 54\t 24\t 0.8118467\t 0.9066148\t 0.85661757\n",
            "I-PER\t 1273\t 26\t 34\t 0.9799846\t 0.9739862\t 0.9769762\n",
            "B-MISC\t 846\t 146\t 76\t 0.8528226\t 0.9175705\t 0.8840125\n",
            "B-ORG\t 1149\t 37\t 192\t 0.9688027\t 0.85682327\t 0.9093787\n",
            "B-PER\t 1797\t 77\t 45\t 0.9589114\t 0.97557\t 0.96716905\n",
            "tp: 7997 fp: 628 fn: 606 labels: 8\n",
            "Macro-average\t prec: 0.8989962, rec: 0.90626174, f1: 0.9026143\n",
            "Micro-average\t prec: 0.9271884, rec: 0.92955947, f1: 0.9283724\n",
            "\n",
            "\n",
            "Epoch 6/8 started, lr: 0.0019512196, dataset size: 11079\n",
            "\n",
            "\n",
            "Epoch 4/8 - 255.39s - loss: 508.80334 - batches: 695\n",
            "Quality on test dataset: \n",
            "time to finish evaluation: 17.63s\n",
            "label\t tp\t fp\t fn\t prec\t rec\t f1\n",
            "B-LOC\t 1799\t 270\t 38\t 0.8695022\t 0.9793141\t 0.921147\n",
            "I-ORG\t 616\t 97\t 135\t 0.86395514\t 0.82023966\t 0.8415301\n",
            "I-MISC\t 253\t 33\t 93\t 0.88461536\t 0.73121387\t 0.8006329\n",
            "I-LOC\t 236\t 117\t 21\t 0.66855526\t 0.91828793\t 0.77377045\n",
            "I-PER\t 1256\t 18\t 51\t 0.98587126\t 0.96097934\t 0.9732662\n",
            "B-MISC\t 799\t 66\t 123\t 0.92369944\t 0.8665944\t 0.89423615\n",
            "B-ORG\t 1162\t 106\t 179\t 0.9164038\t 0.86651754\t 0.89076275\n",
            "B-PER\t 1754\t 52\t 88\t 0.9712071\t 0.95222586\t 0.96162283\n",
            "tp: 7875 fp: 759 fn: 728 labels: 8\n",
            "Macro-average\t prec: 0.8854762, rec: 0.8869216, f1: 0.8861983\n",
            "Micro-average\t prec: 0.91209173, rec: 0.91537833, f1: 0.9137321\n",
            "\n",
            "\n",
            "Epoch 5/8 started, lr: 0.0019607844, dataset size: 11079\n",
            "\n",
            "\n",
            "Epoch 6/8 - 262.11s - loss: 382.8735 - batches: 695\n",
            "Quality on test dataset: \n",
            "time to finish evaluation: 17.92s\n",
            "label\t tp\t fp\t fn\t prec\t rec\t f1\n",
            "B-LOC\t 1749\t 61\t 88\t 0.96629834\t 0.9520958\t 0.95914453\n",
            "I-ORG\t 682\t 136\t 69\t 0.83374083\t 0.9081225\t 0.8693435\n",
            "I-MISC\t 268\t 40\t 78\t 0.8701299\t 0.7745665\t 0.81957185\n",
            "I-LOC\t 215\t 14\t 42\t 0.93886465\t 0.83657587\t 0.8847737\n",
            "I-PER\t 1280\t 39\t 27\t 0.97043216\t 0.979342\t 0.97486675\n",
            "B-MISC\t 837\t 96\t 85\t 0.8971061\t 0.90780914\t 0.90242594\n",
            "B-ORG\t 1232\t 120\t 109\t 0.9112426\t 0.9187174\t 0.91496474\n",
            "B-PER\t 1795\t 93\t 47\t 0.9507415\t 0.97448426\t 0.96246654\n",
            "tp: 8058 fp: 599 fn: 545 labels: 8\n",
            "Macro-average\t prec: 0.91731954, rec: 0.9064642, f1: 0.9118596\n",
            "Micro-average\t prec: 0.9308074, rec: 0.93665, f1: 0.9337195\n",
            "\n",
            "\n",
            "Epoch 7/8 started, lr: 0.0019417477, dataset size: 11079\n",
            "\n",
            "\n",
            "Epoch 5/8 - 263.75s - loss: 450.50388 - batches: 695\n",
            "Quality on test dataset: \n",
            "time to finish evaluation: 17.58s\n",
            "label\t tp\t fp\t fn\t prec\t rec\t f1\n",
            "B-LOC\t 1749\t 64\t 88\t 0.9646994\t 0.9520958\t 0.95835614\n",
            "I-ORG\t 689\t 180\t 62\t 0.79286534\t 0.9174434\t 0.85061723\n",
            "I-MISC\t 275\t 83\t 71\t 0.7681564\t 0.79479766\t 0.78124994\n",
            "I-LOC\t 210\t 16\t 47\t 0.9292035\t 0.8171206\t 0.8695652\n",
            "I-PER\t 1271\t 33\t 36\t 0.97469324\t 0.972456\t 0.9735733\n",
            "B-MISC\t 825\t 103\t 97\t 0.88900864\t 0.8947939\t 0.89189196\n",
            "B-ORG\t 1239\t 127\t 102\t 0.90702784\t 0.9239374\t 0.9154045\n",
            "B-PER\t 1791\t 71\t 51\t 0.96186894\t 0.9723127\t 0.96706253\n",
            "tp: 8049 fp: 677 fn: 554 labels: 8\n",
            "Macro-average\t prec: 0.89844036, rec: 0.90561974, f1: 0.90201575\n",
            "Micro-average\t prec: 0.9224158, rec: 0.93560386, f1: 0.92896307\n",
            "\n",
            "\n",
            "Epoch 6/8 started, lr: 0.0019512196, dataset size: 11079\n",
            "\n",
            "\n",
            "Epoch 7/8 - 262.34s - loss: 330.9146 - batches: 695\n",
            "Quality on test dataset: \n",
            "time to finish evaluation: 18.09s\n",
            "label\t tp\t fp\t fn\t prec\t rec\t f1\n",
            "B-LOC\t 1760\t 74\t 77\t 0.95965105\t 0.9580838\t 0.9588668\n",
            "I-ORG\t 630\t 36\t 121\t 0.9459459\t 0.8388815\t 0.88920254\n",
            "I-MISC\t 283\t 93\t 63\t 0.75265956\t 0.8179191\t 0.7839335\n",
            "I-LOC\t 225\t 20\t 32\t 0.9183673\t 0.8754864\t 0.8964143\n",
            "I-PER\t 1273\t 32\t 34\t 0.97547895\t 0.9739862\t 0.974732\n",
            "B-MISC\t 837\t 113\t 85\t 0.8810526\t 0.90780914\t 0.8942308\n",
            "B-ORG\t 1230\t 96\t 111\t 0.9276018\t 0.91722596\t 0.92238474\n",
            "B-PER\t 1801\t 70\t 41\t 0.9625869\t 0.9777416\t 0.97010505\n",
            "tp: 8039 fp: 534 fn: 564 labels: 8\n",
            "Macro-average\t prec: 0.915418, rec: 0.9083917, f1: 0.91189134\n",
            "Micro-average\t prec: 0.9377114, rec: 0.93444145, f1: 0.93607366\n",
            "\n",
            "\n",
            "Epoch 8/8 started, lr: 0.0019323673, dataset size: 11079\n",
            "\n",
            "\n",
            "Epoch 6/8 - 264.34s - loss: 384.8886 - batches: 695\n",
            "Quality on test dataset: \n",
            "time to finish evaluation: 18.07s\n",
            "label\t tp\t fp\t fn\t prec\t rec\t f1\n",
            "B-LOC\t 1772\t 84\t 65\t 0.95474136\t 0.96461624\t 0.9596534\n",
            "I-ORG\t 635\t 50\t 116\t 0.9270073\t 0.8455393\t 0.88440114\n",
            "I-MISC\t 274\t 78\t 72\t 0.77840906\t 0.7919075\t 0.7851002\n",
            "I-LOC\t 228\t 19\t 29\t 0.9230769\t 0.8871595\t 0.9047619\n",
            "I-PER\t 1273\t 32\t 34\t 0.97547895\t 0.9739862\t 0.974732\n",
            "B-MISC\t 842\t 125\t 80\t 0.8707342\t 0.9132321\t 0.8914769\n",
            "B-ORG\t 1218\t 86\t 123\t 0.93404907\t 0.9082774\t 0.920983\n",
            "B-PER\t 1791\t 65\t 51\t 0.96497846\t 0.9723127\t 0.9686317\n",
            "tp: 8033 fp: 539 fn: 570 labels: 8\n",
            "Macro-average\t prec: 0.9160594, rec: 0.90712893, f1: 0.9115723\n",
            "Micro-average\t prec: 0.93712085, rec: 0.933744, f1: 0.9354294\n",
            "\n",
            "\n",
            "Epoch 7/8 started, lr: 0.0019417477, dataset size: 11079\n",
            "\n",
            "\n",
            "Epoch 8/8 - 266.21s - loss: 301.41052 - batches: 695\n",
            "Quality on test dataset: \n",
            "time to finish evaluation: 18.45s\n",
            "label\t tp\t fp\t fn\t prec\t rec\t f1\n",
            "B-LOC\t 1768\t 68\t 69\t 0.962963\t 0.96243876\t 0.96270084\n",
            "I-ORG\t 658\t 49\t 93\t 0.9306931\t 0.8761651\t 0.9026063\n",
            "I-MISC\t 267\t 56\t 79\t 0.8266254\t 0.7716763\t 0.7982063\n",
            "I-LOC\t 228\t 14\t 29\t 0.94214875\t 0.8871595\t 0.91382766\n",
            "I-PER\t 1272\t 35\t 35\t 0.9732211\t 0.9732211\t 0.9732211\n",
            "B-MISC\t 834\t 98\t 88\t 0.8948498\t 0.9045553\t 0.8996764\n",
            "B-ORG\t 1239\t 97\t 102\t 0.9273952\t 0.9239374\t 0.925663\n",
            "B-PER\t 1806\t 94\t 36\t 0.9505263\t 0.98045605\t 0.9652592\n",
            "tp: 8072 fp: 511 fn: 531 labels: 8\n",
            "Macro-average\t prec: 0.9260528, rec: 0.90995115, f1: 0.9179313\n",
            "Micro-average\t prec: 0.9404637, rec: 0.93827736, f1: 0.9393693\n",
            "\n",
            "\n",
            "Epoch 7/8 - 256.62s - loss: 335.06775 - batches: 695\n",
            "Quality on test dataset: \n",
            "time to finish evaluation: 8.79s\n",
            "label\t tp\t fp\t fn\t prec\t rec\t f1\n",
            "B-LOC\t 1791\t 128\t 46\t 0.9332986\t 0.9749592\t 0.95367414\n",
            "I-ORG\t 639\t 78\t 112\t 0.8912134\t 0.8508655\t 0.8705722\n",
            "I-MISC\t 262\t 48\t 84\t 0.8451613\t 0.75722545\t 0.7987805\n",
            "I-LOC\t 238\t 60\t 19\t 0.7986577\t 0.92607003\t 0.8576577\n",
            "I-PER\t 1260\t 19\t 47\t 0.9851446\t 0.9640398\t 0.97447795\n",
            "B-MISC\t 811\t 72\t 111\t 0.9184598\t 0.8796095\t 0.89861494\n",
            "B-ORG\t 1215\t 95\t 126\t 0.92748094\t 0.90604025\t 0.9166353\n",
            "B-PER\t 1786\t 56\t 56\t 0.96959823\t 0.96959823\t 0.96959823\n",
            "tp: 8002 fp: 556 fn: 601 labels: 8\n",
            "Macro-average\t prec: 0.90862685, rec: 0.903551, f1: 0.9060818\n",
            "Micro-average\t prec: 0.93503153, rec: 0.9301407, f1: 0.9325797\n",
            "\n",
            "\n",
            "Epoch 8/8 started, lr: 0.0019323673, dataset size: 11079\n",
            "\n",
            "\n",
            "Epoch 8/8 - 133.22s - loss: 299.64578 - batches: 695\n",
            "Quality on test dataset: \n",
            "time to finish evaluation: 8.91s\n",
            "label\t tp\t fp\t fn\t prec\t rec\t f1\n",
            "B-LOC\t 1746\t 56\t 91\t 0.9689234\t 0.9504627\t 0.95960426\n",
            "I-ORG\t 673\t 77\t 78\t 0.8973333\t 0.8961385\t 0.8967355\n",
            "I-MISC\t 270\t 43\t 76\t 0.8626198\t 0.7803468\t 0.8194234\n",
            "I-LOC\t 223\t 10\t 34\t 0.95708156\t 0.8677043\t 0.9102041\n",
            "I-PER\t 1272\t 41\t 35\t 0.9687738\t 0.9732211\t 0.9709923\n",
            "B-MISC\t 832\t 109\t 90\t 0.88416576\t 0.9023861\t 0.893183\n",
            "B-ORG\t 1264\t 143\t 77\t 0.8983653\t 0.94258016\t 0.9199418\n",
            "B-PER\t 1801\t 76\t 41\t 0.95950985\t 0.9777416\t 0.9685399\n",
            "tp: 8081 fp: 555 fn: 522 labels: 8\n",
            "Macro-average\t prec: 0.9245966, rec: 0.9113227, f1: 0.91791165\n",
            "Micro-average\t prec: 0.93573415, rec: 0.9393235, f1: 0.9375254\n"
          ]
        }
      ]
    },
    {
      "cell_type": "code",
      "source": [
        "import pyspark.sql.functions as F\n",
        "\n",
        "predictions = ner_model.transform(test_data)\n",
        "\n",
        "predictions.select(F.explode(F.arrays_zip('token.result','label.result','ner.result')).alias(\"cols\")) \\\n",
        ".select(F.expr(\"cols['0']\").alias(\"token\"),\n",
        "        F.expr(\"cols['1']\").alias(\"ground_truth\"),\n",
        "        F.expr(\"cols['2']\").alias(\"prediction\")).show(truncate=False)"
      ],
      "metadata": {
        "colab": {
          "base_uri": "https://localhost:8080/"
        },
        "id": "DxErsLML2QGz",
        "outputId": "ada2d0af-3595-4fab-b9eb-6ed642e47c66"
      },
      "execution_count": 22,
      "outputs": [
        {
          "output_type": "stream",
          "name": "stdout",
          "text": [
            "+--------------+------------+----------+\n",
            "|token         |ground_truth|prediction|\n",
            "+--------------+------------+----------+\n",
            "|CRICKET       |O           |O         |\n",
            "|-             |O           |O         |\n",
            "|LEICESTERSHIRE|B-ORG       |B-ORG     |\n",
            "|TAKE          |O           |O         |\n",
            "|OVER          |O           |O         |\n",
            "|AT            |O           |O         |\n",
            "|TOP           |O           |O         |\n",
            "|AFTER         |O           |O         |\n",
            "|INNINGS       |O           |O         |\n",
            "|VICTORY       |O           |O         |\n",
            "|.             |O           |O         |\n",
            "|LONDON        |B-LOC       |B-LOC     |\n",
            "|1996-08-30    |O           |O         |\n",
            "|West          |B-MISC      |B-MISC    |\n",
            "|Indian        |I-MISC      |I-MISC    |\n",
            "|all-rounder   |O           |O         |\n",
            "|Phil          |B-PER       |B-PER     |\n",
            "|Simmons       |I-PER       |I-PER     |\n",
            "|took          |O           |O         |\n",
            "|four          |O           |O         |\n",
            "+--------------+------------+----------+\n",
            "only showing top 20 rows\n",
            "\n"
          ]
        }
      ]
    },
    {
      "cell_type": "code",
      "source": [
        "from sklearn.metrics import classification_report\n",
        "\n",
        "preds_df = predictions.select(F.explode(F.arrays_zip('token.result','label.result','ner.result')).alias(\"cols\")) \\\n",
        ".select(F.expr(\"cols['0']\").alias(\"token\"),\n",
        "        F.expr(\"cols['1']\").alias(\"ground_truth\"),\n",
        "        F.expr(\"cols['2']\").alias(\"prediction\")).toPandas()\n",
        "\n",
        "print (classification_report(preds_df['ground_truth'], preds_df['prediction']))"
      ],
      "metadata": {
        "colab": {
          "base_uri": "https://localhost:8080/"
        },
        "id": "Mt1ksnp72QDx",
        "outputId": "cf227124-3d4a-4f62-e368-3fa7b5778157"
      },
      "execution_count": 23,
      "outputs": [
        {
          "output_type": "stream",
          "name": "stdout",
          "text": [
            "              precision    recall  f1-score   support\n",
            "\n",
            "       B-LOC       0.97      0.95      0.96      1837\n",
            "      B-MISC       0.88      0.90      0.89       922\n",
            "       B-ORG       0.90      0.94      0.92      1341\n",
            "       B-PER       0.96      0.98      0.97      1842\n",
            "       I-LOC       0.96      0.87      0.91       257\n",
            "      I-MISC       0.86      0.78      0.82       346\n",
            "       I-ORG       0.90      0.90      0.90       751\n",
            "       I-PER       0.97      0.97      0.97      1307\n",
            "           O       1.00      1.00      1.00     42759\n",
            "\n",
            "    accuracy                           0.99     51362\n",
            "   macro avg       0.93      0.92      0.93     51362\n",
            "weighted avg       0.99      0.99      0.99     51362\n",
            "\n"
          ]
        }
      ]
    },
    {
      "cell_type": "markdown",
      "source": [
        "### Saving the Trained Model"
      ],
      "metadata": {
        "id": "PjqcWp-b3Rg_"
      }
    },
    {
      "cell_type": "code",
      "source": [
        "ner_model.stages"
      ],
      "metadata": {
        "colab": {
          "base_uri": "https://localhost:8080/"
        },
        "id": "wXe6E7Xu3Kjc",
        "outputId": "1aa1dbb2-f1b2-4943-de4a-4ad32b15901e"
      },
      "execution_count": 24,
      "outputs": [
        {
          "output_type": "execute_result",
          "data": {
            "text/plain": [
              "[WORD_EMBEDDINGS_MODEL_48cffc8b9a76, NerDLModel_6a88a8ead3fd]"
            ]
          },
          "metadata": {},
          "execution_count": 24
        }
      ]
    },
    {
      "cell_type": "code",
      "source": [
        "ner_model.stages[1].write().overwrite().save(\"/content/drive/MyDrive/SparkNLPTask/Ner_glove_100d_e8_b16_lr0.02\")"
      ],
      "metadata": {
        "id": "YoHZvWWe3Kfb"
      },
      "execution_count": 25,
      "outputs": []
    },
    {
      "cell_type": "markdown",
      "source": [
        "# Prediction Pipeline"
      ],
      "metadata": {
        "id": "TJ3GYf1hFw5O"
      }
    },
    {
      "cell_type": "code",
      "source": [
        "document = DocumentAssembler()\\\n",
        "    .setInputCol(\"text\")\\\n",
        "    .setOutputCol(\"document\")\n",
        "\n",
        "sentence = SentenceDetector()\\\n",
        "    .setInputCols(['document'])\\\n",
        "    .setOutputCol('sentence')\n",
        "\n",
        "token = Tokenizer()\\\n",
        "    .setInputCols(['sentence'])\\\n",
        "    .setOutputCol('token')\n",
        "    \n",
        "glove_embeddings = WordEmbeddingsModel.pretrained()\\\n",
        "    .setInputCols([\"document\", \"token\"])\\\n",
        "    .setOutputCol(\"embeddings\")\n",
        "\n",
        "loaded_ner_model = NerDLModel.load(\"/content/drive/MyDrive/SparkNLPTask/Ner_glove_100d_e8_b16_lr0.02\")\\\n",
        "    .setInputCols([\"sentence\", \"token\", \"embeddings\"])\\\n",
        "    .setOutputCol(\"ner\")\n",
        "\n",
        "converter = NerConverter()\\\n",
        "    .setInputCols([\"sentence\", \"token\", \"ner\"])\\\n",
        "    .setOutputCol(\"ner_span\")\n",
        "\n",
        "ner_prediction_pipeline = Pipeline(stages = [\n",
        "      document,\n",
        "      sentence,\n",
        "      token,\n",
        "      glove_embeddings,\n",
        "      loaded_ner_model,\n",
        "      converter\n",
        "  ])\n",
        "\n",
        "empty_data = spark.createDataFrame([['']]).toDF(\"text\")\n",
        "\n",
        "prediction_model = ner_prediction_pipeline.fit(empty_data)"
      ],
      "metadata": {
        "colab": {
          "base_uri": "https://localhost:8080/"
        },
        "id": "iVSSE7rE3Kb1",
        "outputId": "c8fb29f8-8fca-4259-887b-1afcfd8950db"
      },
      "execution_count": 28,
      "outputs": [
        {
          "output_type": "stream",
          "name": "stdout",
          "text": [
            "glove_100d download started this may take some time.\n",
            "Approximate size to download 145.3 MB\n",
            "[OK!]\n"
          ]
        }
      ]
    },
    {
      "cell_type": "code",
      "source": [
        "text = '''\n",
        "The final has its own Merseyside subplot, as it will pit Liverpool forwards Mo Salah (of Egypt: pictured above, in white, in the semi-final) and Sadio Mané (of Senegal) against each other. They are just two of the African stars to play for European clubs—the world’s strongest. In fact, only four teams in the English Premier League don’t have a player from the continent. Besides Mr Salah and Mr Mané, Riyad Mahrez of Algeria is at Manchester City, Wilfred Ndidi of Nigeria and Chelsea boasts Edouard Mendy, Senegal’s goalkeeper, and Hakim Ziyech of Morocco. In Italy’s Serie A, Kalidou Koulibaly of Senegal plays for Napoli and Franck Kessie of the Ivory Coast turns out for AC Milan. Eric Maxim Choupo-Moting of Cameroon and Bouna Sarr of Senegal both play for Bayern Munich, the dominant club in Germany’s Bundesliga.\n",
        "'''\n",
        "\n",
        "sample_data = spark.createDataFrame([[text]]).toDF(\"text\")\n",
        "\n",
        "sample_data.show(truncate=False)"
      ],
      "metadata": {
        "colab": {
          "base_uri": "https://localhost:8080/"
        },
        "id": "VACoq-ET3KYW",
        "outputId": "c9f0ea21-eabb-4450-9077-bd465446d20d"
      },
      "execution_count": 33,
      "outputs": [
        {
          "output_type": "stream",
          "name": "stdout",
          "text": [
            "+-------------------------------------------------------------------------------------------------------------------------------------------------------------------------------------------------------------------------------------------------------------------------------------------------------------------------------------------------------------------------------------------------------------------------------------------------------------------------------------------------------------------------------------------------------------------------------------------------------------------------------------------------------------------------------------------------------------------------------------------------------------------------------------------------------------------------------------------------------+\n",
            "|text                                                                                                                                                                                                                                                                                                                                                                                                                                                                                                                                                                                                                                                                                                                                                                                                                                                   |\n",
            "+-------------------------------------------------------------------------------------------------------------------------------------------------------------------------------------------------------------------------------------------------------------------------------------------------------------------------------------------------------------------------------------------------------------------------------------------------------------------------------------------------------------------------------------------------------------------------------------------------------------------------------------------------------------------------------------------------------------------------------------------------------------------------------------------------------------------------------------------------------+\n",
            "|\n",
            "The final has its own Merseyside subplot, as it will pit Liverpool forwards Mo Salah (of Egypt: pictured above, in white, in the semi-final) and Sadio Mané (of Senegal) against each other. They are just two of the African stars to play for European clubs—the world’s strongest. In fact, only four teams in the English Premier League don’t have a player from the continent. Besides Mr Salah and Mr Mané, Riyad Mahrez of Algeria is at Manchester City, Wilfred Ndidi of Nigeria and Chelsea boasts Edouard Mendy, Senegal’s goalkeeper, and Hakim Ziyech of Morocco. In Italy’s Serie A, Kalidou Koulibaly of Senegal plays for Napoli and Franck Kessie of the Ivory Coast turns out for AC Milan. Eric Maxim Choupo-Moting of Cameroon and Bouna Sarr of Senegal both play for Bayern Munich, the dominant club in Germany’s Bundesliga.\n",
            "|\n",
            "+-------------------------------------------------------------------------------------------------------------------------------------------------------------------------------------------------------------------------------------------------------------------------------------------------------------------------------------------------------------------------------------------------------------------------------------------------------------------------------------------------------------------------------------------------------------------------------------------------------------------------------------------------------------------------------------------------------------------------------------------------------------------------------------------------------------------------------------------------------+\n",
            "\n"
          ]
        }
      ]
    },
    {
      "cell_type": "code",
      "source": [
        "preds = prediction_model.transform(sample_data)\n",
        "\n",
        "result_df = preds.select(F.explode(F.arrays_zip(\"ner_span.result\",\"ner_span.metadata\")).alias(\"entities\")) \\\n",
        "                .select(F.expr(\"entities['0']\").alias(\"chunk\"),\n",
        "                        F.expr(\"entities['1'].entity\").alias(\"entity\")).show(truncate=False)"
      ],
      "metadata": {
        "colab": {
          "base_uri": "https://localhost:8080/"
        },
        "id": "-1Yd_iIXHF2d",
        "outputId": "5c867ea3-b4b6-4850-fa7b-6778190b5465"
      },
      "execution_count": 34,
      "outputs": [
        {
          "output_type": "stream",
          "name": "stdout",
          "text": [
            "+---------------+------+\n",
            "|chunk          |entity|\n",
            "+---------------+------+\n",
            "|Merseyside     |ORG   |\n",
            "|Liverpool      |ORG   |\n",
            "|Mo Salah       |PER   |\n",
            "|Egypt          |LOC   |\n",
            "|Sadio Mané     |PER   |\n",
            "|Senegal        |LOC   |\n",
            "|African        |MISC  |\n",
            "|European       |MISC  |\n",
            "|English        |MISC  |\n",
            "|Premier League |ORG   |\n",
            "|Mr Salah       |PER   |\n",
            "|Mr Mané        |PER   |\n",
            "|Riyad Mahrez   |PER   |\n",
            "|Algeria        |LOC   |\n",
            "|Manchester City|LOC   |\n",
            "|Wilfred Ndidi  |PER   |\n",
            "|Nigeria        |LOC   |\n",
            "|Chelsea        |ORG   |\n",
            "|Edouard Mendy  |PER   |\n",
            "|Senegal’s      |PER   |\n",
            "+---------------+------+\n",
            "only showing top 20 rows\n",
            "\n"
          ]
        }
      ]
    },
    {
      "cell_type": "code",
      "source": [
        "from sparknlp.base import LightPipeline\n",
        "\n",
        "light_model = LightPipeline(prediction_model)\n",
        "\n",
        "result = light_model.annotate(text)\n",
        "\n",
        "list(zip(result['token'], result['ner']))"
      ],
      "metadata": {
        "colab": {
          "base_uri": "https://localhost:8080/"
        },
        "id": "wSUpFoyMHy2D",
        "outputId": "413b9c97-215d-4a78-b6e2-712e5305e104"
      },
      "execution_count": 35,
      "outputs": [
        {
          "output_type": "execute_result",
          "data": {
            "text/plain": [
              "[('The', 'O'),\n",
              " ('final', 'O'),\n",
              " ('has', 'O'),\n",
              " ('its', 'O'),\n",
              " ('own', 'O'),\n",
              " ('Merseyside', 'B-ORG'),\n",
              " ('subplot', 'O'),\n",
              " (',', 'O'),\n",
              " ('as', 'O'),\n",
              " ('it', 'O'),\n",
              " ('will', 'O'),\n",
              " ('pit', 'O'),\n",
              " ('Liverpool', 'B-ORG'),\n",
              " ('forwards', 'O'),\n",
              " ('Mo', 'B-PER'),\n",
              " ('Salah', 'I-PER'),\n",
              " ('(', 'O'),\n",
              " ('of', 'O'),\n",
              " ('Egypt', 'B-LOC'),\n",
              " (':', 'O'),\n",
              " ('pictured', 'O'),\n",
              " ('above', 'O'),\n",
              " (',', 'O'),\n",
              " ('in', 'O'),\n",
              " ('white', 'O'),\n",
              " (',', 'O'),\n",
              " ('in', 'O'),\n",
              " ('the', 'O'),\n",
              " ('semi-final', 'O'),\n",
              " (')', 'O'),\n",
              " ('and', 'O'),\n",
              " ('Sadio', 'B-PER'),\n",
              " ('Mané', 'I-PER'),\n",
              " ('(', 'O'),\n",
              " ('of', 'O'),\n",
              " ('Senegal', 'B-LOC'),\n",
              " (')', 'O'),\n",
              " ('against', 'O'),\n",
              " ('each', 'O'),\n",
              " ('other', 'O'),\n",
              " ('.', 'O'),\n",
              " ('They', 'O'),\n",
              " ('are', 'O'),\n",
              " ('just', 'O'),\n",
              " ('two', 'O'),\n",
              " ('of', 'O'),\n",
              " ('the', 'O'),\n",
              " ('African', 'B-MISC'),\n",
              " ('stars', 'O'),\n",
              " ('to', 'O'),\n",
              " ('play', 'O'),\n",
              " ('for', 'O'),\n",
              " ('European', 'B-MISC'),\n",
              " ('clubs—the', 'O'),\n",
              " ('world’s', 'O'),\n",
              " ('strongest', 'O'),\n",
              " ('.', 'O'),\n",
              " ('In', 'O'),\n",
              " ('fact', 'O'),\n",
              " (',', 'O'),\n",
              " ('only', 'O'),\n",
              " ('four', 'O'),\n",
              " ('teams', 'O'),\n",
              " ('in', 'O'),\n",
              " ('the', 'O'),\n",
              " ('English', 'B-MISC'),\n",
              " ('Premier', 'B-ORG'),\n",
              " ('League', 'I-ORG'),\n",
              " ('don’t', 'O'),\n",
              " ('have', 'O'),\n",
              " ('a', 'O'),\n",
              " ('player', 'O'),\n",
              " ('from', 'O'),\n",
              " ('the', 'O'),\n",
              " ('continent', 'O'),\n",
              " ('.', 'O'),\n",
              " ('Besides', 'O'),\n",
              " ('Mr', 'B-PER'),\n",
              " ('Salah', 'I-PER'),\n",
              " ('and', 'O'),\n",
              " ('Mr', 'B-PER'),\n",
              " ('Mané', 'I-PER'),\n",
              " (',', 'O'),\n",
              " ('Riyad', 'B-PER'),\n",
              " ('Mahrez', 'I-PER'),\n",
              " ('of', 'O'),\n",
              " ('Algeria', 'B-LOC'),\n",
              " ('is', 'O'),\n",
              " ('at', 'O'),\n",
              " ('Manchester', 'B-LOC'),\n",
              " ('City', 'I-LOC'),\n",
              " (',', 'O'),\n",
              " ('Wilfred', 'B-PER'),\n",
              " ('Ndidi', 'I-PER'),\n",
              " ('of', 'O'),\n",
              " ('Nigeria', 'B-LOC'),\n",
              " ('and', 'O'),\n",
              " ('Chelsea', 'B-ORG'),\n",
              " ('boasts', 'O'),\n",
              " ('Edouard', 'B-PER'),\n",
              " ('Mendy', 'I-PER'),\n",
              " (',', 'O'),\n",
              " ('Senegal’s', 'B-PER'),\n",
              " ('goalkeeper', 'O'),\n",
              " (',', 'O'),\n",
              " ('and', 'O'),\n",
              " ('Hakim', 'B-PER'),\n",
              " ('Ziyech', 'I-PER'),\n",
              " ('of', 'O'),\n",
              " ('Morocco', 'B-LOC'),\n",
              " ('.', 'O'),\n",
              " ('In', 'O'),\n",
              " ('Italy’s', 'B-MISC'),\n",
              " ('Serie', 'I-MISC'),\n",
              " ('A', 'I-MISC'),\n",
              " (',', 'O'),\n",
              " ('Kalidou', 'B-PER'),\n",
              " ('Koulibaly', 'I-PER'),\n",
              " ('of', 'O'),\n",
              " ('Senegal', 'B-LOC'),\n",
              " ('plays', 'O'),\n",
              " ('for', 'O'),\n",
              " ('Napoli', 'B-ORG'),\n",
              " ('and', 'O'),\n",
              " ('Franck', 'B-PER'),\n",
              " ('Kessie', 'I-PER'),\n",
              " ('of', 'O'),\n",
              " ('the', 'O'),\n",
              " ('Ivory', 'B-LOC'),\n",
              " ('Coast', 'I-LOC'),\n",
              " ('turns', 'O'),\n",
              " ('out', 'O'),\n",
              " ('for', 'O'),\n",
              " ('AC', 'B-ORG'),\n",
              " ('Milan', 'I-ORG'),\n",
              " ('.', 'O'),\n",
              " ('Eric', 'B-PER'),\n",
              " ('Maxim', 'I-PER'),\n",
              " ('Choupo-Moting', 'I-PER'),\n",
              " ('of', 'O'),\n",
              " ('Cameroon', 'B-LOC'),\n",
              " ('and', 'O'),\n",
              " ('Bouna', 'B-PER'),\n",
              " ('Sarr', 'I-PER'),\n",
              " ('of', 'O'),\n",
              " ('Senegal', 'B-LOC'),\n",
              " ('both', 'O'),\n",
              " ('play', 'O'),\n",
              " ('for', 'O'),\n",
              " ('Bayern', 'B-ORG'),\n",
              " ('Munich', 'I-ORG'),\n",
              " (',', 'O'),\n",
              " ('the', 'O'),\n",
              " ('dominant', 'O'),\n",
              " ('club', 'O'),\n",
              " ('in', 'O'),\n",
              " ('Germany’s', 'B-MISC'),\n",
              " ('Bundesliga', 'I-MISC'),\n",
              " ('.', 'O')]"
            ]
          },
          "metadata": {},
          "execution_count": 35
        }
      ]
    },
    {
      "cell_type": "code",
      "source": [
        "import pandas as pd\n",
        "\n",
        "result = light_model.fullAnnotate(text)\n",
        "\n",
        "ner_df= pd.DataFrame([(int(x.metadata['sentence']), x.result, x.begin, x.end, y.result) for x,y in zip(result[0][\"token\"], result[0][\"ner\"])], \n",
        "                      columns=['sent_id','token','start','end','ner'])\n",
        "ner_df.head(15)"
      ],
      "metadata": {
        "colab": {
          "base_uri": "https://localhost:8080/",
          "height": 514
        },
        "id": "Emnd4T6jHyjk",
        "outputId": "29542f47-eb88-489a-f27f-fb53d7b51215"
      },
      "execution_count": 37,
      "outputs": [
        {
          "output_type": "execute_result",
          "data": {
            "text/html": [
              "\n",
              "  <div id=\"df-80f48448-40fd-415b-bfcc-513f112c87c4\">\n",
              "    <div class=\"colab-df-container\">\n",
              "      <div>\n",
              "<style scoped>\n",
              "    .dataframe tbody tr th:only-of-type {\n",
              "        vertical-align: middle;\n",
              "    }\n",
              "\n",
              "    .dataframe tbody tr th {\n",
              "        vertical-align: top;\n",
              "    }\n",
              "\n",
              "    .dataframe thead th {\n",
              "        text-align: right;\n",
              "    }\n",
              "</style>\n",
              "<table border=\"1\" class=\"dataframe\">\n",
              "  <thead>\n",
              "    <tr style=\"text-align: right;\">\n",
              "      <th></th>\n",
              "      <th>sent_id</th>\n",
              "      <th>token</th>\n",
              "      <th>start</th>\n",
              "      <th>end</th>\n",
              "      <th>ner</th>\n",
              "    </tr>\n",
              "  </thead>\n",
              "  <tbody>\n",
              "    <tr>\n",
              "      <th>0</th>\n",
              "      <td>0</td>\n",
              "      <td>The</td>\n",
              "      <td>1</td>\n",
              "      <td>3</td>\n",
              "      <td>O</td>\n",
              "    </tr>\n",
              "    <tr>\n",
              "      <th>1</th>\n",
              "      <td>0</td>\n",
              "      <td>final</td>\n",
              "      <td>5</td>\n",
              "      <td>9</td>\n",
              "      <td>O</td>\n",
              "    </tr>\n",
              "    <tr>\n",
              "      <th>2</th>\n",
              "      <td>0</td>\n",
              "      <td>has</td>\n",
              "      <td>11</td>\n",
              "      <td>13</td>\n",
              "      <td>O</td>\n",
              "    </tr>\n",
              "    <tr>\n",
              "      <th>3</th>\n",
              "      <td>0</td>\n",
              "      <td>its</td>\n",
              "      <td>15</td>\n",
              "      <td>17</td>\n",
              "      <td>O</td>\n",
              "    </tr>\n",
              "    <tr>\n",
              "      <th>4</th>\n",
              "      <td>0</td>\n",
              "      <td>own</td>\n",
              "      <td>19</td>\n",
              "      <td>21</td>\n",
              "      <td>O</td>\n",
              "    </tr>\n",
              "    <tr>\n",
              "      <th>5</th>\n",
              "      <td>0</td>\n",
              "      <td>Merseyside</td>\n",
              "      <td>23</td>\n",
              "      <td>32</td>\n",
              "      <td>B-ORG</td>\n",
              "    </tr>\n",
              "    <tr>\n",
              "      <th>6</th>\n",
              "      <td>0</td>\n",
              "      <td>subplot</td>\n",
              "      <td>34</td>\n",
              "      <td>40</td>\n",
              "      <td>O</td>\n",
              "    </tr>\n",
              "    <tr>\n",
              "      <th>7</th>\n",
              "      <td>0</td>\n",
              "      <td>,</td>\n",
              "      <td>41</td>\n",
              "      <td>41</td>\n",
              "      <td>O</td>\n",
              "    </tr>\n",
              "    <tr>\n",
              "      <th>8</th>\n",
              "      <td>0</td>\n",
              "      <td>as</td>\n",
              "      <td>43</td>\n",
              "      <td>44</td>\n",
              "      <td>O</td>\n",
              "    </tr>\n",
              "    <tr>\n",
              "      <th>9</th>\n",
              "      <td>0</td>\n",
              "      <td>it</td>\n",
              "      <td>46</td>\n",
              "      <td>47</td>\n",
              "      <td>O</td>\n",
              "    </tr>\n",
              "    <tr>\n",
              "      <th>10</th>\n",
              "      <td>0</td>\n",
              "      <td>will</td>\n",
              "      <td>49</td>\n",
              "      <td>52</td>\n",
              "      <td>O</td>\n",
              "    </tr>\n",
              "    <tr>\n",
              "      <th>11</th>\n",
              "      <td>0</td>\n",
              "      <td>pit</td>\n",
              "      <td>54</td>\n",
              "      <td>56</td>\n",
              "      <td>O</td>\n",
              "    </tr>\n",
              "    <tr>\n",
              "      <th>12</th>\n",
              "      <td>0</td>\n",
              "      <td>Liverpool</td>\n",
              "      <td>58</td>\n",
              "      <td>66</td>\n",
              "      <td>B-ORG</td>\n",
              "    </tr>\n",
              "    <tr>\n",
              "      <th>13</th>\n",
              "      <td>0</td>\n",
              "      <td>forwards</td>\n",
              "      <td>68</td>\n",
              "      <td>75</td>\n",
              "      <td>O</td>\n",
              "    </tr>\n",
              "    <tr>\n",
              "      <th>14</th>\n",
              "      <td>0</td>\n",
              "      <td>Mo</td>\n",
              "      <td>77</td>\n",
              "      <td>78</td>\n",
              "      <td>B-PER</td>\n",
              "    </tr>\n",
              "  </tbody>\n",
              "</table>\n",
              "</div>\n",
              "      <button class=\"colab-df-convert\" onclick=\"convertToInteractive('df-80f48448-40fd-415b-bfcc-513f112c87c4')\"\n",
              "              title=\"Convert this dataframe to an interactive table.\"\n",
              "              style=\"display:none;\">\n",
              "        \n",
              "  <svg xmlns=\"http://www.w3.org/2000/svg\" height=\"24px\"viewBox=\"0 0 24 24\"\n",
              "       width=\"24px\">\n",
              "    <path d=\"M0 0h24v24H0V0z\" fill=\"none\"/>\n",
              "    <path d=\"M18.56 5.44l.94 2.06.94-2.06 2.06-.94-2.06-.94-.94-2.06-.94 2.06-2.06.94zm-11 1L8.5 8.5l.94-2.06 2.06-.94-2.06-.94L8.5 2.5l-.94 2.06-2.06.94zm10 10l.94 2.06.94-2.06 2.06-.94-2.06-.94-.94-2.06-.94 2.06-2.06.94z\"/><path d=\"M17.41 7.96l-1.37-1.37c-.4-.4-.92-.59-1.43-.59-.52 0-1.04.2-1.43.59L10.3 9.45l-7.72 7.72c-.78.78-.78 2.05 0 2.83L4 21.41c.39.39.9.59 1.41.59.51 0 1.02-.2 1.41-.59l7.78-7.78 2.81-2.81c.8-.78.8-2.07 0-2.86zM5.41 20L4 18.59l7.72-7.72 1.47 1.35L5.41 20z\"/>\n",
              "  </svg>\n",
              "      </button>\n",
              "      \n",
              "  <style>\n",
              "    .colab-df-container {\n",
              "      display:flex;\n",
              "      flex-wrap:wrap;\n",
              "      gap: 12px;\n",
              "    }\n",
              "\n",
              "    .colab-df-convert {\n",
              "      background-color: #E8F0FE;\n",
              "      border: none;\n",
              "      border-radius: 50%;\n",
              "      cursor: pointer;\n",
              "      display: none;\n",
              "      fill: #1967D2;\n",
              "      height: 32px;\n",
              "      padding: 0 0 0 0;\n",
              "      width: 32px;\n",
              "    }\n",
              "\n",
              "    .colab-df-convert:hover {\n",
              "      background-color: #E2EBFA;\n",
              "      box-shadow: 0px 1px 2px rgba(60, 64, 67, 0.3), 0px 1px 3px 1px rgba(60, 64, 67, 0.15);\n",
              "      fill: #174EA6;\n",
              "    }\n",
              "\n",
              "    [theme=dark] .colab-df-convert {\n",
              "      background-color: #3B4455;\n",
              "      fill: #D2E3FC;\n",
              "    }\n",
              "\n",
              "    [theme=dark] .colab-df-convert:hover {\n",
              "      background-color: #434B5C;\n",
              "      box-shadow: 0px 1px 3px 1px rgba(0, 0, 0, 0.15);\n",
              "      filter: drop-shadow(0px 1px 2px rgba(0, 0, 0, 0.3));\n",
              "      fill: #FFFFFF;\n",
              "    }\n",
              "  </style>\n",
              "\n",
              "      <script>\n",
              "        const buttonEl =\n",
              "          document.querySelector('#df-80f48448-40fd-415b-bfcc-513f112c87c4 button.colab-df-convert');\n",
              "        buttonEl.style.display =\n",
              "          google.colab.kernel.accessAllowed ? 'block' : 'none';\n",
              "\n",
              "        async function convertToInteractive(key) {\n",
              "          const element = document.querySelector('#df-80f48448-40fd-415b-bfcc-513f112c87c4');\n",
              "          const dataTable =\n",
              "            await google.colab.kernel.invokeFunction('convertToInteractive',\n",
              "                                                     [key], {});\n",
              "          if (!dataTable) return;\n",
              "\n",
              "          const docLinkHtml = 'Like what you see? Visit the ' +\n",
              "            '<a target=\"_blank\" href=https://colab.research.google.com/notebooks/data_table.ipynb>data table notebook</a>'\n",
              "            + ' to learn more about interactive tables.';\n",
              "          element.innerHTML = '';\n",
              "          dataTable['output_type'] = 'display_data';\n",
              "          await google.colab.output.renderOutput(dataTable, element);\n",
              "          const docLink = document.createElement('div');\n",
              "          docLink.innerHTML = docLinkHtml;\n",
              "          element.appendChild(docLink);\n",
              "        }\n",
              "      </script>\n",
              "    </div>\n",
              "  </div>\n",
              "  "
            ],
            "text/plain": [
              "    sent_id       token  start  end    ner\n",
              "0         0         The      1    3      O\n",
              "1         0       final      5    9      O\n",
              "2         0         has     11   13      O\n",
              "3         0         its     15   17      O\n",
              "4         0         own     19   21      O\n",
              "5         0  Merseyside     23   32  B-ORG\n",
              "6         0     subplot     34   40      O\n",
              "7         0           ,     41   41      O\n",
              "8         0          as     43   44      O\n",
              "9         0          it     46   47      O\n",
              "10        0        will     49   52      O\n",
              "11        0         pit     54   56      O\n",
              "12        0   Liverpool     58   66  B-ORG\n",
              "13        0    forwards     68   75      O\n",
              "14        0          Mo     77   78  B-PER"
            ]
          },
          "metadata": {},
          "execution_count": 37
        }
      ]
    },
    {
      "cell_type": "markdown",
      "source": [
        "### Highlight Entities"
      ],
      "metadata": {
        "id": "GsWm7aqsI3eY"
      }
    },
    {
      "cell_type": "code",
      "source": [
        "ann_text = light_model.fullAnnotate(text)[0]\n",
        "ann_text.keys()"
      ],
      "metadata": {
        "colab": {
          "base_uri": "https://localhost:8080/"
        },
        "id": "Pgomts2lIudf",
        "outputId": "081be3cc-3127-4615-e8af-1d24a63d0a88"
      },
      "execution_count": 38,
      "outputs": [
        {
          "output_type": "execute_result",
          "data": {
            "text/plain": [
              "dict_keys(['document', 'ner_span', 'token', 'ner', 'embeddings', 'sentence'])"
            ]
          },
          "metadata": {},
          "execution_count": 38
        }
      ]
    },
    {
      "cell_type": "code",
      "source": [
        "from sparknlp_display import NerVisualizer\n",
        "\n",
        "visualiser = NerVisualizer()\n",
        "print ('Standard Output')\n",
        "visualiser.display(ann_text, label_col='ner_span', document_col='document')"
      ],
      "metadata": {
        "colab": {
          "base_uri": "https://localhost:8080/",
          "height": 555
        },
        "id": "RoKhWwKyIuF1",
        "outputId": "28de5b9f-457f-4a79-a7d4-bec16ec32532"
      },
      "execution_count": 39,
      "outputs": [
        {
          "output_type": "stream",
          "name": "stdout",
          "text": [
            "Standard Output\n"
          ]
        },
        {
          "output_type": "display_data",
          "data": {
            "text/html": [
              "\n",
              "<style>\n",
              "    @import url('https://fonts.googleapis.com/css2?family=Montserrat:wght@300;400;500;600;700&display=swap');\n",
              "    @import url('https://fonts.googleapis.com/css2?family=Vistol Regular:wght@300;400;500;600;700&display=swap');\n",
              "    \n",
              "    .spark-nlp-display-scroll-entities {\n",
              "        border: 1px solid #E7EDF0;\n",
              "        border-radius: 3px;\n",
              "        text-align: justify;\n",
              "        \n",
              "    }\n",
              "    .spark-nlp-display-scroll-entities span {  \n",
              "        font-size: 14px;\n",
              "        line-height: 24px;\n",
              "        color: #536B76;\n",
              "        font-family: 'Montserrat', sans-serif !important;\n",
              "    }\n",
              "    \n",
              "    .spark-nlp-display-entity-wrapper{\n",
              "    \n",
              "        display: inline-grid;\n",
              "        text-align: center;\n",
              "        border-radius: 4px;\n",
              "        margin: 0 2px 5px 2px;\n",
              "        padding: 1px\n",
              "    }\n",
              "    .spark-nlp-display-entity-name{\n",
              "        font-size: 14px;\n",
              "        line-height: 24px;\n",
              "        font-family: 'Montserrat', sans-serif !important;\n",
              "        \n",
              "        background: #f1f2f3;\n",
              "        border-width: medium;\n",
              "        text-align: center;\n",
              "        \n",
              "        font-weight: 400;\n",
              "        \n",
              "        border-radius: 5px;\n",
              "        padding: 2px 5px;\n",
              "        display: block;\n",
              "        margin: 3px 2px;\n",
              "    \n",
              "    }\n",
              "    .spark-nlp-display-entity-type{\n",
              "        font-size: 14px;\n",
              "        line-height: 24px;\n",
              "        color: #ffffff;\n",
              "        font-family: 'Montserrat', sans-serif !important;\n",
              "        \n",
              "        text-transform: uppercase;\n",
              "        \n",
              "        font-weight: 500;\n",
              "\n",
              "        display: block;\n",
              "        padding: 3px 5px;\n",
              "    }\n",
              "    \n",
              "    .spark-nlp-display-entity-resolution{\n",
              "        font-size: 14px;\n",
              "        line-height: 24px;\n",
              "        color: #ffffff;\n",
              "        font-family: 'Vistol Regular', sans-serif !important;\n",
              "        \n",
              "        text-transform: uppercase;\n",
              "        \n",
              "        font-weight: 500;\n",
              "\n",
              "        display: block;\n",
              "        padding: 3px 5px;\n",
              "    }\n",
              "    \n",
              "    .spark-nlp-display-others{\n",
              "        font-size: 14px;\n",
              "        line-height: 24px;\n",
              "        font-family: 'Montserrat', sans-serif !important;\n",
              "        \n",
              "        font-weight: 400;\n",
              "    }\n",
              "\n",
              "</style>\n",
              " <span class=\"spark-nlp-display-others\" style=\"background-color: white\"><br>The final has its own </span><span class=\"spark-nlp-display-entity-wrapper\" style=\"background-color: #7F4810\"><span class=\"spark-nlp-display-entity-name\">Merseyside </span><span class=\"spark-nlp-display-entity-type\">ORG</span></span><span class=\"spark-nlp-display-others\" style=\"background-color: white\"> subplot, as it will pit </span><span class=\"spark-nlp-display-entity-wrapper\" style=\"background-color: #7F4810\"><span class=\"spark-nlp-display-entity-name\">Liverpool </span><span class=\"spark-nlp-display-entity-type\">ORG</span></span><span class=\"spark-nlp-display-others\" style=\"background-color: white\"> forwards </span><span class=\"spark-nlp-display-entity-wrapper\" style=\"background-color: #9F7021\"><span class=\"spark-nlp-display-entity-name\">Mo Salah </span><span class=\"spark-nlp-display-entity-type\">PER</span></span><span class=\"spark-nlp-display-others\" style=\"background-color: white\"> (of </span><span class=\"spark-nlp-display-entity-wrapper\" style=\"background-color: #B4C551\"><span class=\"spark-nlp-display-entity-name\">Egypt </span><span class=\"spark-nlp-display-entity-type\">LOC</span></span><span class=\"spark-nlp-display-others\" style=\"background-color: white\">: pictured above, in white, in the semi-final) and </span><span class=\"spark-nlp-display-entity-wrapper\" style=\"background-color: #9F7021\"><span class=\"spark-nlp-display-entity-name\">Sadio Mané </span><span class=\"spark-nlp-display-entity-type\">PER</span></span><span class=\"spark-nlp-display-others\" style=\"background-color: white\"> (of </span><span class=\"spark-nlp-display-entity-wrapper\" style=\"background-color: #B4C551\"><span class=\"spark-nlp-display-entity-name\">Senegal </span><span class=\"spark-nlp-display-entity-type\">LOC</span></span><span class=\"spark-nlp-display-others\" style=\"background-color: white\">) against each other. They are just two of the </span><span class=\"spark-nlp-display-entity-wrapper\" style=\"background-color: #AF5CB7\"><span class=\"spark-nlp-display-entity-name\">African </span><span class=\"spark-nlp-display-entity-type\">MISC</span></span><span class=\"spark-nlp-display-others\" style=\"background-color: white\"> stars to play for </span><span class=\"spark-nlp-display-entity-wrapper\" style=\"background-color: #AF5CB7\"><span class=\"spark-nlp-display-entity-name\">European </span><span class=\"spark-nlp-display-entity-type\">MISC</span></span><span class=\"spark-nlp-display-others\" style=\"background-color: white\"> clubs—the world’s strongest. In fact, only four teams in the </span><span class=\"spark-nlp-display-entity-wrapper\" style=\"background-color: #AF5CB7\"><span class=\"spark-nlp-display-entity-name\">English </span><span class=\"spark-nlp-display-entity-type\">MISC</span></span><span class=\"spark-nlp-display-others\" style=\"background-color: white\"> </span><span class=\"spark-nlp-display-entity-wrapper\" style=\"background-color: #7F4810\"><span class=\"spark-nlp-display-entity-name\">Premier League </span><span class=\"spark-nlp-display-entity-type\">ORG</span></span><span class=\"spark-nlp-display-others\" style=\"background-color: white\"> don’t have a player from the continent. Besides </span><span class=\"spark-nlp-display-entity-wrapper\" style=\"background-color: #9F7021\"><span class=\"spark-nlp-display-entity-name\">Mr Salah </span><span class=\"spark-nlp-display-entity-type\">PER</span></span><span class=\"spark-nlp-display-others\" style=\"background-color: white\"> and </span><span class=\"spark-nlp-display-entity-wrapper\" style=\"background-color: #9F7021\"><span class=\"spark-nlp-display-entity-name\">Mr Mané </span><span class=\"spark-nlp-display-entity-type\">PER</span></span><span class=\"spark-nlp-display-others\" style=\"background-color: white\">, </span><span class=\"spark-nlp-display-entity-wrapper\" style=\"background-color: #9F7021\"><span class=\"spark-nlp-display-entity-name\">Riyad Mahrez </span><span class=\"spark-nlp-display-entity-type\">PER</span></span><span class=\"spark-nlp-display-others\" style=\"background-color: white\"> of </span><span class=\"spark-nlp-display-entity-wrapper\" style=\"background-color: #B4C551\"><span class=\"spark-nlp-display-entity-name\">Algeria </span><span class=\"spark-nlp-display-entity-type\">LOC</span></span><span class=\"spark-nlp-display-others\" style=\"background-color: white\"> is at </span><span class=\"spark-nlp-display-entity-wrapper\" style=\"background-color: #B4C551\"><span class=\"spark-nlp-display-entity-name\">Manchester City </span><span class=\"spark-nlp-display-entity-type\">LOC</span></span><span class=\"spark-nlp-display-others\" style=\"background-color: white\">, </span><span class=\"spark-nlp-display-entity-wrapper\" style=\"background-color: #9F7021\"><span class=\"spark-nlp-display-entity-name\">Wilfred Ndidi </span><span class=\"spark-nlp-display-entity-type\">PER</span></span><span class=\"spark-nlp-display-others\" style=\"background-color: white\"> of </span><span class=\"spark-nlp-display-entity-wrapper\" style=\"background-color: #B4C551\"><span class=\"spark-nlp-display-entity-name\">Nigeria </span><span class=\"spark-nlp-display-entity-type\">LOC</span></span><span class=\"spark-nlp-display-others\" style=\"background-color: white\"> and </span><span class=\"spark-nlp-display-entity-wrapper\" style=\"background-color: #7F4810\"><span class=\"spark-nlp-display-entity-name\">Chelsea </span><span class=\"spark-nlp-display-entity-type\">ORG</span></span><span class=\"spark-nlp-display-others\" style=\"background-color: white\"> boasts </span><span class=\"spark-nlp-display-entity-wrapper\" style=\"background-color: #9F7021\"><span class=\"spark-nlp-display-entity-name\">Edouard Mendy </span><span class=\"spark-nlp-display-entity-type\">PER</span></span><span class=\"spark-nlp-display-others\" style=\"background-color: white\">, </span><span class=\"spark-nlp-display-entity-wrapper\" style=\"background-color: #9F7021\"><span class=\"spark-nlp-display-entity-name\">Senegal’s </span><span class=\"spark-nlp-display-entity-type\">PER</span></span><span class=\"spark-nlp-display-others\" style=\"background-color: white\"> goalkeeper, and </span><span class=\"spark-nlp-display-entity-wrapper\" style=\"background-color: #9F7021\"><span class=\"spark-nlp-display-entity-name\">Hakim Ziyech </span><span class=\"spark-nlp-display-entity-type\">PER</span></span><span class=\"spark-nlp-display-others\" style=\"background-color: white\"> of </span><span class=\"spark-nlp-display-entity-wrapper\" style=\"background-color: #B4C551\"><span class=\"spark-nlp-display-entity-name\">Morocco </span><span class=\"spark-nlp-display-entity-type\">LOC</span></span><span class=\"spark-nlp-display-others\" style=\"background-color: white\">. In </span><span class=\"spark-nlp-display-entity-wrapper\" style=\"background-color: #AF5CB7\"><span class=\"spark-nlp-display-entity-name\">Italy’s Serie A </span><span class=\"spark-nlp-display-entity-type\">MISC</span></span><span class=\"spark-nlp-display-others\" style=\"background-color: white\">, </span><span class=\"spark-nlp-display-entity-wrapper\" style=\"background-color: #9F7021\"><span class=\"spark-nlp-display-entity-name\">Kalidou Koulibaly </span><span class=\"spark-nlp-display-entity-type\">PER</span></span><span class=\"spark-nlp-display-others\" style=\"background-color: white\"> of </span><span class=\"spark-nlp-display-entity-wrapper\" style=\"background-color: #B4C551\"><span class=\"spark-nlp-display-entity-name\">Senegal </span><span class=\"spark-nlp-display-entity-type\">LOC</span></span><span class=\"spark-nlp-display-others\" style=\"background-color: white\"> plays for </span><span class=\"spark-nlp-display-entity-wrapper\" style=\"background-color: #7F4810\"><span class=\"spark-nlp-display-entity-name\">Napoli </span><span class=\"spark-nlp-display-entity-type\">ORG</span></span><span class=\"spark-nlp-display-others\" style=\"background-color: white\"> and </span><span class=\"spark-nlp-display-entity-wrapper\" style=\"background-color: #9F7021\"><span class=\"spark-nlp-display-entity-name\">Franck Kessie </span><span class=\"spark-nlp-display-entity-type\">PER</span></span><span class=\"spark-nlp-display-others\" style=\"background-color: white\"> of the </span><span class=\"spark-nlp-display-entity-wrapper\" style=\"background-color: #B4C551\"><span class=\"spark-nlp-display-entity-name\">Ivory Coast </span><span class=\"spark-nlp-display-entity-type\">LOC</span></span><span class=\"spark-nlp-display-others\" style=\"background-color: white\"> turns out for </span><span class=\"spark-nlp-display-entity-wrapper\" style=\"background-color: #7F4810\"><span class=\"spark-nlp-display-entity-name\">AC Milan </span><span class=\"spark-nlp-display-entity-type\">ORG</span></span><span class=\"spark-nlp-display-others\" style=\"background-color: white\">. </span><span class=\"spark-nlp-display-entity-wrapper\" style=\"background-color: #9F7021\"><span class=\"spark-nlp-display-entity-name\">Eric Maxim Choupo-Moting </span><span class=\"spark-nlp-display-entity-type\">PER</span></span><span class=\"spark-nlp-display-others\" style=\"background-color: white\"> of </span><span class=\"spark-nlp-display-entity-wrapper\" style=\"background-color: #B4C551\"><span class=\"spark-nlp-display-entity-name\">Cameroon </span><span class=\"spark-nlp-display-entity-type\">LOC</span></span><span class=\"spark-nlp-display-others\" style=\"background-color: white\"> and </span><span class=\"spark-nlp-display-entity-wrapper\" style=\"background-color: #9F7021\"><span class=\"spark-nlp-display-entity-name\">Bouna Sarr </span><span class=\"spark-nlp-display-entity-type\">PER</span></span><span class=\"spark-nlp-display-others\" style=\"background-color: white\"> of </span><span class=\"spark-nlp-display-entity-wrapper\" style=\"background-color: #B4C551\"><span class=\"spark-nlp-display-entity-name\">Senegal </span><span class=\"spark-nlp-display-entity-type\">LOC</span></span><span class=\"spark-nlp-display-others\" style=\"background-color: white\"> both play for </span><span class=\"spark-nlp-display-entity-wrapper\" style=\"background-color: #7F4810\"><span class=\"spark-nlp-display-entity-name\">Bayern Munich </span><span class=\"spark-nlp-display-entity-type\">ORG</span></span><span class=\"spark-nlp-display-others\" style=\"background-color: white\">, the dominant club in </span><span class=\"spark-nlp-display-entity-wrapper\" style=\"background-color: #AF5CB7\"><span class=\"spark-nlp-display-entity-name\">Germany’s Bundesliga </span><span class=\"spark-nlp-display-entity-type\">MISC</span></span><span class=\"spark-nlp-display-others\" style=\"background-color: white\">.<br></span></div>"
            ],
            "text/plain": [
              "<IPython.core.display.HTML object>"
            ]
          },
          "metadata": {}
        }
      ]
    },
    {
      "cell_type": "markdown",
      "source": [
        "# Streamlit"
      ],
      "metadata": {
        "id": "YInH47IfJLh8"
      }
    },
    {
      "cell_type": "code",
      "source": [
        "! pip install -q pyspark==3.1.2 spark-nlp\n",
        "\n",
        "! pip install -q spark-nlp-display"
      ],
      "metadata": {
        "id": "xlvVvD2bI9os"
      },
      "execution_count": 14,
      "outputs": []
    },
    {
      "cell_type": "code",
      "source": [
        "!pip install streamlit\n",
        "\n",
        "!pip install pyngrok==4.1.1"
      ],
      "metadata": {
        "id": "tjeAE0FIJQNp"
      },
      "execution_count": null,
      "outputs": []
    },
    {
      "cell_type": "code",
      "source": [
        "! wget https://raw.githubusercontent.com/gokhanturer/JSL/main/streamlit_me_ner_model.py"
      ],
      "metadata": {
        "colab": {
          "base_uri": "https://localhost:8080/"
        },
        "id": "H84-9h44PCZL",
        "outputId": "a8c7fbf9-b911-4460-a48e-1a7205c9eb6b"
      },
      "execution_count": 2,
      "outputs": [
        {
          "output_type": "stream",
          "name": "stdout",
          "text": [
            "--2022-02-06 22:39:33--  https://raw.githubusercontent.com/gokhanturer/JSL/main/streamlit_me_ner_model.py\n",
            "Resolving raw.githubusercontent.com (raw.githubusercontent.com)... 185.199.108.133, 185.199.109.133, 185.199.110.133, ...\n",
            "Connecting to raw.githubusercontent.com (raw.githubusercontent.com)|185.199.108.133|:443... connected.\n",
            "HTTP request sent, awaiting response... 200 OK\n",
            "Length: 7979 (7.8K) [text/plain]\n",
            "Saving to: ‘streamlit_me_ner_model.py.3’\n",
            "\n",
            "streamlit_me_ner_mo 100%[===================>]   7.79K  --.-KB/s    in 0s      \n",
            "\n",
            "2022-02-06 22:39:34 (93.4 MB/s) - ‘streamlit_me_ner_model.py.3’ saved [7979/7979]\n",
            "\n"
          ]
        }
      ]
    },
    {
      "cell_type": "code",
      "source": [
        "!ngrok authtoken 24jtZ2Watn1mc1bSG6v19fel7p1_2bYeRjRkniKqqhfgRs6ub"
      ],
      "metadata": {
        "colab": {
          "base_uri": "https://localhost:8080/"
        },
        "id": "2-CYc3y3KXOB",
        "outputId": "c718740b-9523-4a2e-f698-e0c4f73dd010"
      },
      "execution_count": 3,
      "outputs": [
        {
          "output_type": "stream",
          "name": "stdout",
          "text": [
            "Authtoken saved to configuration file: /root/.ngrok2/ngrok.yml\n"
          ]
        }
      ]
    },
    {
      "cell_type": "code",
      "source": [
        "!streamlit run streamlit_me_ner_model.py &>/dev/null&"
      ],
      "metadata": {
        "id": "szcPs8WoKhsh"
      },
      "execution_count": 5,
      "outputs": []
    },
    {
      "cell_type": "code",
      "source": [
        "from pyngrok import ngrok\n",
        "\n",
        "public_url = ngrok.connect(port='8501')\n",
        "public_url"
      ],
      "metadata": {
        "colab": {
          "base_uri": "https://localhost:8080/",
          "height": 37
        },
        "id": "HRq1VVi7LLFF",
        "outputId": "e8002235-a10c-4863-b2b5-6d63369e9c80"
      },
      "execution_count": 6,
      "outputs": [
        {
          "output_type": "execute_result",
          "data": {
            "application/vnd.google.colaboratory.intrinsic+json": {
              "type": "string"
            },
            "text/plain": [
              "'http://2d54-34-125-109-11.ngrok.io'"
            ]
          },
          "metadata": {},
          "execution_count": 6
        }
      ]
    },
    {
      "cell_type": "code",
      "source": [
        "!killall ngrok\n",
        "\n",
        "public_url = ngrok.connect(port='8501')\n",
        "public_url"
      ],
      "metadata": {
        "colab": {
          "base_uri": "https://localhost:8080/",
          "height": 37
        },
        "id": "xnlKl7oPLoNk",
        "outputId": "544ccb7f-9b2b-4c2b-9a98-3e2a1d98aa8a"
      },
      "execution_count": 7,
      "outputs": [
        {
          "output_type": "execute_result",
          "data": {
            "application/vnd.google.colaboratory.intrinsic+json": {
              "type": "string"
            },
            "text/plain": [
              "'http://df30-34-125-109-11.ngrok.io'"
            ]
          },
          "metadata": {},
          "execution_count": 7
        }
      ]
    }
  ]
}