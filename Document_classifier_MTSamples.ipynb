{
  "cells": [
    {
      "cell_type": "markdown",
      "metadata": {
        "id": "view-in-github",
        "colab_type": "text"
      },
      "source": [
        "<a href=\"https://colab.research.google.com/github/gokhanturer/JSL/blob/main/Document_classifier_MTSamples.ipynb\" target=\"_parent\"><img src=\"https://colab.research.google.com/assets/colab-badge.svg\" alt=\"Open In Colab\"/></a>"
      ]
    },
    {
      "cell_type": "markdown",
      "metadata": {
        "id": "bqGkCAHTqlW-"
      },
      "source": [
        "# Colab Setup"
      ]
    },
    {
      "cell_type": "code",
      "execution_count": 1,
      "metadata": {
        "colab": {
          "base_uri": "https://localhost:8080/",
          "resources": {
            "http://localhost:8080/nbextensions/google.colab/files.js": {
              "data": "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",
              "ok": true,
              "headers": [
                [
                  "content-type",
                  "application/javascript"
                ]
              ],
              "status": 200,
              "status_text": ""
            }
          },
          "height": 73
        },
        "id": "LyFsN8Irq5vF",
        "outputId": "6c68e6ba-8b25-42cd-cae4-09badbdd41e0"
      },
      "outputs": [
        {
          "output_type": "display_data",
          "data": {
            "text/html": [
              "\n",
              "     <input type=\"file\" id=\"files-54f06eb1-adee-43d6-aa27-0247291e94e3\" name=\"files[]\" multiple disabled\n",
              "        style=\"border:none\" />\n",
              "     <output id=\"result-54f06eb1-adee-43d6-aa27-0247291e94e3\">\n",
              "      Upload widget is only available when the cell has been executed in the\n",
              "      current browser session. Please rerun this cell to enable.\n",
              "      </output>\n",
              "      <script src=\"/nbextensions/google.colab/files.js\"></script> "
            ],
            "text/plain": [
              "<IPython.core.display.HTML object>"
            ]
          },
          "metadata": {}
        },
        {
          "output_type": "stream",
          "name": "stdout",
          "text": [
            "Saving spark_nlp_for_healthcare_spark_ocr.json to spark_nlp_for_healthcare_spark_ocr.json\n"
          ]
        }
      ],
      "source": [
        "import json\n",
        "import os\n",
        "\n",
        "from google.colab import files\n",
        "\n",
        "license_keys = files.upload()\n",
        "\n",
        "with open(list(license_keys.keys())[0]) as f:\n",
        "    license_keys = json.load(f)\n",
        "\n",
        "# Defining license key-value pairs as local variables\n",
        "locals().update(license_keys)\n",
        "\n",
        "# Adding license key-value pairs to environment variables\n",
        "os.environ.update(license_keys)"
      ]
    },
    {
      "cell_type": "code",
      "execution_count": 2,
      "metadata": {
        "id": "OVkluV8SrHgW",
        "colab": {
          "base_uri": "https://localhost:8080/"
        },
        "outputId": "b4669f8e-0ac3-4b2d-af66-ba1eeabd4d34"
      },
      "outputs": [
        {
          "output_type": "stream",
          "name": "stdout",
          "text": [
            "\u001b[K     |████████████████████████████████| 212.4 MB 71 kB/s \n",
            "\u001b[K     |████████████████████████████████| 140 kB 22.1 MB/s \n",
            "\u001b[K     |████████████████████████████████| 198 kB 69.9 MB/s \n",
            "\u001b[?25h  Building wheel for pyspark (setup.py) ... \u001b[?25l\u001b[?25hdone\n",
            "\u001b[K     |████████████████████████████████| 144 kB 10.0 MB/s \n",
            "\u001b[K     |████████████████████████████████| 95 kB 3.4 MB/s \n",
            "\u001b[K     |████████████████████████████████| 66 kB 6.4 MB/s \n",
            "\u001b[?25h"
          ]
        }
      ],
      "source": [
        "# Installing pyspark and spark-nlp\n",
        "! pip install --upgrade -q pyspark==3.1.2 spark-nlp==$PUBLIC_VERSION\n",
        "\n",
        "# Installing Spark NLP Healthcare\n",
        "! pip install --upgrade -q spark-nlp-jsl==$JSL_VERSION  --extra-index-url https://pypi.johnsnowlabs.com/$SECRET\n",
        "\n",
        "# Installing Spark NLP Display Library for visualization\n",
        "! pip install -q spark-nlp-display"
      ]
    },
    {
      "cell_type": "code",
      "execution_count": 3,
      "metadata": {
        "id": "gtf29jNqrR-n",
        "colab": {
          "base_uri": "https://localhost:8080/",
          "height": 250
        },
        "outputId": "d388b895-5f21-4daa-9ae1-97fe1550a0e8"
      },
      "outputs": [
        {
          "output_type": "stream",
          "name": "stdout",
          "text": [
            "Spark NLP Version : 3.4.0\n",
            "Spark NLP_JSL Version : 3.4.0\n"
          ]
        },
        {
          "output_type": "execute_result",
          "data": {
            "text/html": [
              "\n",
              "            <div>\n",
              "                <p><b>SparkSession - in-memory</b></p>\n",
              "                \n",
              "        <div>\n",
              "            <p><b>SparkContext</b></p>\n",
              "\n",
              "            <p><a href=\"http://cd71ddf8b589:4040\">Spark UI</a></p>\n",
              "\n",
              "            <dl>\n",
              "              <dt>Version</dt>\n",
              "                <dd><code>v3.1.2</code></dd>\n",
              "              <dt>Master</dt>\n",
              "                <dd><code>local[*]</code></dd>\n",
              "              <dt>AppName</dt>\n",
              "                <dd><code>Spark NLP Licensed</code></dd>\n",
              "            </dl>\n",
              "        </div>\n",
              "        \n",
              "            </div>\n",
              "        "
            ],
            "text/plain": [
              "<pyspark.sql.session.SparkSession at 0x7f85342c1c90>"
            ]
          },
          "metadata": {},
          "execution_count": 3
        }
      ],
      "source": [
        "import json\n",
        "import os\n",
        "from pyspark.ml import Pipeline,PipelineModel\n",
        "from pyspark.sql import SparkSession\n",
        "from pyspark.sql import functions as F\n",
        "\n",
        "from sparknlp.annotator import *\n",
        "from sparknlp_jsl.annotator import *\n",
        "from sparknlp.common import *\n",
        "from sparknlp.base import *\n",
        "import sparknlp_jsl\n",
        "import sparknlp\n",
        "\n",
        "import warnings\n",
        "warnings.filterwarnings('ignore')\n",
        "\n",
        "print (\"Spark NLP Version :\", sparknlp.version())\n",
        "print (\"Spark NLP_JSL Version :\", sparknlp_jsl.version())\n",
        "\n",
        "\n",
        "spark = sparknlp_jsl.start(license_keys['SECRET'])\n",
        "\n",
        "spark"
      ]
    },
    {
      "cell_type": "code",
      "execution_count": 4,
      "metadata": {
        "id": "HJBz746SrmZK"
      },
      "outputs": [],
      "source": [
        "import pandas as pd\n",
        "import numpy as np\n",
        "\n",
        "from pyspark.sql import functions as F\n",
        "\n",
        "from pyspark.sql.functions import lit\n",
        "\n",
        "from pyspark.ml.feature import CountVectorizer, HashingTF, IDF, OneHotEncoder, StringIndexer, VectorAssembler, SQLTransformer\n",
        "\n",
        "from pyspark.ml.classification import LogisticRegression , RandomForestClassifier\n",
        "\n",
        "from sklearn.metrics import confusion_matrix, classification_report, accuracy_score"
      ]
    },
    {
      "cell_type": "code",
      "source": [
        "from google.colab import drive\n",
        "drive.mount('/content/drive')"
      ],
      "metadata": {
        "colab": {
          "base_uri": "https://localhost:8080/"
        },
        "id": "4CB-a1JqLKya",
        "outputId": "d0be8954-55ff-4eb1-99cc-540805c98c7a"
      },
      "execution_count": 5,
      "outputs": [
        {
          "output_type": "stream",
          "name": "stdout",
          "text": [
            "Mounted at /content/drive\n"
          ]
        }
      ]
    },
    {
      "cell_type": "code",
      "execution_count": null,
      "metadata": {
        "id": "27XhNmFqh_-v"
      },
      "outputs": [],
      "source": [
        "Gastroenterology = spark.sparkContext.wholeTextFiles(\"/content/drive/MyDrive/train-data/Gastroenterology/*.txt\")\n",
        "sdf_gastroenterology = Gastroenterology.toDF(schema=['path','text'])\n",
        "\n",
        "Neurology = spark.sparkContext.wholeTextFiles(\"/content/drive/MyDrive/train-data/Neurology/*.txt\")\n",
        "sdf_neurology = Neurology.toDF(schema=['path','text'])\n",
        "\n",
        "Orthopedic = spark.sparkContext.wholeTextFiles(\"/content/drive/MyDrive/train-data/Orthopedic/*.txt\")\n",
        "sdf_orthopedic = Orthopedic.toDF(schema=['path', 'text'])\n",
        "\n",
        "Radiology = spark.sparkContext.wholeTextFiles(\"/content/drive/MyDrive/train-data/Radiology/*.txt\")\n",
        "sdf_radiology = Radiology.toDF(schema=['path','text'])\n",
        "\n",
        "Urology = spark.sparkContext.wholeTextFiles(\"/content/drive/MyDrive/train-data/Urology/*.txt\")\n",
        "sdf_urology = Urology.toDF(schema=['path','text'])\n"
      ]
    },
    {
      "cell_type": "code",
      "execution_count": null,
      "metadata": {
        "id": "SzJNPvi-s-P8"
      },
      "outputs": [],
      "source": [
        "sdf_gastroenterology = sdf_gastroenterology.withColumn(\"category\", lit('gastroenterology'))\n",
        "sdf_neurology = sdf_neurology.withColumn(\"category\", lit('neurology'))\n",
        "sdf_orthopedic = sdf_orthopedic.withColumn(\"category\", lit('orthopedic'))\n",
        "sdf_radiology = sdf_radiology.withColumn(\"category\", lit('radiology'))\n",
        "sdf_urology = sdf_urology.withColumn(\"category\", lit('urology'))"
      ]
    },
    {
      "cell_type": "code",
      "execution_count": null,
      "metadata": {
        "id": "3rCDdKhys-IS"
      },
      "outputs": [],
      "source": [
        "sdf_gastroenterology = sdf_gastroenterology.select('text','category')\n",
        "sdf_neurology = sdf_neurology.select('text','category')\n",
        "sdf_orthopedic = sdf_orthopedic.select('text','category')\n",
        "sdf_radiology = sdf_radiology.select('text','category')\n",
        "sdf_urology = sdf_urology.select('text','category')"
      ]
    },
    {
      "cell_type": "code",
      "execution_count": null,
      "metadata": {
        "id": "wHg9Uw98lBQG"
      },
      "outputs": [],
      "source": [
        "from functools import reduce  \n",
        "from pyspark.sql import DataFrame\n",
        "\n",
        "def unionAll(*dfs):\n",
        "    return reduce(DataFrame.unionAll, dfs)\n",
        "\n",
        "sdf = unionAll(sdf_gastroenterology, sdf_neurology, sdf_orthopedic, sdf_radiology, sdf_urology)"
      ]
    },
    {
      "cell_type": "code",
      "execution_count": null,
      "metadata": {
        "id": "MzhF3q6Cs-FN",
        "colab": {
          "base_uri": "https://localhost:8080/"
        },
        "outputId": "c3d3797c-277d-483a-b778-fc15c8b222c7"
      },
      "outputs": [
        {
          "output_type": "stream",
          "name": "stdout",
          "text": [
            "root\n",
            " |-- text: string (nullable = true)\n",
            " |-- category: string (nullable = false)\n",
            "\n"
          ]
        }
      ],
      "source": [
        "sdf.printSchema()"
      ]
    },
    {
      "cell_type": "markdown",
      "metadata": {
        "id": "1QX1mbZ5m5Ir"
      },
      "source": [
        "## Data Preprocessing and Save\n"
      ]
    },
    {
      "cell_type": "code",
      "execution_count": null,
      "metadata": {
        "id": "DphE35qgs9_l"
      },
      "outputs": [],
      "source": [
        "documentAssembler = DocumentAssembler() \\\n",
        "    .setInputCol('text') \\\n",
        "    .setOutputCol('document')\n",
        "\n",
        "cleanUpPatterns = [\"<[^>]*>\"]\n",
        "\n",
        "documentNormalizer = DocumentNormalizer() \\\n",
        "    .setInputCols(\"document\") \\\n",
        "    .setOutputCol(\"normalizedDocument\") \\\n",
        "    .setAction(\"clean\") \\\n",
        "    .setPatterns(cleanUpPatterns) \\\n",
        "    .setReplacement(\"\") \\\n",
        "    .setPolicy(\"pretty_all\") \\\n",
        "    .setLowercase(False)\n",
        "\n",
        "docPatternRemoverPipeline = Pipeline() \\\n",
        "    .setStages([\n",
        "        documentAssembler,\n",
        "        documentNormalizer])\n",
        "    \n",
        "empty_df = spark.createDataFrame([['']]).toDF(\"text\")\n",
        "\n",
        "pipelineModel = docPatternRemoverPipeline.fit(empty_df)"
      ]
    },
    {
      "cell_type": "code",
      "execution_count": null,
      "metadata": {
        "id": "dxTCH-mrwZiB"
      },
      "outputs": [],
      "source": [
        "result = pipelineModel.transform(sdf)\n",
        "\n",
        "result = result.select(\"category\", F.explode('normalizedDocument.result').alias('text'))\n",
        "\n",
        "result.printSchema()\n",
        "\n",
        "#result.show()\n",
        "\n",
        "result.write.parquet(\"/content/drive/MyDrive/JSLTask/mtsamples_test.parquet\")"
      ]
    },
    {
      "cell_type": "markdown",
      "metadata": {
        "id": "0xaSXjdbuibx"
      },
      "source": [
        "## Read MTSamples Data"
      ]
    },
    {
      "cell_type": "code",
      "execution_count": 6,
      "metadata": {
        "id": "RUyn62rOqxOm",
        "colab": {
          "base_uri": "https://localhost:8080/"
        },
        "outputId": "9443e1a7-9f50-4da5-9200-aa49ae033b48"
      },
      "outputs": [
        {
          "output_type": "stream",
          "name": "stdout",
          "text": [
            "root\n",
            " |-- category: string (nullable = true)\n",
            " |-- text: string (nullable = true)\n",
            "\n"
          ]
        }
      ],
      "source": [
        "spark_df = spark.read.parquet(\"/content/drive/MyDrive/JSLTask/mtsamples_test.parquet\")\n",
        "spark_df.printSchema()\n",
        "#spark_df.show(truncate=False)"
      ]
    },
    {
      "cell_type": "code",
      "source": [
        "spark_df.groupBy(\"category\").count().show()"
      ],
      "metadata": {
        "colab": {
          "base_uri": "https://localhost:8080/"
        },
        "id": "aGqno3ZJ-Gqx",
        "outputId": "4477e276-84a9-4d37-c147-fb7288c38e9a"
      },
      "execution_count": null,
      "outputs": [
        {
          "output_type": "stream",
          "name": "stdout",
          "text": [
            "+----------------+-----+\n",
            "|        category|count|\n",
            "+----------------+-----+\n",
            "|gastroenterology|  157|\n",
            "|      orthopedic|  223|\n",
            "|       neurology|  143|\n",
            "|         urology|  115|\n",
            "|       radiology|  188|\n",
            "+----------------+-----+\n",
            "\n"
          ]
        }
      ]
    },
    {
      "cell_type": "code",
      "source": [
        "spark_df = spark_df.filter(spark_df.text != \"\")\n",
        "# None values in the text column  were removed "
      ],
      "metadata": {
        "id": "biRpasrn-GnX"
      },
      "execution_count": 7,
      "outputs": []
    },
    {
      "cell_type": "code",
      "source": [
        "spark_df.groupBy(\"category\").count().show()"
      ],
      "metadata": {
        "colab": {
          "base_uri": "https://localhost:8080/"
        },
        "id": "O3BvkLJ8-Gi4",
        "outputId": "4ac031e2-5d51-4420-db3d-ea8f50a7d00f"
      },
      "execution_count": null,
      "outputs": [
        {
          "output_type": "stream",
          "name": "stdout",
          "text": [
            "+----------------+-----+\n",
            "|        category|count|\n",
            "+----------------+-----+\n",
            "|gastroenterology|  157|\n",
            "|      orthopedic|  222|\n",
            "|       neurology|  141|\n",
            "|         urology|  110|\n",
            "|       radiology|  188|\n",
            "+----------------+-----+\n",
            "\n"
          ]
        }
      ]
    },
    {
      "cell_type": "code",
      "source": [
        "!wget https://raw.githubusercontent.com/kavgan/clinical-concepts/master/clinical-stopwords.txt\n",
        "\n",
        "\n",
        "# Since we will build a model with clinical data, clinical stop words data was used instead of general stopwords data."
      ],
      "metadata": {
        "colab": {
          "base_uri": "https://localhost:8080/"
        },
        "id": "P2-Wa87r-mcA",
        "outputId": "67800d46-71b0-4400-8463-685a4cfe8c0d"
      },
      "execution_count": 8,
      "outputs": [
        {
          "output_type": "stream",
          "name": "stdout",
          "text": [
            "--2022-02-07 22:02:39--  https://raw.githubusercontent.com/kavgan/clinical-concepts/master/clinical-stopwords.txt\n",
            "Resolving raw.githubusercontent.com (raw.githubusercontent.com)... 185.199.108.133, 185.199.109.133, 185.199.110.133, ...\n",
            "Connecting to raw.githubusercontent.com (raw.githubusercontent.com)|185.199.108.133|:443... connected.\n",
            "HTTP request sent, awaiting response... 200 OK\n",
            "Length: 6582 (6.4K) [text/plain]\n",
            "Saving to: ‘clinical-stopwords.txt’\n",
            "\n",
            "\rclinical-stopwords.   0%[                    ]       0  --.-KB/s               \rclinical-stopwords. 100%[===================>]   6.43K  --.-KB/s    in 0s      \n",
            "\n",
            "2022-02-07 22:02:39 (74.1 MB/s) - ‘clinical-stopwords.txt’ saved [6582/6582]\n",
            "\n"
          ]
        }
      ]
    },
    {
      "cell_type": "code",
      "source": [
        "with open ('clinical-stopwords.txt', 'r') as f:\n",
        "    clinicalstops = f.readlines()"
      ],
      "metadata": {
        "id": "kX3ld31IMju0"
      },
      "execution_count": 9,
      "outputs": []
    },
    {
      "cell_type": "markdown",
      "source": [
        "# LogReg with CV"
      ],
      "metadata": {
        "id": "Pz6-UetlNHGf"
      }
    },
    {
      "cell_type": "code",
      "source": [
        "documentAssembler = DocumentAssembler() \\\n",
        "    .setInputCol(\"text\")\\\n",
        "    .setOutputCol(\"document\")\\\n",
        "\n",
        "tokenizer = Tokenizer()\\\n",
        "    .setInputCols([\"document\"])\\\n",
        "    .setOutputCol(\"token\")\n",
        "\n",
        "normalizer = Normalizer() \\\n",
        "    .setInputCols([\"token\"]) \\\n",
        "    .setOutputCol(\"normalized\")\\\n",
        "    .setCleanupPatterns([\"[^\\w\\d\\s]\"])\n",
        "\n",
        "stopwords_cleaner = StopWordsCleaner()\\\n",
        "    .setInputCols(\"normalized\")\\\n",
        "    .setOutputCol(\"cleanTokens\")\\\n",
        "    .setStopWords(clinicalstops)\\\n",
        "    .setCaseSensitive(False)\n",
        "\n",
        "lemmatizer = LemmatizerModel.pretrained(\"lemma_antbnc\") \\\n",
        "    .setInputCols([\"cleanTokens\"]) \\\n",
        "    .setOutputCol(\"lemma\")\n",
        "\n",
        "finisher = Finisher() \\\n",
        "    .setInputCols([\"lemma\"]) \\\n",
        "    .setOutputCols([\"token_features\"]) \\\n",
        "    .setOutputAsArray(True) \\\n",
        "    .setCleanAnnotations(False)\n",
        "\n",
        "countVectors = CountVectorizer(inputCol=\"token_features\", outputCol=\"features\", vocabSize=10000, minDF=5)\n",
        "\n",
        "label_stringIdx = StringIndexer(inputCol = \"category\", outputCol = \"label\")\n",
        "\n",
        "nlpPipeline = Pipeline(stages=[\n",
        "            documentAssembler,\n",
        "            tokenizer,\n",
        "            normalizer,\n",
        "            stopwords_cleaner,\n",
        "            lemmatizer,\n",
        "            finisher,\n",
        "            countVectors,\n",
        "            label_stringIdx\n",
        "            ])"
      ],
      "metadata": {
        "colab": {
          "base_uri": "https://localhost:8080/"
        },
        "id": "Fi4aIu7QMjjw",
        "outputId": "1b766a8e-0341-43b0-db06-316a975b9414"
      },
      "execution_count": 10,
      "outputs": [
        {
          "output_type": "stream",
          "name": "stdout",
          "text": [
            "lemma_antbnc download started this may take some time.\n",
            "Approximate size to download 907.6 KB\n",
            "[OK!]\n"
          ]
        }
      ]
    },
    {
      "cell_type": "code",
      "source": [
        "lr_cv = nlpPipeline.fit(spark_df)\n",
        "\n",
        "processed_cv = lr_cv.transform(spark_df)\n",
        "\n",
        "processed_cv.count()"
      ],
      "metadata": {
        "colab": {
          "base_uri": "https://localhost:8080/"
        },
        "id": "cN3ngFb1MjZE",
        "outputId": "92fcf8c6-8c50-41a4-b8b8-76c4ce57b685"
      },
      "execution_count": 12,
      "outputs": [
        {
          "output_type": "execute_result",
          "data": {
            "text/plain": [
              "818"
            ]
          },
          "metadata": {},
          "execution_count": 12
        }
      ]
    },
    {
      "cell_type": "code",
      "source": [
        "processed_cv.select('features').show(5, truncate=80)"
      ],
      "metadata": {
        "colab": {
          "base_uri": "https://localhost:8080/"
        },
        "id": "z9fSyYsdaEbU",
        "outputId": "d0ca9ed0-dfa2-46ab-89f0-dc21b9b7af82"
      },
      "execution_count": 13,
      "outputs": [
        {
          "output_type": "stream",
          "name": "stdout",
          "text": [
            "+--------------------------------------------------------------------------------+\n",
            "|                                                                        features|\n",
            "+--------------------------------------------------------------------------------+\n",
            "|(4848,[0,1,2,3,4,6,7,8,12,13,15,16,17,20,21,25,27,28,32,33,35,36,45,47,48,50,...|\n",
            "|(4848,[0,1,2,3,4,5,6,7,8,9,10,11,12,13,14,15,16,17,20,21,22,25,27,28,29,30,31...|\n",
            "|(4848,[0,1,2,3,4,5,6,7,8,10,12,13,16,20,23,24,25,27,28,29,30,31,32,34,37,43,4...|\n",
            "|(4848,[0,1,2,3,4,5,6,7,8,9,10,12,13,14,16,17,18,19,20,23,24,25,26,28,29,30,31...|\n",
            "|(4848,[0,1,2,3,4,5,6,7,8,9,10,12,13,14,15,16,17,19,20,22,23,25,26,27,28,29,30...|\n",
            "+--------------------------------------------------------------------------------+\n",
            "only showing top 5 rows\n",
            "\n"
          ]
        }
      ]
    },
    {
      "cell_type": "code",
      "source": [
        "processed_cv.select(\"text\",\"features\",\"label\",\"category\").show(truncate = 50)"
      ],
      "metadata": {
        "colab": {
          "base_uri": "https://localhost:8080/"
        },
        "id": "97kCK3QceifF",
        "outputId": "64b53dc2-367e-4fe7-a2aa-2103ee18a814"
      },
      "execution_count": null,
      "outputs": [
        {
          "output_type": "stream",
          "name": "stdout",
          "text": [
            "+--------------------------------------------------+--------------------------------------------------+-----+----------+\n",
            "|                                              text|                                          features|label|  category|\n",
            "+--------------------------------------------------+--------------------------------------------------+-----+----------+\n",
            "| PREOPERATIVE DIAGNOSES 1. EMG-proven left carp...|(4848,[0,1,2,3,4,6,7,8,12,13,15,16,17,20,21,25,...|  0.0|orthopedic|\n",
            "| PREOPERATIVE DIAGNOSIS: Bunion, left foot. POS...|(4848,[0,1,2,3,4,5,6,7,8,9,10,11,12,13,14,15,16...|  0.0|orthopedic|\n",
            "| RICE stands for the most important elements of...|(4848,[0,1,2,3,4,5,6,7,8,10,12,13,16,20,23,24,2...|  0.0|orthopedic|\n",
            "| The patient is an 84-year-old retired male who...|(4848,[0,1,2,3,4,5,6,7,8,9,10,12,13,14,16,17,18...|  0.0|orthopedic|\n",
            "| PREOPERATIVE DIAGNOSES: 1. Left carpal tunnel ...|(4848,[0,1,2,3,4,5,6,7,8,9,10,12,13,14,15,16,17...|  0.0|orthopedic|\n",
            "| PREOPERATIVE DIAGNOSIS: Herniated nucleus pulp...|(4848,[0,1,2,3,4,5,6,7,8,9,10,11,12,13,15,16,18...|  0.0|orthopedic|\n",
            "| This is a 30-year-old female with pain and swe...|(4848,[0,1,2,3,4,5,6,7,8,9,16,19,22,24,29,31,37...|  0.0|orthopedic|\n",
            "| PREOPERATIVE DIAGNOSES: 1. Left diabetic foot ...|(4848,[0,1,2,3,4,5,6,7,8,9,10,12,13,14,15,16,17...|  0.0|orthopedic|\n",
            "| PREOPERATIVE DIAGNOSES: 1. Mass, left second t...|(4848,[0,1,2,3,4,5,6,7,8,9,10,12,13,14,15,16,17...|  0.0|orthopedic|\n",
            "| PREOPERATIVE DIAGNOSIS: Carpal tunnel syndrome...|(4848,[0,1,2,3,4,5,6,7,8,9,10,12,15,27,31,36,38...|  0.0|orthopedic|\n",
            "| PREOPERATIVE DIAGNOSES: 1. Pathologic insuffic...|(4848,[0,1,2,3,4,5,6,7,8,9,10,11,12,15,16,17,18...|  0.0|orthopedic|\n",
            "| PREOPERATIVE DIAGNOSIS: Severely comminuted fr...|(4848,[0,1,2,3,4,5,6,7,8,9,10,12,13,14,15,16,17...|  0.0|orthopedic|\n",
            "| PREOPERATIVE DIAGNOSES: 1. Hallux abductovalgu...|(4848,[0,1,2,3,4,5,6,7,8,9,12,13,14,15,16,18,20...|  0.0|orthopedic|\n",
            "| PREOPERATIVE DIAGNOSIS: Hammertoe deformity of...|(4848,[0,1,2,3,4,5,6,7,8,9,10,12,13,14,15,16,17...|  0.0|orthopedic|\n",
            "| PREOPERATIVE DIAGNOSES: 1. Torn anterior cruci...|(4848,[0,1,2,3,4,5,6,7,8,9,10,11,12,13,15,16,18...|  0.0|orthopedic|\n",
            "| CHIEF COMPLAINT: Left hip pain. HISTORY OF PRE...|(4848,[0,1,2,3,4,5,6,7,8,9,10,12,13,14,15,16,17...|  0.0|orthopedic|\n",
            "| PREOPERATIVE DIAGNOSES: 1. Bunion left foot. 2...|(4848,[0,1,2,3,4,5,6,7,8,9,10,11,12,13,14,15,16...|  0.0|orthopedic|\n",
            "| PREOPERATIVE DIAGNOSES: Cervical degenerative ...|(4848,[0,1,2,3,4,5,6,7,8,9,10,12,13,14,15,16,17...|  0.0|orthopedic|\n",
            "| PREOPERATIVE DIAGNOSIS: Osteomyelitis, left ha...|(4848,[0,1,2,3,4,5,6,7,8,9,10,12,13,14,16,17,20...|  0.0|orthopedic|\n",
            "| PREOPERATIVE DIAGNOSIS: Herniated nucleus pulp...|(4848,[0,1,2,3,4,5,6,7,8,9,13,15,18,27,28,32,39...|  0.0|orthopedic|\n",
            "+--------------------------------------------------+--------------------------------------------------+-----+----------+\n",
            "only showing top 20 rows\n",
            "\n"
          ]
        }
      ]
    },
    {
      "cell_type": "code",
      "source": [
        "(trainingData, testData) = processed_cv.randomSplit([0.8, 0.2], seed = 42)\n",
        "\n",
        "print(\"Training Dataset Count: \" + str(trainingData.count()))\n",
        "print(\"Test Dataset Count: \" + str(testData.count()))"
      ],
      "metadata": {
        "colab": {
          "base_uri": "https://localhost:8080/"
        },
        "id": "OmUjaZBpq0hT",
        "outputId": "b96f5739-fa3f-4c85-cb7c-0759708f2951"
      },
      "execution_count": 14,
      "outputs": [
        {
          "output_type": "stream",
          "name": "stdout",
          "text": [
            "Training Dataset Count: 679\n",
            "Test Dataset Count: 139\n"
          ]
        }
      ]
    },
    {
      "cell_type": "code",
      "source": [
        "lr = LogisticRegression(maxIter = 10, regParam=0.3)\n",
        "\n",
        "lrModel = lr.fit(trainingData)\n",
        "\n",
        "predictions_cv = lrModel.transform(testData)"
      ],
      "metadata": {
        "id": "kiN4IcmEuPrT"
      },
      "execution_count": null,
      "outputs": []
    },
    {
      "cell_type": "code",
      "source": [
        "preds_df = predictions_cv.select('category','text',\"prediction\",'label').toPandas()\n",
        "\n",
        "print (classification_report(preds_df['label'], preds_df['prediction']))\n",
        "print (accuracy_score(preds_df['label'], preds_df['prediction']))"
      ],
      "metadata": {
        "colab": {
          "base_uri": "https://localhost:8080/"
        },
        "id": "nM29j4o7ujHv",
        "outputId": "fdacafc1-3ee1-4453-b2dc-46dca22ea84c"
      },
      "execution_count": null,
      "outputs": [
        {
          "output_type": "stream",
          "name": "stdout",
          "text": [
            "              precision    recall  f1-score   support\n",
            "\n",
            "         0.0       0.76      0.73      0.75        30\n",
            "         1.0       0.70      0.82      0.76        34\n",
            "         2.0       0.97      0.88      0.92        32\n",
            "         3.0       0.50      0.47      0.48        17\n",
            "         4.0       1.00      0.96      0.98        26\n",
            "\n",
            "    accuracy                           0.80       139\n",
            "   macro avg       0.78      0.77      0.78       139\n",
            "weighted avg       0.81      0.80      0.80       139\n",
            "\n",
            "0.7985611510791367\n"
          ]
        }
      ]
    },
    {
      "cell_type": "code",
      "source": [
        "preds_df1 = predictions_cv.select(\"label\").toPandas()\n",
        "\n",
        "preds = pd.DataFrame(confusion_matrix(list(preds_df.label.astype(int)), list(preds_df.prediction.astype(int))), columns = np.unique(preds_df1['label']), index =  np.unique(preds_df1['label']))\n",
        "\n",
        "preds"
      ],
      "metadata": {
        "colab": {
          "base_uri": "https://localhost:8080/",
          "height": 204
        },
        "id": "P_Wmhx_rui-1",
        "outputId": "4cb26077-3ce8-45a1-97e0-baa9a72f7ff4"
      },
      "execution_count": null,
      "outputs": [
        {
          "output_type": "execute_result",
          "data": {
            "text/html": [
              "\n",
              "  <div id=\"df-33386ae5-032f-4ef4-834d-154ffbbce81c\">\n",
              "    <div class=\"colab-df-container\">\n",
              "      <div>\n",
              "<style scoped>\n",
              "    .dataframe tbody tr th:only-of-type {\n",
              "        vertical-align: middle;\n",
              "    }\n",
              "\n",
              "    .dataframe tbody tr th {\n",
              "        vertical-align: top;\n",
              "    }\n",
              "\n",
              "    .dataframe thead th {\n",
              "        text-align: right;\n",
              "    }\n",
              "</style>\n",
              "<table border=\"1\" class=\"dataframe\">\n",
              "  <thead>\n",
              "    <tr style=\"text-align: right;\">\n",
              "      <th></th>\n",
              "      <th>0.0</th>\n",
              "      <th>1.0</th>\n",
              "      <th>2.0</th>\n",
              "      <th>3.0</th>\n",
              "      <th>4.0</th>\n",
              "    </tr>\n",
              "  </thead>\n",
              "  <tbody>\n",
              "    <tr>\n",
              "      <th>0.0</th>\n",
              "      <td>22</td>\n",
              "      <td>5</td>\n",
              "      <td>0</td>\n",
              "      <td>3</td>\n",
              "      <td>0</td>\n",
              "    </tr>\n",
              "    <tr>\n",
              "      <th>1.0</th>\n",
              "      <td>2</td>\n",
              "      <td>28</td>\n",
              "      <td>0</td>\n",
              "      <td>4</td>\n",
              "      <td>0</td>\n",
              "    </tr>\n",
              "    <tr>\n",
              "      <th>2.0</th>\n",
              "      <td>0</td>\n",
              "      <td>3</td>\n",
              "      <td>28</td>\n",
              "      <td>1</td>\n",
              "      <td>0</td>\n",
              "    </tr>\n",
              "    <tr>\n",
              "      <th>3.0</th>\n",
              "      <td>5</td>\n",
              "      <td>4</td>\n",
              "      <td>0</td>\n",
              "      <td>8</td>\n",
              "      <td>0</td>\n",
              "    </tr>\n",
              "    <tr>\n",
              "      <th>4.0</th>\n",
              "      <td>0</td>\n",
              "      <td>0</td>\n",
              "      <td>1</td>\n",
              "      <td>0</td>\n",
              "      <td>25</td>\n",
              "    </tr>\n",
              "  </tbody>\n",
              "</table>\n",
              "</div>\n",
              "      <button class=\"colab-df-convert\" onclick=\"convertToInteractive('df-33386ae5-032f-4ef4-834d-154ffbbce81c')\"\n",
              "              title=\"Convert this dataframe to an interactive table.\"\n",
              "              style=\"display:none;\">\n",
              "        \n",
              "  <svg xmlns=\"http://www.w3.org/2000/svg\" height=\"24px\"viewBox=\"0 0 24 24\"\n",
              "       width=\"24px\">\n",
              "    <path d=\"M0 0h24v24H0V0z\" fill=\"none\"/>\n",
              "    <path d=\"M18.56 5.44l.94 2.06.94-2.06 2.06-.94-2.06-.94-.94-2.06-.94 2.06-2.06.94zm-11 1L8.5 8.5l.94-2.06 2.06-.94-2.06-.94L8.5 2.5l-.94 2.06-2.06.94zm10 10l.94 2.06.94-2.06 2.06-.94-2.06-.94-.94-2.06-.94 2.06-2.06.94z\"/><path d=\"M17.41 7.96l-1.37-1.37c-.4-.4-.92-.59-1.43-.59-.52 0-1.04.2-1.43.59L10.3 9.45l-7.72 7.72c-.78.78-.78 2.05 0 2.83L4 21.41c.39.39.9.59 1.41.59.51 0 1.02-.2 1.41-.59l7.78-7.78 2.81-2.81c.8-.78.8-2.07 0-2.86zM5.41 20L4 18.59l7.72-7.72 1.47 1.35L5.41 20z\"/>\n",
              "  </svg>\n",
              "      </button>\n",
              "      \n",
              "  <style>\n",
              "    .colab-df-container {\n",
              "      display:flex;\n",
              "      flex-wrap:wrap;\n",
              "      gap: 12px;\n",
              "    }\n",
              "\n",
              "    .colab-df-convert {\n",
              "      background-color: #E8F0FE;\n",
              "      border: none;\n",
              "      border-radius: 50%;\n",
              "      cursor: pointer;\n",
              "      display: none;\n",
              "      fill: #1967D2;\n",
              "      height: 32px;\n",
              "      padding: 0 0 0 0;\n",
              "      width: 32px;\n",
              "    }\n",
              "\n",
              "    .colab-df-convert:hover {\n",
              "      background-color: #E2EBFA;\n",
              "      box-shadow: 0px 1px 2px rgba(60, 64, 67, 0.3), 0px 1px 3px 1px rgba(60, 64, 67, 0.15);\n",
              "      fill: #174EA6;\n",
              "    }\n",
              "\n",
              "    [theme=dark] .colab-df-convert {\n",
              "      background-color: #3B4455;\n",
              "      fill: #D2E3FC;\n",
              "    }\n",
              "\n",
              "    [theme=dark] .colab-df-convert:hover {\n",
              "      background-color: #434B5C;\n",
              "      box-shadow: 0px 1px 3px 1px rgba(0, 0, 0, 0.15);\n",
              "      filter: drop-shadow(0px 1px 2px rgba(0, 0, 0, 0.3));\n",
              "      fill: #FFFFFF;\n",
              "    }\n",
              "  </style>\n",
              "\n",
              "      <script>\n",
              "        const buttonEl =\n",
              "          document.querySelector('#df-33386ae5-032f-4ef4-834d-154ffbbce81c button.colab-df-convert');\n",
              "        buttonEl.style.display =\n",
              "          google.colab.kernel.accessAllowed ? 'block' : 'none';\n",
              "\n",
              "        async function convertToInteractive(key) {\n",
              "          const element = document.querySelector('#df-33386ae5-032f-4ef4-834d-154ffbbce81c');\n",
              "          const dataTable =\n",
              "            await google.colab.kernel.invokeFunction('convertToInteractive',\n",
              "                                                     [key], {});\n",
              "          if (!dataTable) return;\n",
              "\n",
              "          const docLinkHtml = 'Like what you see? Visit the ' +\n",
              "            '<a target=\"_blank\" href=https://colab.research.google.com/notebooks/data_table.ipynb>data table notebook</a>'\n",
              "            + ' to learn more about interactive tables.';\n",
              "          element.innerHTML = '';\n",
              "          dataTable['output_type'] = 'display_data';\n",
              "          await google.colab.output.renderOutput(dataTable, element);\n",
              "          const docLink = document.createElement('div');\n",
              "          docLink.innerHTML = docLinkHtml;\n",
              "          element.appendChild(docLink);\n",
              "        }\n",
              "      </script>\n",
              "    </div>\n",
              "  </div>\n",
              "  "
            ],
            "text/plain": [
              "     0.0  1.0  2.0  3.0  4.0\n",
              "0.0   22    5    0    3    0\n",
              "1.0    2   28    0    4    0\n",
              "2.0    0    3   28    1    0\n",
              "3.0    5    4    0    8    0\n",
              "4.0    0    0    1    0   25"
            ]
          },
          "metadata": {},
          "execution_count": 50
        }
      ]
    },
    {
      "cell_type": "code",
      "source": [
        "predictions_cv.select(\"label\",\"category\").distinct().show()"
      ],
      "metadata": {
        "colab": {
          "base_uri": "https://localhost:8080/"
        },
        "id": "oJZsDDlIui16",
        "outputId": "d0842b03-037e-47dc-a97d-ca65b34a02ad"
      },
      "execution_count": null,
      "outputs": [
        {
          "output_type": "stream",
          "name": "stdout",
          "text": [
            "+-----+----------------+\n",
            "|label|        category|\n",
            "+-----+----------------+\n",
            "|  4.0|         urology|\n",
            "|  1.0|       radiology|\n",
            "|  3.0|       neurology|\n",
            "|  2.0|gastroenterology|\n",
            "|  0.0|      orthopedic|\n",
            "+-----+----------------+\n",
            "\n"
          ]
        }
      ]
    },
    {
      "cell_type": "markdown",
      "source": [
        "# LogReg with TF-IDF"
      ],
      "metadata": {
        "id": "FOnbwwJL2oLs"
      }
    },
    {
      "cell_type": "code",
      "source": [
        "hashingTF = HashingTF(inputCol=\"token_features\", outputCol=\"rawFeatures\", numFeatures=10000)\n",
        "\n",
        "idf = IDF(inputCol=\"rawFeatures\", outputCol=\"features\", minDocFreq=5) #minDocFreq: remove sparse terms\n",
        "\n",
        "nlp_pipeline_tf = Pipeline(\n",
        "    stages=[documentAssembler, \n",
        "            tokenizer,\n",
        "            normalizer,\n",
        "            stopwords_cleaner, \n",
        "            lemmatizer, \n",
        "            finisher,\n",
        "            hashingTF,\n",
        "           idf,\n",
        "           label_stringIdx])\n",
        "\n",
        "nlp_model_tf = nlp_pipeline_tf.fit(spark_df)\n",
        "\n",
        "processed_tf = nlp_model_tf.transform(spark_df)\n",
        "\n",
        "processed_tf.select(\"text\",\"features\",\"label\",\"category\").show(truncate = 50)\n",
        "\n",
        "print(\"processed_tf.count : \" +  str(processed_tf.count()))"
      ],
      "metadata": {
        "colab": {
          "base_uri": "https://localhost:8080/"
        },
        "id": "M2FzDQ3ruidz",
        "outputId": "24bd6140-e303-44fb-aa2b-f16719fa0338"
      },
      "execution_count": 15,
      "outputs": [
        {
          "output_type": "stream",
          "name": "stdout",
          "text": [
            "+--------------------------------------------------+--------------------------------------------------+-----+----------+\n",
            "|                                              text|                                          features|label|  category|\n",
            "+--------------------------------------------------+--------------------------------------------------+-----+----------+\n",
            "| PREOPERATIVE DIAGNOSES 1. EMG-proven left carp...|(10000,[86,95,138,157,164,186,228,264,269,278,2...|  0.0|orthopedic|\n",
            "| PREOPERATIVE DIAGNOSIS: Bunion, left foot. POS...|(10000,[47,63,86,120,130,138,157,164,174,178,19...|  0.0|orthopedic|\n",
            "| RICE stands for the most important elements of...|(10000,[7,57,78,86,222,316,354,374,387,415,427,...|  0.0|orthopedic|\n",
            "| The patient is an 84-year-old retired male who...|(10000,[47,49,63,79,130,144,157,164,174,199,209...|  0.0|orthopedic|\n",
            "| PREOPERATIVE DIAGNOSES: 1. Left carpal tunnel ...|(10000,[95,122,130,131,157,165,266,278,286,328,...|  0.0|orthopedic|\n",
            "| PREOPERATIVE DIAGNOSIS: Herniated nucleus pulp...|(10000,[47,157,171,222,255,279,303,330,418,453,...|  0.0|orthopedic|\n",
            "| This is a 30-year-old female with pain and swe...|(10000,[1,95,164,255,263,264,303,309,343,361,48...|  0.0|orthopedic|\n",
            "| PREOPERATIVE DIAGNOSES: 1. Left diabetic foot ...|(10000,[39,57,109,157,174,206,221,222,284,353,3...|  0.0|orthopedic|\n",
            "| PREOPERATIVE DIAGNOSES: 1. Mass, left second t...|(10000,[8,138,157,174,178,195,278,284,307,319,3...|  0.0|orthopedic|\n",
            "| PREOPERATIVE DIAGNOSIS: Carpal tunnel syndrome...|(10000,[69,95,157,278,343,454,488,494,502,532,8...|  0.0|orthopedic|\n",
            "| PREOPERATIVE DIAGNOSES: 1. Pathologic insuffic...|(10000,[138,157,174,221,255,279,303,325,330,336...|  0.0|orthopedic|\n",
            "| PREOPERATIVE DIAGNOSIS: Severely comminuted fr...|(10000,[15,30,57,86,95,130,157,164,195,206,222,...|  0.0|orthopedic|\n",
            "| PREOPERATIVE DIAGNOSES: 1. Hallux abductovalgu...|(10000,[64,78,86,138,149,157,164,178,222,228,25...|  0.0|orthopedic|\n",
            "| PREOPERATIVE DIAGNOSIS: Hammertoe deformity of...|(10000,[56,72,86,125,157,164,171,174,178,189,22...|  0.0|orthopedic|\n",
            "| PREOPERATIVE DIAGNOSES: 1. Torn anterior cruci...|(10000,[1,7,79,95,125,157,161,164,255,266,269,2...|  0.0|orthopedic|\n",
            "| CHIEF COMPLAINT: Left hip pain. HISTORY OF PRE...|(10000,[60,86,157,165,270,294,352,364,387,488,5...|  0.0|orthopedic|\n",
            "| PREOPERATIVE DIAGNOSES: 1. Bunion left foot. 2...|(10000,[56,63,86,138,157,164,174,178,195,214,22...|  0.0|orthopedic|\n",
            "| PREOPERATIVE DIAGNOSES: Cervical degenerative ...|(10000,[51,57,60,86,130,157,171,174,186,239,279...|  0.0|orthopedic|\n",
            "| PREOPERATIVE DIAGNOSIS: Osteomyelitis, left ha...|(10000,[57,70,72,86,130,164,166,174,178,222,228...|  0.0|orthopedic|\n",
            "| PREOPERATIVE DIAGNOSIS: Herniated nucleus pulp...|(10000,[174,279,353,453,488,841,855,948,1049,11...|  0.0|orthopedic|\n",
            "+--------------------------------------------------+--------------------------------------------------+-----+----------+\n",
            "only showing top 20 rows\n",
            "\n",
            "processed_tf.count : 818\n"
          ]
        }
      ]
    },
    {
      "cell_type": "code",
      "source": [
        "(trainingData, testData) = processed_tf.randomSplit([0.8, 0.2], seed = 42)"
      ],
      "metadata": {
        "id": "WHZYNoN7sSst"
      },
      "execution_count": 16,
      "outputs": []
    },
    {
      "cell_type": "code",
      "source": [
        "preds_df = predictions.select('category','text',\"prediction\",'label').toPandas()\n",
        "\n",
        "print (classification_report(preds_df['label'], preds_df['prediction']))\n",
        "print (accuracy_score(preds_df['label'], preds_df['prediction']))"
      ],
      "metadata": {
        "colab": {
          "base_uri": "https://localhost:8080/"
        },
        "id": "OswYXs_Lw_Xz",
        "outputId": "551bc3dc-a8f8-4626-dc6c-2f1070b3ed50"
      },
      "execution_count": null,
      "outputs": [
        {
          "output_type": "stream",
          "name": "stdout",
          "text": [
            "              precision    recall  f1-score   support\n",
            "\n",
            "         0.0       0.76      0.73      0.75        30\n",
            "         1.0       0.68      0.82      0.75        34\n",
            "         2.0       0.97      0.91      0.94        32\n",
            "         3.0       0.60      0.53      0.56        17\n",
            "         4.0       1.00      0.92      0.96        26\n",
            "\n",
            "    accuracy                           0.81       139\n",
            "   macro avg       0.80      0.78      0.79       139\n",
            "weighted avg       0.81      0.81      0.81       139\n",
            "\n",
            "0.8057553956834532\n"
          ]
        }
      ]
    },
    {
      "cell_type": "code",
      "source": [
        "#preds_df1 = predictions_cv.select(\"label\").toPandas()\n",
        "\n",
        "preds = pd.DataFrame(confusion_matrix(list(preds_df.label.astype(int)), list(preds_df.prediction.astype(int))), columns = np.unique(preds_df1['label']), index =  np.unique(preds_df1['label']))\n",
        "\n",
        "preds"
      ],
      "metadata": {
        "colab": {
          "base_uri": "https://localhost:8080/",
          "height": 204
        },
        "id": "zbpclEiju9d7",
        "outputId": "ae68892c-1d3e-4618-dec8-c0e06bb445fb"
      },
      "execution_count": null,
      "outputs": [
        {
          "output_type": "execute_result",
          "data": {
            "text/html": [
              "\n",
              "  <div id=\"df-100d443b-588a-4160-85ba-a87ea24c7859\">\n",
              "    <div class=\"colab-df-container\">\n",
              "      <div>\n",
              "<style scoped>\n",
              "    .dataframe tbody tr th:only-of-type {\n",
              "        vertical-align: middle;\n",
              "    }\n",
              "\n",
              "    .dataframe tbody tr th {\n",
              "        vertical-align: top;\n",
              "    }\n",
              "\n",
              "    .dataframe thead th {\n",
              "        text-align: right;\n",
              "    }\n",
              "</style>\n",
              "<table border=\"1\" class=\"dataframe\">\n",
              "  <thead>\n",
              "    <tr style=\"text-align: right;\">\n",
              "      <th></th>\n",
              "      <th>0.0</th>\n",
              "      <th>1.0</th>\n",
              "      <th>2.0</th>\n",
              "      <th>3.0</th>\n",
              "      <th>4.0</th>\n",
              "    </tr>\n",
              "  </thead>\n",
              "  <tbody>\n",
              "    <tr>\n",
              "      <th>0.0</th>\n",
              "      <td>22</td>\n",
              "      <td>6</td>\n",
              "      <td>0</td>\n",
              "      <td>2</td>\n",
              "      <td>0</td>\n",
              "    </tr>\n",
              "    <tr>\n",
              "      <th>1.0</th>\n",
              "      <td>2</td>\n",
              "      <td>28</td>\n",
              "      <td>0</td>\n",
              "      <td>4</td>\n",
              "      <td>0</td>\n",
              "    </tr>\n",
              "    <tr>\n",
              "      <th>2.0</th>\n",
              "      <td>0</td>\n",
              "      <td>3</td>\n",
              "      <td>29</td>\n",
              "      <td>0</td>\n",
              "      <td>0</td>\n",
              "    </tr>\n",
              "    <tr>\n",
              "      <th>3.0</th>\n",
              "      <td>4</td>\n",
              "      <td>4</td>\n",
              "      <td>0</td>\n",
              "      <td>9</td>\n",
              "      <td>0</td>\n",
              "    </tr>\n",
              "    <tr>\n",
              "      <th>4.0</th>\n",
              "      <td>1</td>\n",
              "      <td>0</td>\n",
              "      <td>1</td>\n",
              "      <td>0</td>\n",
              "      <td>24</td>\n",
              "    </tr>\n",
              "  </tbody>\n",
              "</table>\n",
              "</div>\n",
              "      <button class=\"colab-df-convert\" onclick=\"convertToInteractive('df-100d443b-588a-4160-85ba-a87ea24c7859')\"\n",
              "              title=\"Convert this dataframe to an interactive table.\"\n",
              "              style=\"display:none;\">\n",
              "        \n",
              "  <svg xmlns=\"http://www.w3.org/2000/svg\" height=\"24px\"viewBox=\"0 0 24 24\"\n",
              "       width=\"24px\">\n",
              "    <path d=\"M0 0h24v24H0V0z\" fill=\"none\"/>\n",
              "    <path d=\"M18.56 5.44l.94 2.06.94-2.06 2.06-.94-2.06-.94-.94-2.06-.94 2.06-2.06.94zm-11 1L8.5 8.5l.94-2.06 2.06-.94-2.06-.94L8.5 2.5l-.94 2.06-2.06.94zm10 10l.94 2.06.94-2.06 2.06-.94-2.06-.94-.94-2.06-.94 2.06-2.06.94z\"/><path d=\"M17.41 7.96l-1.37-1.37c-.4-.4-.92-.59-1.43-.59-.52 0-1.04.2-1.43.59L10.3 9.45l-7.72 7.72c-.78.78-.78 2.05 0 2.83L4 21.41c.39.39.9.59 1.41.59.51 0 1.02-.2 1.41-.59l7.78-7.78 2.81-2.81c.8-.78.8-2.07 0-2.86zM5.41 20L4 18.59l7.72-7.72 1.47 1.35L5.41 20z\"/>\n",
              "  </svg>\n",
              "      </button>\n",
              "      \n",
              "  <style>\n",
              "    .colab-df-container {\n",
              "      display:flex;\n",
              "      flex-wrap:wrap;\n",
              "      gap: 12px;\n",
              "    }\n",
              "\n",
              "    .colab-df-convert {\n",
              "      background-color: #E8F0FE;\n",
              "      border: none;\n",
              "      border-radius: 50%;\n",
              "      cursor: pointer;\n",
              "      display: none;\n",
              "      fill: #1967D2;\n",
              "      height: 32px;\n",
              "      padding: 0 0 0 0;\n",
              "      width: 32px;\n",
              "    }\n",
              "\n",
              "    .colab-df-convert:hover {\n",
              "      background-color: #E2EBFA;\n",
              "      box-shadow: 0px 1px 2px rgba(60, 64, 67, 0.3), 0px 1px 3px 1px rgba(60, 64, 67, 0.15);\n",
              "      fill: #174EA6;\n",
              "    }\n",
              "\n",
              "    [theme=dark] .colab-df-convert {\n",
              "      background-color: #3B4455;\n",
              "      fill: #D2E3FC;\n",
              "    }\n",
              "\n",
              "    [theme=dark] .colab-df-convert:hover {\n",
              "      background-color: #434B5C;\n",
              "      box-shadow: 0px 1px 3px 1px rgba(0, 0, 0, 0.15);\n",
              "      filter: drop-shadow(0px 1px 2px rgba(0, 0, 0, 0.3));\n",
              "      fill: #FFFFFF;\n",
              "    }\n",
              "  </style>\n",
              "\n",
              "      <script>\n",
              "        const buttonEl =\n",
              "          document.querySelector('#df-100d443b-588a-4160-85ba-a87ea24c7859 button.colab-df-convert');\n",
              "        buttonEl.style.display =\n",
              "          google.colab.kernel.accessAllowed ? 'block' : 'none';\n",
              "\n",
              "        async function convertToInteractive(key) {\n",
              "          const element = document.querySelector('#df-100d443b-588a-4160-85ba-a87ea24c7859');\n",
              "          const dataTable =\n",
              "            await google.colab.kernel.invokeFunction('convertToInteractive',\n",
              "                                                     [key], {});\n",
              "          if (!dataTable) return;\n",
              "\n",
              "          const docLinkHtml = 'Like what you see? Visit the ' +\n",
              "            '<a target=\"_blank\" href=https://colab.research.google.com/notebooks/data_table.ipynb>data table notebook</a>'\n",
              "            + ' to learn more about interactive tables.';\n",
              "          element.innerHTML = '';\n",
              "          dataTable['output_type'] = 'display_data';\n",
              "          await google.colab.output.renderOutput(dataTable, element);\n",
              "          const docLink = document.createElement('div');\n",
              "          docLink.innerHTML = docLinkHtml;\n",
              "          element.appendChild(docLink);\n",
              "        }\n",
              "      </script>\n",
              "    </div>\n",
              "  </div>\n",
              "  "
            ],
            "text/plain": [
              "     0.0  1.0  2.0  3.0  4.0\n",
              "0.0   22    6    0    2    0\n",
              "1.0    2   28    0    4    0\n",
              "2.0    0    3   29    0    0\n",
              "3.0    4    4    0    9    0\n",
              "4.0    1    0    1    0   24"
            ]
          },
          "metadata": {},
          "execution_count": 55
        }
      ]
    },
    {
      "cell_type": "markdown",
      "source": [
        "# Random Forest with TFIDF\n",
        "\n"
      ],
      "metadata": {
        "id": "iOLL7szhcQtg"
      }
    },
    {
      "cell_type": "code",
      "source": [
        "rf = RandomForestClassifier(labelCol=\"label\", \\\n",
        "                            featuresCol=\"features\", \\\n",
        "                            numTrees = 500, \\\n",
        "                            maxDepth = 16, \\\n",
        "                            maxBins = 64)\n",
        "\n",
        "# Train model with Training Data\n",
        "rfModel = rf.fit(trainingData)\n",
        "predictions_rf = rfModel.transform(testData)"
      ],
      "metadata": {
        "id": "AyQ--a5JcQEP"
      },
      "execution_count": 17,
      "outputs": []
    },
    {
      "cell_type": "code",
      "source": [
        "preds_df = predictions_rf.select('category','text',\"prediction\",'label').toPandas()\n",
        "\n",
        "print (classification_report(preds_df['label'], preds_df['prediction']))\n",
        "print (accuracy_score(preds_df['label'], preds_df['prediction']))"
      ],
      "metadata": {
        "colab": {
          "base_uri": "https://localhost:8080/"
        },
        "id": "8CAUnJjCspKa",
        "outputId": "e0292d47-cb02-459b-d5e2-13fc22a9e039"
      },
      "execution_count": null,
      "outputs": [
        {
          "output_type": "stream",
          "name": "stdout",
          "text": [
            "              precision    recall  f1-score   support\n",
            "\n",
            "         0.0       0.65      0.73      0.69        30\n",
            "         1.0       0.61      0.79      0.69        34\n",
            "         2.0       0.90      0.81      0.85        32\n",
            "         3.0       0.57      0.47      0.52        17\n",
            "         4.0       1.00      0.69      0.82        26\n",
            "\n",
            "    accuracy                           0.73       139\n",
            "   macro avg       0.75      0.70      0.71       139\n",
            "weighted avg       0.75      0.73      0.73       139\n",
            "\n",
            "0.7266187050359713\n"
          ]
        }
      ]
    },
    {
      "cell_type": "markdown",
      "source": [
        "# Clinical Embeddings + LogReg Model"
      ],
      "metadata": {
        "id": "qOBk35FM5fxU"
      }
    },
    {
      "cell_type": "code",
      "source": [
        "clinical_embeddings = WordEmbeddingsModel.pretrained(\"embeddings_clinical\", \"en\", \"clinical/models\")\\\n",
        "    .setInputCols([\"document\", \"lemma\"])\\\n",
        "    .setOutputCol(\"embeddings\")\\\n",
        "    .setCaseSensitive(False)\n",
        "\n",
        "embeddingsSentence = SentenceEmbeddings() \\\n",
        "    .setInputCols([\"document\", \"embeddings\"]) \\\n",
        "    .setOutputCol(\"sentence_embeddings\") \\\n",
        "    .setPoolingStrategy(\"AVERAGE\")\n",
        "\n",
        "embeddings_finisher = EmbeddingsFinisher() \\\n",
        "    .setInputCols([\"sentence_embeddings\"]) \\\n",
        "    .setOutputCols([\"finished_sentence_embeddings\"]) \\\n",
        "    .setOutputAsVector(True)\\\n",
        "    .setCleanAnnotations(False)\n",
        "\n",
        "explodeVectors = SQLTransformer(statement=\n",
        "      \"SELECT EXPLODE(finished_sentence_embeddings) AS features, * FROM __THIS__\")\n",
        "\n",
        "nlp_pipeline_w2v = Pipeline(\n",
        "    stages=[documentAssembler,\n",
        "            tokenizer,\n",
        "            normalizer,\n",
        "            stopwords_cleaner,\n",
        "            lemmatizer,\n",
        "            clinical_embeddings,\n",
        "            embeddingsSentence,\n",
        "            embeddings_finisher,\n",
        "            explodeVectors,\n",
        "            label_stringIdx])\n",
        "\n",
        "nlp_model_w2v = nlp_pipeline_w2v.fit(spark_df)\n",
        "\n",
        "processed_w2v = nlp_model_w2v.transform(spark_df)"
      ],
      "metadata": {
        "colab": {
          "base_uri": "https://localhost:8080/"
        },
        "id": "U3t7Tn1V5fMW",
        "outputId": "271ba248-96cf-40b5-c76f-13de99e3c0c3"
      },
      "execution_count": null,
      "outputs": [
        {
          "output_type": "stream",
          "name": "stdout",
          "text": [
            "embeddings_clinical download started this may take some time.\n",
            "Approximate size to download 1.6 GB\n",
            "[OK!]\n"
          ]
        }
      ]
    },
    {
      "cell_type": "code",
      "source": [
        "(trainingData, testData) = processed_w2v.randomSplit([0.8, 0.2], seed = 42)"
      ],
      "metadata": {
        "id": "4VNo_tUA5vyh"
      },
      "execution_count": null,
      "outputs": []
    },
    {
      "cell_type": "code",
      "source": [
        "lrModel_w2v = lr.fit(trainingData)\n",
        "\n",
        "predictions_w2v = lrModel_w2v.transform(testData)"
      ],
      "metadata": {
        "id": "A07NpIpv5vpb"
      },
      "execution_count": null,
      "outputs": []
    },
    {
      "cell_type": "code",
      "source": [
        "preds_df = predictions_w2v.select('category','text',\"prediction\",'label').toPandas()\n",
        "\n",
        "print (classification_report(preds_df['label'], preds_df['prediction']))\n",
        "print (accuracy_score(preds_df['label'], preds_df['prediction']))"
      ],
      "metadata": {
        "colab": {
          "base_uri": "https://localhost:8080/"
        },
        "id": "iY9EmaVD5vlI",
        "outputId": "cff80fd6-2d0b-4509-9856-64302b24d1ef"
      },
      "execution_count": null,
      "outputs": [
        {
          "output_type": "stream",
          "name": "stdout",
          "text": [
            "              precision    recall  f1-score   support\n",
            "\n",
            "         0.0       0.82      0.94      0.87        33\n",
            "         1.0       0.90      0.47      0.62        38\n",
            "         2.0       0.75      0.83      0.79        29\n",
            "         3.0       0.46      0.65      0.54        17\n",
            "         4.0       0.64      0.73      0.68        22\n",
            "\n",
            "    accuracy                           0.72       139\n",
            "   macro avg       0.71      0.72      0.70       139\n",
            "weighted avg       0.75      0.72      0.71       139\n",
            "\n",
            "0.7194244604316546\n"
          ]
        }
      ]
    },
    {
      "cell_type": "markdown",
      "source": [
        "# ClassifierDL with BioBert Embeddings"
      ],
      "metadata": {
        "id": "t86twkFTCkyh"
      }
    },
    {
      "cell_type": "code",
      "source": [
        "(trainingData, testData) = spark_df.randomSplit([0.8, 0.2], seed = 42)\n",
        "\n",
        "print(\"Training Dataset Count: \" + str(trainingData.count()))\n",
        "print(\"Test Dataset Count: \" + str(testData.count()))"
      ],
      "metadata": {
        "colab": {
          "base_uri": "https://localhost:8080/"
        },
        "id": "sVnRae52CnBi",
        "outputId": "1dbd568f-bd57-4e37-be3d-90b99afcf886"
      },
      "execution_count": null,
      "outputs": [
        {
          "output_type": "stream",
          "name": "stdout",
          "text": [
            "Training Dataset Count: 679\n",
            "Test Dataset Count: 139\n"
          ]
        }
      ]
    },
    {
      "cell_type": "code",
      "source": [
        "bert_embeddings = BertEmbeddings.pretrained(\"biobert_pubmed_base_cased\", \"en\", \"public/models\")\\\n",
        "    .setInputCols([\"document\", \"token\"])\\\n",
        "    .setOutputCol(\"embeddings\")\\\n",
        "\n",
        "embeddingsSentence = SentenceEmbeddings() \\\n",
        "    .setInputCols([\"document\", \"embeddings\"]) \\\n",
        "    .setOutputCol(\"sentence_embeddings\") \\\n",
        "    .setPoolingStrategy(\"AVERAGE\")\n",
        "\n",
        "classifierdl = ClassifierDLApproach()\\\n",
        "    .setInputCols([\"sentence_embeddings\"])\\\n",
        "    .setOutputCol(\"class\")\\\n",
        "    .setLabelColumn(\"category\")\\\n",
        "    .setBatchSize(8)\\\n",
        "    .setMaxEpochs(64)\\\n",
        "    .setLr(0.0003)\\\n",
        "    .setEnableOutputLogs(True)\n",
        "\n",
        "biobert_clf_pipeline = Pipeline(\n",
        "    stages = [\n",
        "        documentAssembler,\n",
        "        tokenizer,\n",
        "        bert_embeddings,\n",
        "        embeddingsSentence,\n",
        "        classifierdl\n",
        "    ])"
      ],
      "metadata": {
        "id": "qpxPhvrMCm4m",
        "colab": {
          "base_uri": "https://localhost:8080/"
        },
        "outputId": "ae5160a5-347d-4355-b5a1-cc988d54cf0b"
      },
      "execution_count": null,
      "outputs": [
        {
          "output_type": "stream",
          "name": "stdout",
          "text": [
            "biobert_pubmed_base_cased download started this may take some time.\n",
            "Approximate size to download 386.4 MB\n",
            "[OK!]\n"
          ]
        }
      ]
    },
    {
      "cell_type": "code",
      "source": [
        "%%time \n",
        "\n",
        "biobert_clf_model = biobert_clf_pipeline.fit(trainingData)"
      ],
      "metadata": {
        "colab": {
          "base_uri": "https://localhost:8080/"
        },
        "id": "z57dvkXx4teT",
        "outputId": "d056938b-5e3f-4361-bde5-7359529510b8"
      },
      "execution_count": null,
      "outputs": [
        {
          "output_type": "stream",
          "name": "stdout",
          "text": [
            "CPU times: user 2.57 s, sys: 306 ms, total: 2.88 s\n",
            "Wall time: 8min 30s\n"
          ]
        }
      ]
    },
    {
      "cell_type": "code",
      "source": [
        "!cd ~/annotator_logs/ && ls -lt"
      ],
      "metadata": {
        "colab": {
          "base_uri": "https://localhost:8080/"
        },
        "id": "qBpSsbka4vsa",
        "outputId": "1c97b226-a403-4dce-8c2e-8912a2d2c175"
      },
      "execution_count": null,
      "outputs": [
        {
          "output_type": "stream",
          "name": "stdout",
          "text": [
            "total 16\n",
            "-rw-r--r-- 1 root root 4523 Jan 30 15:45 ClassifierDLApproach_8adb8d569980.log\n",
            "-rw-r--r-- 1 root root 4528 Jan 30 15:15 ClassifierDLApproach_3766b9ecc866.log\n"
          ]
        }
      ]
    },
    {
      "cell_type": "code",
      "source": [
        "#!cat ~/annotator_logs/ClassifierDLApproach_a823ba370d3c.log"
      ],
      "metadata": {
        "id": "bLETN7cwhgct"
      },
      "execution_count": null,
      "outputs": []
    },
    {
      "cell_type": "code",
      "source": [
        "!tail -n 5 ~/annotator_logs/ClassifierDLApproach_8adb8d569980.log"
      ],
      "metadata": {
        "colab": {
          "base_uri": "https://localhost:8080/"
        },
        "id": "GqU9hX_04voc",
        "outputId": "972ec820-ce50-4318-9462-826f393154b1"
      },
      "execution_count": null,
      "outputs": [
        {
          "output_type": "stream",
          "name": "stdout",
          "text": [
            "Epoch 59/64 - 0.45s - loss: 134.68219 - acc: 0.30994898 - batches: 85\n",
            "Epoch 60/64 - 0.45s - loss: 134.67667 - acc: 0.30994898 - batches: 85\n",
            "Epoch 61/64 - 0.45s - loss: 134.67117 - acc: 0.30994898 - batches: 85\n",
            "Epoch 62/64 - 0.45s - loss: 134.66588 - acc: 0.30994898 - batches: 85\n",
            "Epoch 63/64 - 0.46s - loss: 134.66058 - acc: 0.30994898 - batches: 85\n"
          ]
        }
      ]
    },
    {
      "cell_type": "code",
      "source": [
        "preds = biobert_clf_model.transform(testData)\n",
        "\n",
        "preds_df = preds.select(\"category\",\"text\",\"class.result\").toPandas()\n",
        "\n",
        "preds_df['result'] = preds_df['result'].apply(lambda x : x[0])\n",
        "\n",
        "print (classification_report(preds_df['category'], preds_df['result']))\n",
        "\n",
        "print (accuracy_score(preds_df['category'], preds_df['result']))"
      ],
      "metadata": {
        "colab": {
          "base_uri": "https://localhost:8080/"
        },
        "id": "UM6K9bbd4vUX",
        "outputId": "1658d90c-d3ac-4989-c684-8f4bc0063e19"
      },
      "execution_count": null,
      "outputs": [
        {
          "output_type": "stream",
          "name": "stdout",
          "text": [
            "                  precision    recall  f1-score   support\n",
            "\n",
            "gastroenterology       0.00      0.00      0.00        32\n",
            "       neurology       0.00      0.00      0.00        17\n",
            "      orthopedic       0.22      0.97      0.36        30\n",
            "       radiology       0.43      0.09      0.15        34\n",
            "         urology       0.00      0.00      0.00        26\n",
            "\n",
            "        accuracy                           0.23       139\n",
            "       macro avg       0.13      0.21      0.10       139\n",
            "    weighted avg       0.15      0.23      0.11       139\n",
            "\n",
            "0.2302158273381295\n"
          ]
        }
      ]
    },
    {
      "cell_type": "markdown",
      "source": [
        "# ClassifierDL with Clinical Embeddings\n"
      ],
      "metadata": {
        "id": "TvTMaswwlxtc"
      }
    },
    {
      "cell_type": "code",
      "source": [
        "classsifierdl = ClassifierDLApproach()\\\n",
        "  .setInputCols([\"sentence_embeddings\"])\\\n",
        "  .setOutputCol(\"class\")\\\n",
        "  .setLabelColumn(\"category\")\\\n",
        "  .setBatchSize(8)\\\n",
        "  .setMaxEpochs(200)\\\n",
        "  .setLr(0.003)\\\n",
        "  .setEnableOutputLogs(True)\n",
        "\n",
        "clf_pipeline = Pipeline(\n",
        "    stages=[documentAssembler, \n",
        "            tokenizer,\n",
        "            normalizer,\n",
        "            stopwords_cleaner, \n",
        "            lemmatizer, \n",
        "            clinical_embeddings,\n",
        "            embeddingsSentence,\n",
        "            classsifierdl])"
      ],
      "metadata": {
        "id": "Ed3-8PUkmIHm"
      },
      "execution_count": null,
      "outputs": []
    },
    {
      "cell_type": "code",
      "source": [
        "%%time\n",
        "\n",
        "clf_pipelineModel = clf_pipeline.fit(trainingData)\n",
        "\n",
        "preds_clf = clf_pipelineModel.transform(testData)"
      ],
      "metadata": {
        "colab": {
          "base_uri": "https://localhost:8080/"
        },
        "id": "i-G2g6ckmH-4",
        "outputId": "9cba9476-d5b5-41c8-847b-dd9ece06d9b3"
      },
      "execution_count": null,
      "outputs": [
        {
          "output_type": "stream",
          "name": "stdout",
          "text": [
            "CPU times: user 1.32 s, sys: 228 ms, total: 1.55 s\n",
            "Wall time: 2min 42s\n"
          ]
        }
      ]
    },
    {
      "cell_type": "code",
      "source": [
        "!cd ~/annotator_logs/ && ls -lt"
      ],
      "metadata": {
        "colab": {
          "base_uri": "https://localhost:8080/"
        },
        "id": "Pz78y9MZmHvF",
        "outputId": "22f7aa83-67ac-4fd8-a974-4d5e924fff35"
      },
      "execution_count": null,
      "outputs": [
        {
          "output_type": "stream",
          "name": "stdout",
          "text": [
            "total 16\n",
            "-rw-r--r-- 1 root root 14306 Jan 30 18:58 ClassifierDLApproach_2174e13a3327.log\n"
          ]
        }
      ]
    },
    {
      "cell_type": "code",
      "source": [
        "!tail -n 5 ~/annotator_logs/ClassifierDLApproach_2174e13a3327.log"
      ],
      "metadata": {
        "colab": {
          "base_uri": "https://localhost:8080/"
        },
        "id": "A7aQNPCGmVGd",
        "outputId": "d3150d78-e0c6-4d7d-9715-08211ec97331"
      },
      "execution_count": null,
      "outputs": [
        {
          "output_type": "stream",
          "name": "stdout",
          "text": [
            "Epoch 195/200 - 0.67s - loss: 105.74354 - acc: 0.6660289 - batches: 85\n",
            "Epoch 196/200 - 0.64s - loss: 105.740166 - acc: 0.6660289 - batches: 85\n",
            "Epoch 197/200 - 0.66s - loss: 105.7368 - acc: 0.6660289 - batches: 85\n",
            "Epoch 198/200 - 0.65s - loss: 105.73342 - acc: 0.6660289 - batches: 85\n",
            "Epoch 199/200 - 0.63s - loss: 105.73008 - acc: 0.6660289 - batches: 85\n"
          ]
        }
      ]
    },
    {
      "cell_type": "code",
      "source": [
        "preds_df = preds_clf.select(\"category\",\"text\",\"class.result\").toPandas()\n",
        "\n",
        "preds_df[\"result\"] = preds_df[\"result\"].apply(lambda x : x[0])\n",
        "\n",
        "print (classification_report(preds_df[\"category\"], preds_df[\"result\"]))\n",
        "\n",
        "print (accuracy_score(preds_df['category'], preds_df['result']))\n"
      ],
      "metadata": {
        "colab": {
          "base_uri": "https://localhost:8080/"
        },
        "id": "rmKhiZn4mU9Z",
        "outputId": "805dad16-171a-4741-fc1b-c75948c0e3ad"
      },
      "execution_count": null,
      "outputs": [
        {
          "output_type": "stream",
          "name": "stdout",
          "text": [
            "                  precision    recall  f1-score   support\n",
            "\n",
            "gastroenterology       0.58      0.88      0.70        32\n",
            "       neurology       0.48      0.59      0.53        17\n",
            "      orthopedic       0.68      0.87      0.76        30\n",
            "       radiology       0.72      0.68      0.70        34\n",
            "         urology       0.00      0.00      0.00        26\n",
            "\n",
            "        accuracy                           0.63       139\n",
            "       macro avg       0.49      0.60      0.54       139\n",
            "    weighted avg       0.52      0.63      0.56       139\n",
            "\n",
            "0.6258992805755396\n"
          ]
        }
      ]
    },
    {
      "cell_type": "markdown",
      "source": [
        "# ClassifierDL with Universal Sentence Embeddings "
      ],
      "metadata": {
        "id": "rHJOW521vWeB"
      }
    },
    {
      "cell_type": "code",
      "source": [
        "use = UniversalSentenceEncoder.pretrained()\\\n",
        "    .setInputCols([\"document\"])\\\n",
        "    .setOutputCol(\"sentence_embeddings\")\n",
        "\n",
        "classsifierdl = ClassifierDLApproach()\\\n",
        "    .setInputCols([\"sentence_embeddings\"])\\\n",
        "    .setOutputCol(\"class\")\\\n",
        "    .setLabelColumn(\"category\")\\\n",
        "    .setBatchSize(8)\\\n",
        "    .setMaxEpochs(250)\\\n",
        "    .setLr(0.003)\\\n",
        "    .setEnableOutputLogs(True)\\\n",
        "\n",
        "use_clf_pipeline = Pipeline(\n",
        "    stages = [\n",
        "        documentAssembler,\n",
        "        use,\n",
        "        classsifierdl\n",
        "    ])\n"
      ],
      "metadata": {
        "colab": {
          "base_uri": "https://localhost:8080/"
        },
        "id": "OW8VabpJmU0p",
        "outputId": "02dc8a85-9330-4771-c138-87523a8d050b"
      },
      "execution_count": null,
      "outputs": [
        {
          "output_type": "stream",
          "name": "stdout",
          "text": [
            "tfhub_use download started this may take some time.\n",
            "Approximate size to download 923.7 MB\n",
            "[OK!]\n"
          ]
        }
      ]
    },
    {
      "cell_type": "code",
      "source": [
        "%%time\n",
        "use_clf_pipelineModel = use_clf_pipeline.fit(trainingData)"
      ],
      "metadata": {
        "colab": {
          "base_uri": "https://localhost:8080/"
        },
        "id": "Fg17AslAmUsX",
        "outputId": "c8898661-d515-45d3-a8cc-e6e281437dc3"
      },
      "execution_count": null,
      "outputs": [
        {
          "output_type": "stream",
          "name": "stdout",
          "text": [
            "CPU times: user 597 ms, sys: 64.3 ms, total: 661 ms\n",
            "Wall time: 2min 7s\n"
          ]
        }
      ]
    },
    {
      "cell_type": "code",
      "source": [
        "!cd ~/annotator_logs/ && ls -lt"
      ],
      "metadata": {
        "colab": {
          "base_uri": "https://localhost:8080/"
        },
        "id": "TVyKnzc_mUPp",
        "outputId": "aa0729e7-c1bb-4fec-bf1c-629d24a644c3"
      },
      "execution_count": null,
      "outputs": [
        {
          "output_type": "stream",
          "name": "stdout",
          "text": [
            "total 40\n",
            "-rw-r--r-- 1 root root 17599 Jan 30 10:28 ClassifierDLApproach_834b0a48e47e.log\n",
            "-rw-r--r-- 1 root root 17814 Jan 30 10:24 ClassifierDLApproach_02e9e77f91d7.log\n"
          ]
        }
      ]
    },
    {
      "cell_type": "code",
      "source": [
        "!tail -n 5 ~/annotator_logs/ClassifierDLApproach_834b0a48e47e.log"
      ],
      "metadata": {
        "colab": {
          "base_uri": "https://localhost:8080/"
        },
        "id": "5ZB0RrbYw54H",
        "outputId": "871a2c7f-3989-4d61-be9f-f03614eb110a"
      },
      "execution_count": null,
      "outputs": [
        {
          "output_type": "stream",
          "name": "stdout",
          "text": [
            "Epoch 245/250 - 0.47s - loss: 97.41925 - acc: 0.8244048 - batches: 85\n",
            "Epoch 246/250 - 0.48s - loss: 97.416885 - acc: 0.8244048 - batches: 85\n",
            "Epoch 247/250 - 0.47s - loss: 97.41458 - acc: 0.8244048 - batches: 85\n",
            "Epoch 248/250 - 0.47s - loss: 97.41225 - acc: 0.8244048 - batches: 85\n",
            "Epoch 249/250 - 0.48s - loss: 97.40986 - acc: 0.8244048 - batches: 85\n"
          ]
        }
      ]
    },
    {
      "cell_type": "code",
      "source": [
        "preds = use_clf_pipelineModel.transform(testData)\n",
        "\n",
        "preds_df = preds.select(\"category\",\"text\",\"class.result\").toPandas()\n",
        "\n",
        "preds_df[\"result\"] = preds_df[\"result\"].apply(lambda x : x[0])\n",
        "\n",
        "print (classification_report(preds_df[\"category\"], preds_df[\"result\"]))\n",
        "\n",
        "print (accuracy_score(preds_df['category'], preds_df['result']))"
      ],
      "metadata": {
        "colab": {
          "base_uri": "https://localhost:8080/"
        },
        "id": "tYqNsvg-xH4G",
        "outputId": "148c5687-700d-41e4-bc67-9a2c3114b0c1"
      },
      "execution_count": null,
      "outputs": [
        {
          "output_type": "stream",
          "name": "stdout",
          "text": [
            "                  precision    recall  f1-score   support\n",
            "\n",
            "gastroenterology       0.83      0.78      0.81        32\n",
            "       neurology       0.69      0.65      0.67        17\n",
            "      orthopedic       0.76      0.87      0.81        30\n",
            "       radiology       0.79      0.76      0.78        34\n",
            "         urology       0.85      0.85      0.85        26\n",
            "\n",
            "        accuracy                           0.79       139\n",
            "       macro avg       0.78      0.78      0.78       139\n",
            "    weighted avg       0.79      0.79      0.79       139\n",
            "\n",
            "0.7913669064748201\n"
          ]
        }
      ]
    },
    {
      "cell_type": "code",
      "source": [
        "use_clf_pipelineModel.stages"
      ],
      "metadata": {
        "colab": {
          "base_uri": "https://localhost:8080/"
        },
        "id": "m8VDV17YxPtS",
        "outputId": "75b1f57f-4d7c-44ac-915c-dea89512e489"
      },
      "execution_count": null,
      "outputs": [
        {
          "output_type": "execute_result",
          "data": {
            "text/plain": [
              "[DocumentAssembler_42a4fb3b1d99,\n",
              " UNIVERSAL_SENTENCE_ENCODER_4de71669b7ec,\n",
              " ClassifierDLModel_f58a7605b396]"
            ]
          },
          "metadata": {},
          "execution_count": 44
        }
      ]
    },
    {
      "cell_type": "code",
      "source": [
        "use_clf_pipelineModel.stages[2].write().overwrite().save(\"/content/drive/MyDrive/SparkNLPTask/use_clf_e500_b8_lr003\")"
      ],
      "metadata": {
        "id": "BxQRyRfexZNf"
      },
      "execution_count": null,
      "outputs": []
    },
    {
      "cell_type": "markdown",
      "source": [
        "# ClassifierDL with BertSentenceEmbeddings\n",
        "\n"
      ],
      "metadata": {
        "id": "A-4Lh83Nr0by"
      }
    },
    {
      "cell_type": "code",
      "source": [
        "bert_sent = BertSentenceEmbeddings.pretrained(\"sent_small_bert_L12_768\")\\\n",
        " .setInputCols([\"document\"])\\\n",
        " .setOutputCol(\"sentence_embeddings\")\n",
        "\n",
        "classsifierdl = ClassifierDLApproach()\\\n",
        "  .setInputCols([\"sentence_embeddings\"])\\\n",
        "  .setOutputCol(\"class\")\\\n",
        "  .setLabelColumn(\"category\")\\\n",
        "  .setMaxEpochs(10)\\\n",
        "  .setBatchSize(8)\\\n",
        "  .setLr(0.0004)\\\n",
        "  .setEnableOutputLogs(True)\n",
        "\n",
        "bert_clf_pipeline = Pipeline(\n",
        "    stages = [\n",
        "        documentAssembler,\n",
        "        bert_sent,\n",
        "        classsifierdl\n",
        "    ])"
      ],
      "metadata": {
        "colab": {
          "base_uri": "https://localhost:8080/"
        },
        "id": "u2Qs9SU7r0DK",
        "outputId": "73d8d35a-93ed-46bf-f19e-88bfeb35fe0b"
      },
      "execution_count": null,
      "outputs": [
        {
          "output_type": "stream",
          "name": "stdout",
          "text": [
            "sent_small_bert_L12_768 download started this may take some time.\n",
            "Approximate size to download 392.9 MB\n",
            "[OK!]\n"
          ]
        }
      ]
    },
    {
      "cell_type": "code",
      "source": [
        "classsifierdl.getDropout()"
      ],
      "metadata": {
        "colab": {
          "base_uri": "https://localhost:8080/"
        },
        "id": "toTUZFAxsHaS",
        "outputId": "2bb2399b-ed88-4a3a-9e17-d91551edec22"
      },
      "execution_count": null,
      "outputs": [
        {
          "output_type": "execute_result",
          "data": {
            "text/plain": [
              "0.5"
            ]
          },
          "metadata": {},
          "execution_count": 37
        }
      ]
    },
    {
      "cell_type": "code",
      "source": [
        "%%time \n",
        "\n",
        "bert_clf_pipeline = bert_clf_pipeline.fit(trainingData)"
      ],
      "metadata": {
        "colab": {
          "base_uri": "https://localhost:8080/"
        },
        "id": "EudHp042sHPY",
        "outputId": "623bbd2f-7a28-45c4-c52e-42b9f8b3742b"
      },
      "execution_count": null,
      "outputs": [
        {
          "output_type": "stream",
          "name": "stdout",
          "text": [
            "CPU times: user 3.52 s, sys: 434 ms, total: 3.96 s\n",
            "Wall time: 9min 51s\n"
          ]
        }
      ]
    },
    {
      "cell_type": "code",
      "source": [
        "!cd ~/annotator_logs/ && ls -lt"
      ],
      "metadata": {
        "colab": {
          "base_uri": "https://localhost:8080/"
        },
        "id": "Cdr6BOconByu",
        "outputId": "81080d95-5725-46b4-f72f-2aa8192b7e75"
      },
      "execution_count": null,
      "outputs": [
        {
          "output_type": "stream",
          "name": "stdout",
          "text": [
            "total 4\n",
            "-rw-r--r-- 1 root root 800 Feb  7 14:48 ClassifierDLApproach_0d2373912dd1.log\n"
          ]
        }
      ]
    },
    {
      "cell_type": "code",
      "source": [
        "!tail -n 5 ~/annotator_logs/ClassifierDLApproach_0d2373912dd1.log"
      ],
      "metadata": {
        "colab": {
          "base_uri": "https://localhost:8080/"
        },
        "id": "PC_2FK1-nAsj",
        "outputId": "e30d82c0-3a65-43d6-89a7-16676f473f6a"
      },
      "execution_count": null,
      "outputs": [
        {
          "output_type": "stream",
          "name": "stdout",
          "text": [
            "Epoch 5/10 - 0.59s - loss: 122.12793 - acc: 0.45897108 - batches: 85\n",
            "Epoch 6/10 - 0.59s - loss: 121.756996 - acc: 0.45897108 - batches: 85\n",
            "Epoch 7/10 - 0.85s - loss: 121.463005 - acc: 0.45897108 - batches: 85\n",
            "Epoch 8/10 - 0.61s - loss: 121.214775 - acc: 0.45897108 - batches: 85\n",
            "Epoch 9/10 - 0.59s - loss: 121.000824 - acc: 0.46343535 - batches: 85\n"
          ]
        }
      ]
    },
    {
      "cell_type": "code",
      "source": [
        "preds = bert_clf_pipeline.transform(testData)\n",
        "\n",
        "preds_df = preds.select('category','text',\"class.result\").toPandas()\n",
        "\n",
        "preds_df['result'] = preds_df['result'].apply(lambda x : x[0])\n",
        "\n",
        "print (classification_report(preds_df['result'], preds_df['category']))\n",
        "\n",
        "print (accuracy_score(preds_df['category'], preds_df['result']))"
      ],
      "metadata": {
        "colab": {
          "base_uri": "https://localhost:8080/"
        },
        "id": "fg2Y1IdqsHFC",
        "outputId": "ab6086c8-54ca-44eb-f731-222d43282049"
      },
      "execution_count": null,
      "outputs": [
        {
          "output_type": "stream",
          "name": "stdout",
          "text": [
            "                  precision    recall  f1-score   support\n",
            "\n",
            "gastroenterology       0.03      1.00      0.06         1\n",
            "       neurology       0.00      0.00      0.00         0\n",
            "      orthopedic       0.83      0.33      0.48        75\n",
            "       radiology       0.94      0.51      0.66        63\n",
            "         urology       0.00      0.00      0.00         0\n",
            "\n",
            "        accuracy                           0.42       139\n",
            "       macro avg       0.36      0.37      0.24       139\n",
            "    weighted avg       0.88      0.42      0.56       139\n",
            "\n",
            "0.4172661870503597\n"
          ]
        }
      ]
    },
    {
      "cell_type": "markdown",
      "source": [
        "# ClassifierDL with Elmo Embeddings"
      ],
      "metadata": {
        "id": "0x7AtWDuxWAC"
      }
    },
    {
      "cell_type": "code",
      "source": [
        "elmo_embeddings = ElmoEmbeddings.pretrained()\\\n",
        "      .setPoolingLayer(\"word_emb\")\\\n",
        "      .setInputCols([\"document\",'cleanTokens'])\\\n",
        "      .setOutputCol(\"elmo\")\n",
        "\n",
        "embeddingsSentence = SentenceEmbeddings() \\\n",
        "      .setInputCols([\"document\", \"elmo\"]) \\\n",
        "      .setOutputCol(\"sentence_embeddings\") \\\n",
        "      .setPoolingStrategy(\"AVERAGE\")    \n",
        "\n",
        "classsifierdl = ClassifierDLApproach()\\\n",
        "  .setInputCols([\"sentence_embeddings\"])\\\n",
        "  .setOutputCol(\"class\")\\\n",
        "  .setLabelColumn(\"category\")\\\n",
        "  .setMaxEpochs(5)\\\n",
        "  .setBatchSize(8)\\\n",
        "  .setLr(0.0004)\\\n",
        "  .setEnableOutputLogs(True)\n",
        "\n",
        "elmo_clf_pipeline = Pipeline(\n",
        "stages=[documentAssembler, \n",
        "            tokenizer, \n",
        "            elmo_embeddings,\n",
        "            embeddingsSentence,\n",
        "            embeddings_finisher,\n",
        "            classsifierdl])"
      ],
      "metadata": {
        "colab": {
          "base_uri": "https://localhost:8080/"
        },
        "id": "NPhYn6uGsG1V",
        "outputId": "cd328bcc-a27d-4ede-dc7a-27b0baed3764"
      },
      "execution_count": null,
      "outputs": [
        {
          "output_type": "stream",
          "name": "stdout",
          "text": [
            "elmo download started this may take some time.\n",
            "Approximate size to download 334.1 MB\n",
            "[OK!]\n"
          ]
        }
      ]
    },
    {
      "cell_type": "code",
      "source": [
        "processed_trainingData = elmo_clf_pipeline.fit(trainingData)"
      ],
      "metadata": {
        "id": "CptBqx3nsGqb"
      },
      "execution_count": null,
      "outputs": []
    },
    {
      "cell_type": "code",
      "source": [
        "!cd ~/annotator_logs/ && ls -lt"
      ],
      "metadata": {
        "id": "cU-H5mE4sGf5",
        "colab": {
          "base_uri": "https://localhost:8080/"
        },
        "outputId": "b13f207c-8c4d-457b-fb59-d3fef4712b3a"
      },
      "execution_count": null,
      "outputs": [
        {
          "output_type": "stream",
          "name": "stdout",
          "text": [
            "total 20\n",
            "-rw-r--r-- 1 root root  444 Jan 30 16:25 ClassifierDLApproach_961ff3b17026.log\n",
            "-rw-r--r-- 1 root root 4523 Jan 30 15:45 ClassifierDLApproach_8adb8d569980.log\n",
            "-rw-r--r-- 1 root root 4528 Jan 30 15:15 ClassifierDLApproach_3766b9ecc866.log\n"
          ]
        }
      ]
    },
    {
      "cell_type": "code",
      "source": [
        "!tail -n 5 ~/annotator_logs/ClassifierDLApproach_961ff3b17026.log"
      ],
      "metadata": {
        "id": "HrNlffm8sGNr",
        "colab": {
          "base_uri": "https://localhost:8080/"
        },
        "outputId": "c1e27468-fd7d-4d29-979c-4c157dee8da3"
      },
      "execution_count": null,
      "outputs": [
        {
          "output_type": "stream",
          "name": "stdout",
          "text": [
            "Epoch 0/5 - 0.71s - loss: 136.74052 - acc: 0.3622449 - batches: 85\n",
            "Epoch 1/5 - 0.59s - loss: 136.43806 - acc: 0.43962583 - batches: 85\n",
            "Epoch 2/5 - 0.60s - loss: 136.27179 - acc: 0.442602 - batches: 85\n",
            "Epoch 3/5 - 0.60s - loss: 136.14882 - acc: 0.44557822 - batches: 85\n",
            "Epoch 4/5 - 0.57s - loss: 136.05234 - acc: 0.44409013 - batches: 85\n"
          ]
        }
      ]
    },
    {
      "cell_type": "code",
      "source": [
        "preds = processed_trainingData.transform(testData)\n",
        "\n",
        "preds_df = preds.select('category','text',\"class.result\").toPandas()\n",
        "\n",
        "preds_df['result'] = preds_df['result'].apply(lambda x : x[0])\n",
        "\n",
        "print (classification_report(preds_df['result'], preds_df['category']))\n",
        "\n",
        "print (accuracy_score(preds_df['category'], preds_df['result']))"
      ],
      "metadata": {
        "colab": {
          "base_uri": "https://localhost:8080/"
        },
        "id": "polGmHQY0LoN",
        "outputId": "444b7613-73ce-4734-f137-a29789113081"
      },
      "execution_count": null,
      "outputs": [
        {
          "output_type": "stream",
          "name": "stdout",
          "text": [
            "                  precision    recall  f1-score   support\n",
            "\n",
            "gastroenterology       0.00      0.00      0.00         0\n",
            "       neurology       0.00      0.00      0.00         0\n",
            "      orthopedic       0.83      0.32      0.47        77\n",
            "       radiology       0.91      0.50      0.65        62\n",
            "         urology       0.00      0.00      0.00         0\n",
            "\n",
            "        accuracy                           0.40       139\n",
            "       macro avg       0.35      0.16      0.22       139\n",
            "    weighted avg       0.87      0.40      0.55       139\n",
            "\n",
            "0.4028776978417266\n"
          ]
        }
      ]
    },
    {
      "cell_type": "code",
      "source": [
        ""
      ],
      "metadata": {
        "id": "Gfqgjp_20LCz"
      },
      "execution_count": null,
      "outputs": []
    },
    {
      "cell_type": "markdown",
      "source": [
        "# Prediction Pipeline"
      ],
      "metadata": {
        "id": "fIthtfwKxdPe"
      }
    },
    {
      "cell_type": "code",
      "source": [
        "documentAssembler = DocumentAssembler()\\\n",
        "    .setInputCol(\"text\")\\\n",
        "    .setOutputCol(\"document\")\n",
        "\n",
        "use = UniversalSentenceEncoder.pretrained()\\\n",
        "    .setInputCols([\"document\"])\\\n",
        "    .setOutputCol(\"sentence_embeddings\")\n",
        "\n",
        "loaded_clf_model = ClassifierDLModel.load(\"/content/drive/MyDrive/SparkNLPTask/use_clf_e500_b8_lr003\")\\\n",
        "\n",
        "prediction_pipeline = Pipeline(stages = [\n",
        "      documentAssembler,\n",
        "      use,\n",
        "      loaded_clf_model,\n",
        "  ])\n",
        "\n",
        "empty_data = spark.createDataFrame([['']]).toDF(\"text\")\n",
        "\n",
        "prediction_model = prediction_pipeline.fit(empty_data)"
      ],
      "metadata": {
        "id": "uZ8iEuO7xjub",
        "colab": {
          "base_uri": "https://localhost:8080/"
        },
        "outputId": "4040c2e1-ac6c-4e9f-f670-c5b0365405d5"
      },
      "execution_count": null,
      "outputs": [
        {
          "output_type": "stream",
          "name": "stdout",
          "text": [
            "tfhub_use download started this may take some time.\n",
            "Approximate size to download 923.7 MB\n",
            "[OK!]\n"
          ]
        }
      ]
    },
    {
      "cell_type": "code",
      "source": [
        "test = spark.sparkContext.wholeTextFiles(\"/content/drive/MyDrive/unlabeled-test-data/*.txt\")\n",
        "spark_test = test.toDF(schema=[\"path\",\"text\"])"
      ],
      "metadata": {
        "id": "Ryl1haab9Glj"
      },
      "execution_count": null,
      "outputs": []
    },
    {
      "cell_type": "code",
      "source": [
        "spark_test = spark_test.select(\"text\")"
      ],
      "metadata": {
        "id": "_9XQp_rVBTta"
      },
      "execution_count": null,
      "outputs": []
    },
    {
      "cell_type": "code",
      "source": [
        "test = pipelineModel.transform(spark_test)\n",
        "\n",
        "test = test.select(F.explode('normalizedDocument.result').alias('text'))\n",
        "\n",
        "test.write.parquet(\"/content/drive/MyDrive/SparkNLPTask/mtsamples_test.parquet\")"
      ],
      "metadata": {
        "id": "fESM7F7zBU44"
      },
      "execution_count": null,
      "outputs": []
    },
    {
      "cell_type": "code",
      "source": [
        ""
      ],
      "metadata": {
        "id": "-zcUXG9A9Uej"
      },
      "execution_count": null,
      "outputs": []
    },
    {
      "cell_type": "code",
      "source": [
        "test = spark.read.parquet(\"/content/drive/MyDrive/JSLTask/mtsamples_test.parquet\")\n",
        "\n",
        "test = test.filter(test.text != \"\")\n",
        "\n",
        "test.show(truncate=100)"
      ],
      "metadata": {
        "id": "ieWTpOE25iKh",
        "colab": {
          "base_uri": "https://localhost:8080/"
        },
        "outputId": "c26cf5b9-a6be-47d2-e360-32c4d57a6f40"
      },
      "execution_count": null,
      "outputs": [
        {
          "output_type": "stream",
          "name": "stdout",
          "text": [
            "+----------+----------------------------------------------------------------------------------------------------+\n",
            "|  category|                                                                                                text|\n",
            "+----------+----------------------------------------------------------------------------------------------------+\n",
            "|orthopedic| PREOPERATIVE DIAGNOSES 1. EMG-proven left carpal tunnel syndrome. 2. Tenosynovitis of the left t...|\n",
            "|orthopedic| PREOPERATIVE DIAGNOSIS: Bunion, left foot. POSTOPERATIVE DIAGNOSIS: Bunion, left foot. PROCEDURE...|\n",
            "|orthopedic| RICE stands for the most important elements of treatment for many injuries---rest, ice, compress...|\n",
            "|orthopedic| The patient is an 84-year-old retired male who is referred to our office by Dr. O. He comes in t...|\n",
            "|orthopedic| PREOPERATIVE DIAGNOSES: 1. Left carpal tunnel syndrome (354.0). 2. Left ulnar nerve entrapment a...|\n",
            "|orthopedic| PREOPERATIVE DIAGNOSIS: Herniated nucleus pulposus T8-T9. POSTOPERATIVE DIAGNOSIS: Herniated nuc...|\n",
            "|orthopedic| This is a 30-year-old female with pain and swelling, status post injury. FINDINGS: There are pos...|\n",
            "|orthopedic| PREOPERATIVE DIAGNOSES: 1. Left diabetic foot abscess and infection. 2. Left calcaneus fracture ...|\n",
            "|orthopedic| PREOPERATIVE DIAGNOSES: 1. Mass, left second toe. 2. Tumor. 3. Left hallux bone invasion of the ...|\n",
            "|orthopedic| PREOPERATIVE DIAGNOSIS: Carpal tunnel syndrome. POSTOPERATIVE DIAGNOSIS: Carpal tunnel syndrome....|\n",
            "|orthopedic| PREOPERATIVE DIAGNOSES: 1. Pathologic insufficiency. 2. Fracture of the T8 vertebrae and T9 vert...|\n",
            "|orthopedic| PREOPERATIVE DIAGNOSIS: Severely comminuted fracture of the distal radius, left. POSTOPERATIVE D...|\n",
            "|orthopedic| PREOPERATIVE DIAGNOSES: 1. Hallux abductovalgus deformity, right foot. 2. Tailor bunion deformit...|\n",
            "|orthopedic| PREOPERATIVE DIAGNOSIS: Hammertoe deformity of the right second digit. POSTOPERATIVE DIAGNOSIS: ...|\n",
            "|orthopedic| PREOPERATIVE DIAGNOSES: 1. Torn anterior cruciate ligament, right knee. 2. Patellofemoral instab...|\n",
            "|orthopedic| CHIEF COMPLAINT: Left hip pain. HISTORY OF PRESENT ILLNESS: The patient is a 32-year-old male se...|\n",
            "|orthopedic| PREOPERATIVE DIAGNOSES: 1. Bunion left foot. 2. Hammertoe, left second toe. POSTOPERATIVE DIAGNO...|\n",
            "|orthopedic| PREOPERATIVE DIAGNOSES: Cervical degenerative disc disease, spondylosis, severe myelopathy, spin...|\n",
            "|orthopedic| PREOPERATIVE DIAGNOSIS: Osteomyelitis, left hallux. POSTOPERATIVE DIAGNOSIS: Osteomyelitis, left...|\n",
            "|orthopedic| PREOPERATIVE DIAGNOSIS: Herniated nucleus pulposus, C5-C6, with spinal stenosis. POSTOPERATIVE D...|\n",
            "+----------+----------------------------------------------------------------------------------------------------+\n",
            "only showing top 20 rows\n",
            "\n"
          ]
        }
      ]
    },
    {
      "cell_type": "code",
      "source": [
        "pd.set_option(\"display.max_colwidth\", 500)\n",
        "\n",
        "preds = prediction_model.transform(test)\n",
        "\n",
        "result_df = preds.select(\"text\",\"class.result\").toPandas()\n",
        "\n",
        "result_df.head(30)"
      ],
      "metadata": {
        "colab": {
          "base_uri": "https://localhost:8080/",
          "height": 1000
        },
        "id": "pjsiGBaVWyew",
        "outputId": "ac4c8b6d-f072-43cc-957e-2ae379efd292"
      },
      "execution_count": null,
      "outputs": [
        {
          "output_type": "execute_result",
          "data": {
            "text/html": [
              "\n",
              "  <div id=\"df-423fd59b-bf9c-493a-a8c4-f7843587f186\">\n",
              "    <div class=\"colab-df-container\">\n",
              "      <div>\n",
              "<style scoped>\n",
              "    .dataframe tbody tr th:only-of-type {\n",
              "        vertical-align: middle;\n",
              "    }\n",
              "\n",
              "    .dataframe tbody tr th {\n",
              "        vertical-align: top;\n",
              "    }\n",
              "\n",
              "    .dataframe thead th {\n",
              "        text-align: right;\n",
              "    }\n",
              "</style>\n",
              "<table border=\"1\" class=\"dataframe\">\n",
              "  <thead>\n",
              "    <tr style=\"text-align: right;\">\n",
              "      <th></th>\n",
              "      <th>text</th>\n",
              "      <th>result</th>\n",
              "    </tr>\n",
              "  </thead>\n",
              "  <tbody>\n",
              "    <tr>\n",
              "      <th>0</th>\n",
              "      <td>PREOPERATIVE DIAGNOSES 1. EMG-proven left carpal tunnel syndrome. 2. Tenosynovitis of the left third and fourth fingers at the A1 and A2 pulley level. 3. Dupuytren's nodule in the palm. POSTOPERATIVE DIAGNOSES 1. EMG-proven left carpal tunnel syndrome. 2. Tenosynovitis of the left third and fourth fingers at the A1 and A2 pulley level. 3. Dupuytren's nodule in the palm. PROCEDURE: Left carpal tunnel release with flexor tenosynovectomy; cortisone injection of trigger fingers, left third and ...</td>\n",
              "      <td>[orthopedic]</td>\n",
              "    </tr>\n",
              "    <tr>\n",
              "      <th>1</th>\n",
              "      <td>PREOPERATIVE DIAGNOSIS: Bunion, left foot. POSTOPERATIVE DIAGNOSIS: Bunion, left foot. PROCEDURE PERFORMED: 1. Bunionectomy with first metatarsal osteotomy base wedge type with internal screw fixation. 2. Akin osteotomy with internal wire fixation of left foot. HISTORY: This 19-year-old Caucasian female presents to ABCD General Hospital with the above chief complaint. The patient states she has had worsening bunion deformity for as long as she could not remember. She does have a history of ...</td>\n",
              "      <td>[orthopedic]</td>\n",
              "    </tr>\n",
              "    <tr>\n",
              "      <th>2</th>\n",
              "      <td>RICE stands for the most important elements of treatment for many injuries---rest, ice, compression, and elevation. REST: Stop using the injured part as soon as you realize that an injury has taken place. Use crutches to avoid bearing weight on injuries of the foot, ankle, knee, or leg. Use splints for injuries of the hand, wrist, elbow, or arm. Continued exercise or activity could cause further injury, increased pain, or a delay in healing. ICE: Ice helps stop bleeding from injured blood v...</td>\n",
              "      <td>[orthopedic]</td>\n",
              "    </tr>\n",
              "    <tr>\n",
              "      <th>3</th>\n",
              "      <td>The patient is an 84-year-old retired male who is referred to our office by Dr. O. He comes in today with the chief complaint of low back pain which started about six to eight months ago. He states that he does live here and also travels between here and Iowa and he does have a family in Iowa, which he is very active with his grandchildren doing shopping and plenty of walking. He also recently cut down some trees. He states that he started noticing some pain in his back and his hips and dif...</td>\n",
              "      <td>[orthopedic]</td>\n",
              "    </tr>\n",
              "    <tr>\n",
              "      <th>4</th>\n",
              "      <td>PREOPERATIVE DIAGNOSES: 1. Left carpal tunnel syndrome (354.0). 2. Left ulnar nerve entrapment at the elbow (354.2). POSTOPERATIVE DIAGNOSES: 1. Left carpal tunnel syndrome (354.0). 2. Left ulnar nerve entrapment at the elbow (354.2). OPERATIONS PERFORMED: 1. Left carpal tunnel release (64721). 2. Left ulnar nerve anterior submuscular transposition at the elbow (64718). 3. Lengthening of the flexor pronator muscle mass in the proximal forearm to accommodate the submuscular position of the u...</td>\n",
              "      <td>[orthopedic]</td>\n",
              "    </tr>\n",
              "    <tr>\n",
              "      <th>5</th>\n",
              "      <td>PREOPERATIVE DIAGNOSIS: Herniated nucleus pulposus T8-T9. POSTOPERATIVE DIAGNOSIS: Herniated nucleus pulposus T8-T9. OPERATION PERFORMED: Thoracic right-sided discectomy at T8-T9. BRIEF HISTORY AND INDICATION FOR OPERATION: The patient is a 53-year-old female with a history of right thoracic rib pain related to a herniated nucleus pulposus at T8-T9. She has failed conservative measures and sought operative intervention for relief of her symptoms. For details of workup, please see the dictat...</td>\n",
              "      <td>[orthopedic]</td>\n",
              "    </tr>\n",
              "    <tr>\n",
              "      <th>6</th>\n",
              "      <td>This is a 30-year-old female with pain and swelling, status post injury. FINDINGS: There are posttraumatic cysts along the volar midline and volar lateral aspects of the lunate which are likely posttraumatic. There is no acute marrow edema (series #12 images #5-7). Marrow signal is otherwise normal in the distal radius and ulna, throughout the carpals and throughout the proximal metacarpals. There is a partial tear of the volar component of the scapholunate ligament in the region of the pos...</td>\n",
              "      <td>[radiology]</td>\n",
              "    </tr>\n",
              "    <tr>\n",
              "      <th>7</th>\n",
              "      <td>PREOPERATIVE DIAGNOSES: 1. Left diabetic foot abscess and infection. 2. Left calcaneus fracture with infection. 3. Right first ray amputation. POSTOP DIAGNOSES: 1. Left diabetic foot abscess and infection. 2. Left calcaneus fracture with infection. 3. Right first ray amputation. OPERATION AND PROCEDURE: 1. Left below-the-knee amputation. 2. Dressing change, right foot. ANESTHESIA: General. BLOOD LOSS: Less than 100 mL. TOURNIQUET TIME: 24 minutes on the left, 300 mmHg. COMPLICATIONS: None. ...</td>\n",
              "      <td>[orthopedic]</td>\n",
              "    </tr>\n",
              "    <tr>\n",
              "      <th>8</th>\n",
              "      <td>PREOPERATIVE DIAGNOSES: 1. Mass, left second toe. 2. Tumor. 3. Left hallux bone invasion of the distal phalanx. POSTOPERATIVE DIAGNOSES: 1. Mass, left second toe. 2. Tumor. 3. Left hallux with bone invasion of the distal phalanx. PROCEDURE PERFORMED: 1. Excision of mass, left second toe. 2. Distal Syme's amputation, left hallux with excisional biopsy. HISTORY: This 47-year-old Caucasian male presents to ABCD General Hospital with a history of tissue mass on his left foot. The patient states...</td>\n",
              "      <td>[orthopedic]</td>\n",
              "    </tr>\n",
              "    <tr>\n",
              "      <th>9</th>\n",
              "      <td>PREOPERATIVE DIAGNOSIS: Carpal tunnel syndrome. POSTOPERATIVE DIAGNOSIS: Carpal tunnel syndrome. TITLE OF PROCEDURE: Open carpal tunnel release. COMPLICATIONS: None. PROCEDURE IN DETAIL: After administering appropriate antibiotics and general anesthesia the Left upper extremity was prepped and draped in the usual standard fashion. The arm was exsanguinated with Esmarch, and the tourniquet inflated to 250 mmHg. A longitudinal incision was made in line with the 4th ray. The dissection was car...</td>\n",
              "      <td>[orthopedic]</td>\n",
              "    </tr>\n",
              "    <tr>\n",
              "      <th>10</th>\n",
              "      <td>PREOPERATIVE DIAGNOSES: 1. Pathologic insufficiency. 2. Fracture of the T8 vertebrae and T9 vertebrae. POSTOPERATIVE DIAGNOSES: 1. Pathologic insufficiency. 2. Fracture of the T8 vertebra and T9 vertebra. PROCEDURE PERFORMED: 1. Fracture reduction with insertion of prosthetic device at T8 with kyphoplasty. 2. Vertebroplasties at T7 and T9 with insertion of prosthetic device. ANESTHESIA: Local with sedation. SPECIMEN: Bone from the T8 vertebra. COMPLICATIONS: None. SURGICAL INDICATIONS: The ...</td>\n",
              "      <td>[orthopedic]</td>\n",
              "    </tr>\n",
              "    <tr>\n",
              "      <th>11</th>\n",
              "      <td>PREOPERATIVE DIAGNOSIS: Severely comminuted fracture of the distal radius, left. POSTOPERATIVE DIAGNOSIS: Severely comminuted fracture of the distal radius, left. OPERATIVE PROCEDURE: Open reduction and internal fixation, high grade Frykman VIII distal radius fracture. ANESTHESIA: General endotracheal. PREOPERATIVE INDICATIONS: This is a 52-year-old patient of mine who I have repaired both shoulder rotator cuffs, the most recent one in the calendar year 2007. While he was climbing a ladder ...</td>\n",
              "      <td>[orthopedic]</td>\n",
              "    </tr>\n",
              "    <tr>\n",
              "      <th>12</th>\n",
              "      <td>PREOPERATIVE DIAGNOSES: 1. Hallux abductovalgus deformity, right foot. 2. Tailor bunion deformity, right foot. POSTOPERATIVE DIAGNOSES: 1. Hallux abductovalgus deformity, right foot. 2. Tailor bunion deformity, right foot. PROCEDURES PERFORMED: Tailor bunionectomy, right foot, Weil-type with screw fixation. ANESTHESIA: Local with MAC, local consisting of 20 mL of 0.5% Marcaine plain. HEMOSTASIS: Pneumatic ankle tourniquet at 200 mmHg. INJECTABLES: A 10 mL of 0.5% Marcaine plain and 1 mL of ...</td>\n",
              "      <td>[orthopedic]</td>\n",
              "    </tr>\n",
              "    <tr>\n",
              "      <th>13</th>\n",
              "      <td>PREOPERATIVE DIAGNOSIS: Hammertoe deformity of the right second digit. POSTOPERATIVE DIAGNOSIS: Hammertoe deformity of the right second digit. PROCEDURE PERFORMED: Arthroplasty of the right second digit. The patient is a 77-year-old Hispanic male who presents to ABCD Hospital for surgical correction of a painful second digit hammertoe. The patient has failed attempts at conservative treatment and is unable to wear shoes without pain to his second toe. The patient presents n.p.o. since mid n...</td>\n",
              "      <td>[orthopedic]</td>\n",
              "    </tr>\n",
              "    <tr>\n",
              "      <th>14</th>\n",
              "      <td>PREOPERATIVE DIAGNOSES: 1. Torn anterior cruciate ligament, right knee. 2. Patellofemoral instability, right knee. 3. Possible torn medial meniscus. POSTOPERATIVE DIAGNOSES: 1. Complete tear anterior cruciate ligament, right knee. 2. Complex tear of the posterior horn lateral meniscus. 3. Tear of posterior horn medial meniscus. 4. Patellofemoral instability. 5. Chondromalacia patella. PROCEDURES PERFORMED: 1. Diagnostic operative arthroscopy with repair and reconstruction of anterior crucia...</td>\n",
              "      <td>[orthopedic]</td>\n",
              "    </tr>\n",
              "    <tr>\n",
              "      <th>15</th>\n",
              "      <td>CHIEF COMPLAINT: Left hip pain. HISTORY OF PRESENT ILLNESS: The patient is a 32-year-old male seen by Dr. ABC several weeks ago for persistent left hip pain. He has a long eight to ten year history of pain into the left hip. He has been worked up by several specialists and evaluated. He was thought initially to have low back pain with radiculopathy. He does have a history of antibiotic steroid use as well as heavy drinking. He reports his symptoms started approximately eight years ago when ...</td>\n",
              "      <td>[orthopedic]</td>\n",
              "    </tr>\n",
              "    <tr>\n",
              "      <th>16</th>\n",
              "      <td>PREOPERATIVE DIAGNOSES: 1. Bunion left foot. 2. Hammertoe, left second toe. POSTOPERATIVE DIAGNOSES: 1. Bunion left foot. 2. Hammertoe, left second toe. PROCEDURE PERFORMED: 1. Bunionectomy, SCARF type, with metatarsal osteotomy and internal screw fixation, left. 2. Arthroplasty left second toe. HISTORY: This 39-year-old female presents to ABCD General Hospital with the above chief complaint. The patient states that she has had bunion for many months. It has been progressively getting more ...</td>\n",
              "      <td>[orthopedic]</td>\n",
              "    </tr>\n",
              "    <tr>\n",
              "      <th>17</th>\n",
              "      <td>PREOPERATIVE DIAGNOSES: Cervical degenerative disc disease, spondylosis, severe myelopathy, spinal cord compression especially at C3-C4, C4-C5, and C5-C6, and progressive quadriparesis. POSTOPERATIVE DIAGNOSES: Cervical degenerative disc disease, spondylosis, severe myelopathy, spinal cord compression especially at C3-C4, C4-C5, and C5-C6, progressive quadriparesis, and very poor bone quality as well as difficulty with hemostasis with the patient having been on aspirin. OPERATIVE PROCEDURE ...</td>\n",
              "      <td>[orthopedic]</td>\n",
              "    </tr>\n",
              "    <tr>\n",
              "      <th>18</th>\n",
              "      <td>PREOPERATIVE DIAGNOSIS: Osteomyelitis, left hallux. POSTOPERATIVE DIAGNOSIS: Osteomyelitis, left hallux. PROCEDURES PERFORMED: Resection of infected bone, left hallux, proximal phalanx, and distal phalanx. ANESTHESIA: TIVA/Local. HISTORY: This 77-year-old male presents to ABCD preoperative holding area after keeping himself NPO since mid night for surgery on his infected left hallux. The patient has a history of chronic osteomyelitis and non-healing ulceration to the left hallux of almost 1...</td>\n",
              "      <td>[orthopedic]</td>\n",
              "    </tr>\n",
              "    <tr>\n",
              "      <th>19</th>\n",
              "      <td>PREOPERATIVE DIAGNOSIS: Herniated nucleus pulposus, C5-C6, with spinal stenosis. POSTOPERATIVE DIAGNOSIS: Herniated nucleus pulposus, C5-C6, with spinal stenosis. PROCEDURE: Anterior cervical discectomy with fusion C5-C6. PROCEDURE IN DETAIL: The patient was placed in supine position. The neck was prepped and draped in the usual fashion. An incision was made from midline to the anterior border of the sternocleidomastoid in the right side. Skin and subcutaneous tissue were divided sharply. T...</td>\n",
              "      <td>[orthopedic]</td>\n",
              "    </tr>\n",
              "    <tr>\n",
              "      <th>20</th>\n",
              "      <td>HISTORY OF PRESENT ILLNESS: The patient is a 26-year-old female, referred to Physical Therapy for low back pain. The patient has a history of traumatic injury to low back. The patient stated initial injury occurred eight years ago, when she fell at a ABC Store. The patient stated she received physical therapy, one to two visits and received modality treatment only, specifically electrical stimulation and heat pack per patient recollection. The patient stated that she has had continuous low-...</td>\n",
              "      <td>[orthopedic]</td>\n",
              "    </tr>\n",
              "    <tr>\n",
              "      <th>21</th>\n",
              "      <td>PREOPERATIVE DIAGNOSES 1. Left neck pain with left upper extremity radiculopathy. 2. Left C6-C7 neuroforaminal stenosis secondary to osteophyte. POSTOPERATIVE DIAGNOSES 1. Left neck pain with left upper extremity radiculopathy. 2. Left C6-C7 neuroforaminal stenosis secondary to osteophyte. OPERATIVE PROCEDURE 1. Anterior cervical discectomy with decompression C6-C7. 2. Arthrodesis with anterior interbody fusion C6-C7. 3. Spinal instrumentation using Pioneer 20 mm plate and four 12 x 4.0 mm ...</td>\n",
              "      <td>[orthopedic]</td>\n",
              "    </tr>\n",
              "    <tr>\n",
              "      <th>22</th>\n",
              "      <td>PREOPERATIVE DIAGNOSIS: Comminuted fracture, dislocation left proximal humerus. POSTOPERATIVE DIAGNOSIS: Comminuted fracture, dislocation left proximal humerus. PROCEDURE PERFORMED: Hemiarthroplasty of left shoulder utilizing a global advantage system with an #8 mm cemented humeral stem and 48 x 21 mm modular head replacement. PROCEDURE: The patient was taken to OR #2, administered general anesthetic. He was positioned in the modified beach chair position on the operative table utilizing th...</td>\n",
              "      <td>[orthopedic]</td>\n",
              "    </tr>\n",
              "    <tr>\n",
              "      <th>23</th>\n",
              "      <td>PREOPERATIVE DIAGNOSES 1. Cervical spinal stenosis, C3-c4 and C4-C5. 2. Cervical spondylotic myelopathy. POSTOPERATIVE DIAGNOSES 1. Cervical spinal stenosis, C3-C4 and C4-C5. 2. Cervical spondylotic myelopathy. OPERATIVE PROCEDURES 1. Radical anterior discectomy, C3-C4 with removal of posterior osteophytes, foraminotomies, and decompression of the spinal canal (CPT 63075). 2. Radical anterior discectomy C4-C5 with removal of posterior osteophytes, foraminotomies, and decompression of the sp...</td>\n",
              "      <td>[orthopedic]</td>\n",
              "    </tr>\n",
              "    <tr>\n",
              "      <th>24</th>\n",
              "      <td>PREOPERATIVE DIAGNOSIS: Displaced left subtrochanteric femur fracture. POSTOPERATIVE DIAGNOSIS: Displaced left subtrochanteric femur fracture. OPERATION: Intramedullary rod in the left hip using the Synthes trochanteric fixation nail measuring 11 x 130 degrees with an 85-mm helical blade. COMPLICATIONS: None. TOURNIQUET TIME: None. ESTIMATED BLOOD LOSS: 50 mL. ANESTHESIA: General. INDICATIONS: The patient suffered a fall at which time she was taken to the emergency room with pain in the low...</td>\n",
              "      <td>[orthopedic]</td>\n",
              "    </tr>\n",
              "    <tr>\n",
              "      <th>25</th>\n",
              "      <td>PREOPERATIVE DIAGNOSIS: Stenosing tenosynovitis first dorsal extensor compartment/de Quervain tendonitis. POSTOPERATIVE DIAGNOSIS: Stenosing tenosynovitis first dorsal extensor compartment/de Quervain tendonitis. PROCEDURE PERFORMED: Release of first dorsal extensor compartment. ASSISTANT: None. ANESTHESIA: Bier block. TOURNIQUET TIME: 30 minutes. COMPLICATIONS: None. INDICATIONS: The above patient is a 47-year-old right hand dominant black female who has signs and symptomology of de Querva...</td>\n",
              "      <td>[orthopedic]</td>\n",
              "    </tr>\n",
              "    <tr>\n",
              "      <th>26</th>\n",
              "      <td>PREOPERATIVE DIAGNOSIS: Hemarthrosis, left knee, status post total knee replacement, rule out infection. POSTOPERATIVE DIAGNOSIS: Hemarthrosis, left knee, status post total knee replacement, rule out infection. OPERATIONS: 1. Arthrotomy, left total knee. 2. Irrigation and debridement, left knee. 3. Polyethylene exchange, left knee. COMPLICATION: None. TOURNIQUET TIME: 58 minutes. ESTIMATED BLOOD LOSS: Minimal. ANESTHESIA: General. INDICATIONS: This patient underwent an uncomplicated left to...</td>\n",
              "      <td>[orthopedic]</td>\n",
              "    </tr>\n",
              "    <tr>\n",
              "      <th>27</th>\n",
              "      <td>Mr. XXXX does state that he did undergo surgical intervention as related to the right knee and it was noted that the reconstruction had failed. A screw had come loose. Thereafter, Dr. X felt that two additional surgeries were indicated, that related to a bone graft and a reconstruction of the ACL with allograft. Thereafter, he was evaluated and it was felt that further reconstruction as related to the anterior cruciate ligament was definitely not indicated. On December 5, 2008, Mr. XXXX did...</td>\n",
              "      <td>[orthopedic]</td>\n",
              "    </tr>\n",
              "    <tr>\n",
              "      <th>28</th>\n",
              "      <td>PREOPERATIVE DIAGNOSES: 1. Right shoulder rotator cuff tear. 2. Glenohumeral rotator cuff arthroscopy. 3. Degenerative joint disease. POSTOPERATIVE DIAGNOSES: 1. Right shoulder rotator cuff tear. 2. Glenohumeral rotator cuff arthroscopy. 3. Degenerative joint disease. PROCEDURE PERFORMED: Right shoulder hemiarthroplasty. ANESTHESIA: General. ESTIMATED BLOOD LOSS: Approximately 125 cc. COMPLICATIONS: None. COMPONENTS: A DePuy 10 mm global shoulder system stem was used cemented and a DePuy 44...</td>\n",
              "      <td>[orthopedic]</td>\n",
              "    </tr>\n",
              "    <tr>\n",
              "      <th>29</th>\n",
              "      <td>This is a middle-aged female with moderate pain, severe swelling and a growth on the arm which is reportedly enlarging with limited range of motion for three months. FINDINGS: There is diffuse subcutis space edema extending along the posteromedial aspect of the elbow adjacent to the medial epicondyle, extending to the olecranon process and along the superficial aspect of the epicondylo-olecranon ligament. There is no demonstrated solid, cystic or lipomatous mass lesion. There is enlargement...</td>\n",
              "      <td>[orthopedic]</td>\n",
              "    </tr>\n",
              "  </tbody>\n",
              "</table>\n",
              "</div>\n",
              "      <button class=\"colab-df-convert\" onclick=\"convertToInteractive('df-423fd59b-bf9c-493a-a8c4-f7843587f186')\"\n",
              "              title=\"Convert this dataframe to an interactive table.\"\n",
              "              style=\"display:none;\">\n",
              "        \n",
              "  <svg xmlns=\"http://www.w3.org/2000/svg\" height=\"24px\"viewBox=\"0 0 24 24\"\n",
              "       width=\"24px\">\n",
              "    <path d=\"M0 0h24v24H0V0z\" fill=\"none\"/>\n",
              "    <path d=\"M18.56 5.44l.94 2.06.94-2.06 2.06-.94-2.06-.94-.94-2.06-.94 2.06-2.06.94zm-11 1L8.5 8.5l.94-2.06 2.06-.94-2.06-.94L8.5 2.5l-.94 2.06-2.06.94zm10 10l.94 2.06.94-2.06 2.06-.94-2.06-.94-.94-2.06-.94 2.06-2.06.94z\"/><path d=\"M17.41 7.96l-1.37-1.37c-.4-.4-.92-.59-1.43-.59-.52 0-1.04.2-1.43.59L10.3 9.45l-7.72 7.72c-.78.78-.78 2.05 0 2.83L4 21.41c.39.39.9.59 1.41.59.51 0 1.02-.2 1.41-.59l7.78-7.78 2.81-2.81c.8-.78.8-2.07 0-2.86zM5.41 20L4 18.59l7.72-7.72 1.47 1.35L5.41 20z\"/>\n",
              "  </svg>\n",
              "      </button>\n",
              "      \n",
              "  <style>\n",
              "    .colab-df-container {\n",
              "      display:flex;\n",
              "      flex-wrap:wrap;\n",
              "      gap: 12px;\n",
              "    }\n",
              "\n",
              "    .colab-df-convert {\n",
              "      background-color: #E8F0FE;\n",
              "      border: none;\n",
              "      border-radius: 50%;\n",
              "      cursor: pointer;\n",
              "      display: none;\n",
              "      fill: #1967D2;\n",
              "      height: 32px;\n",
              "      padding: 0 0 0 0;\n",
              "      width: 32px;\n",
              "    }\n",
              "\n",
              "    .colab-df-convert:hover {\n",
              "      background-color: #E2EBFA;\n",
              "      box-shadow: 0px 1px 2px rgba(60, 64, 67, 0.3), 0px 1px 3px 1px rgba(60, 64, 67, 0.15);\n",
              "      fill: #174EA6;\n",
              "    }\n",
              "\n",
              "    [theme=dark] .colab-df-convert {\n",
              "      background-color: #3B4455;\n",
              "      fill: #D2E3FC;\n",
              "    }\n",
              "\n",
              "    [theme=dark] .colab-df-convert:hover {\n",
              "      background-color: #434B5C;\n",
              "      box-shadow: 0px 1px 3px 1px rgba(0, 0, 0, 0.15);\n",
              "      filter: drop-shadow(0px 1px 2px rgba(0, 0, 0, 0.3));\n",
              "      fill: #FFFFFF;\n",
              "    }\n",
              "  </style>\n",
              "\n",
              "      <script>\n",
              "        const buttonEl =\n",
              "          document.querySelector('#df-423fd59b-bf9c-493a-a8c4-f7843587f186 button.colab-df-convert');\n",
              "        buttonEl.style.display =\n",
              "          google.colab.kernel.accessAllowed ? 'block' : 'none';\n",
              "\n",
              "        async function convertToInteractive(key) {\n",
              "          const element = document.querySelector('#df-423fd59b-bf9c-493a-a8c4-f7843587f186');\n",
              "          const dataTable =\n",
              "            await google.colab.kernel.invokeFunction('convertToInteractive',\n",
              "                                                     [key], {});\n",
              "          if (!dataTable) return;\n",
              "\n",
              "          const docLinkHtml = 'Like what you see? Visit the ' +\n",
              "            '<a target=\"_blank\" href=https://colab.research.google.com/notebooks/data_table.ipynb>data table notebook</a>'\n",
              "            + ' to learn more about interactive tables.';\n",
              "          element.innerHTML = '';\n",
              "          dataTable['output_type'] = 'display_data';\n",
              "          await google.colab.output.renderOutput(dataTable, element);\n",
              "          const docLink = document.createElement('div');\n",
              "          docLink.innerHTML = docLinkHtml;\n",
              "          element.appendChild(docLink);\n",
              "        }\n",
              "      </script>\n",
              "    </div>\n",
              "  </div>\n",
              "  "
            ],
            "text/plain": [
              "                                                                                                                                                                                                                                                                                                                                                                                                                                                                                                                   text        result\n",
              "0    PREOPERATIVE DIAGNOSES 1. EMG-proven left carpal tunnel syndrome. 2. Tenosynovitis of the left third and fourth fingers at the A1 and A2 pulley level. 3. Dupuytren's nodule in the palm. POSTOPERATIVE DIAGNOSES 1. EMG-proven left carpal tunnel syndrome. 2. Tenosynovitis of the left third and fourth fingers at the A1 and A2 pulley level. 3. Dupuytren's nodule in the palm. PROCEDURE: Left carpal tunnel release with flexor tenosynovectomy; cortisone injection of trigger fingers, left third and ...  [orthopedic]\n",
              "1    PREOPERATIVE DIAGNOSIS: Bunion, left foot. POSTOPERATIVE DIAGNOSIS: Bunion, left foot. PROCEDURE PERFORMED: 1. Bunionectomy with first metatarsal osteotomy base wedge type with internal screw fixation. 2. Akin osteotomy with internal wire fixation of left foot. HISTORY: This 19-year-old Caucasian female presents to ABCD General Hospital with the above chief complaint. The patient states she has had worsening bunion deformity for as long as she could not remember. She does have a history of ...  [orthopedic]\n",
              "2    RICE stands for the most important elements of treatment for many injuries---rest, ice, compression, and elevation. REST: Stop using the injured part as soon as you realize that an injury has taken place. Use crutches to avoid bearing weight on injuries of the foot, ankle, knee, or leg. Use splints for injuries of the hand, wrist, elbow, or arm. Continued exercise or activity could cause further injury, increased pain, or a delay in healing. ICE: Ice helps stop bleeding from injured blood v...  [orthopedic]\n",
              "3    The patient is an 84-year-old retired male who is referred to our office by Dr. O. He comes in today with the chief complaint of low back pain which started about six to eight months ago. He states that he does live here and also travels between here and Iowa and he does have a family in Iowa, which he is very active with his grandchildren doing shopping and plenty of walking. He also recently cut down some trees. He states that he started noticing some pain in his back and his hips and dif...  [orthopedic]\n",
              "4    PREOPERATIVE DIAGNOSES: 1. Left carpal tunnel syndrome (354.0). 2. Left ulnar nerve entrapment at the elbow (354.2). POSTOPERATIVE DIAGNOSES: 1. Left carpal tunnel syndrome (354.0). 2. Left ulnar nerve entrapment at the elbow (354.2). OPERATIONS PERFORMED: 1. Left carpal tunnel release (64721). 2. Left ulnar nerve anterior submuscular transposition at the elbow (64718). 3. Lengthening of the flexor pronator muscle mass in the proximal forearm to accommodate the submuscular position of the u...  [orthopedic]\n",
              "5    PREOPERATIVE DIAGNOSIS: Herniated nucleus pulposus T8-T9. POSTOPERATIVE DIAGNOSIS: Herniated nucleus pulposus T8-T9. OPERATION PERFORMED: Thoracic right-sided discectomy at T8-T9. BRIEF HISTORY AND INDICATION FOR OPERATION: The patient is a 53-year-old female with a history of right thoracic rib pain related to a herniated nucleus pulposus at T8-T9. She has failed conservative measures and sought operative intervention for relief of her symptoms. For details of workup, please see the dictat...  [orthopedic]\n",
              "6    This is a 30-year-old female with pain and swelling, status post injury. FINDINGS: There are posttraumatic cysts along the volar midline and volar lateral aspects of the lunate which are likely posttraumatic. There is no acute marrow edema (series #12 images #5-7). Marrow signal is otherwise normal in the distal radius and ulna, throughout the carpals and throughout the proximal metacarpals. There is a partial tear of the volar component of the scapholunate ligament in the region of the pos...   [radiology]\n",
              "7    PREOPERATIVE DIAGNOSES: 1. Left diabetic foot abscess and infection. 2. Left calcaneus fracture with infection. 3. Right first ray amputation. POSTOP DIAGNOSES: 1. Left diabetic foot abscess and infection. 2. Left calcaneus fracture with infection. 3. Right first ray amputation. OPERATION AND PROCEDURE: 1. Left below-the-knee amputation. 2. Dressing change, right foot. ANESTHESIA: General. BLOOD LOSS: Less than 100 mL. TOURNIQUET TIME: 24 minutes on the left, 300 mmHg. COMPLICATIONS: None. ...  [orthopedic]\n",
              "8    PREOPERATIVE DIAGNOSES: 1. Mass, left second toe. 2. Tumor. 3. Left hallux bone invasion of the distal phalanx. POSTOPERATIVE DIAGNOSES: 1. Mass, left second toe. 2. Tumor. 3. Left hallux with bone invasion of the distal phalanx. PROCEDURE PERFORMED: 1. Excision of mass, left second toe. 2. Distal Syme's amputation, left hallux with excisional biopsy. HISTORY: This 47-year-old Caucasian male presents to ABCD General Hospital with a history of tissue mass on his left foot. The patient states...  [orthopedic]\n",
              "9    PREOPERATIVE DIAGNOSIS: Carpal tunnel syndrome. POSTOPERATIVE DIAGNOSIS: Carpal tunnel syndrome. TITLE OF PROCEDURE: Open carpal tunnel release. COMPLICATIONS: None. PROCEDURE IN DETAIL: After administering appropriate antibiotics and general anesthesia the Left upper extremity was prepped and draped in the usual standard fashion. The arm was exsanguinated with Esmarch, and the tourniquet inflated to 250 mmHg. A longitudinal incision was made in line with the 4th ray. The dissection was car...  [orthopedic]\n",
              "10   PREOPERATIVE DIAGNOSES: 1. Pathologic insufficiency. 2. Fracture of the T8 vertebrae and T9 vertebrae. POSTOPERATIVE DIAGNOSES: 1. Pathologic insufficiency. 2. Fracture of the T8 vertebra and T9 vertebra. PROCEDURE PERFORMED: 1. Fracture reduction with insertion of prosthetic device at T8 with kyphoplasty. 2. Vertebroplasties at T7 and T9 with insertion of prosthetic device. ANESTHESIA: Local with sedation. SPECIMEN: Bone from the T8 vertebra. COMPLICATIONS: None. SURGICAL INDICATIONS: The ...  [orthopedic]\n",
              "11   PREOPERATIVE DIAGNOSIS: Severely comminuted fracture of the distal radius, left. POSTOPERATIVE DIAGNOSIS: Severely comminuted fracture of the distal radius, left. OPERATIVE PROCEDURE: Open reduction and internal fixation, high grade Frykman VIII distal radius fracture. ANESTHESIA: General endotracheal. PREOPERATIVE INDICATIONS: This is a 52-year-old patient of mine who I have repaired both shoulder rotator cuffs, the most recent one in the calendar year 2007. While he was climbing a ladder ...  [orthopedic]\n",
              "12   PREOPERATIVE DIAGNOSES: 1. Hallux abductovalgus deformity, right foot. 2. Tailor bunion deformity, right foot. POSTOPERATIVE DIAGNOSES: 1. Hallux abductovalgus deformity, right foot. 2. Tailor bunion deformity, right foot. PROCEDURES PERFORMED: Tailor bunionectomy, right foot, Weil-type with screw fixation. ANESTHESIA: Local with MAC, local consisting of 20 mL of 0.5% Marcaine plain. HEMOSTASIS: Pneumatic ankle tourniquet at 200 mmHg. INJECTABLES: A 10 mL of 0.5% Marcaine plain and 1 mL of ...  [orthopedic]\n",
              "13   PREOPERATIVE DIAGNOSIS: Hammertoe deformity of the right second digit. POSTOPERATIVE DIAGNOSIS: Hammertoe deformity of the right second digit. PROCEDURE PERFORMED: Arthroplasty of the right second digit. The patient is a 77-year-old Hispanic male who presents to ABCD Hospital for surgical correction of a painful second digit hammertoe. The patient has failed attempts at conservative treatment and is unable to wear shoes without pain to his second toe. The patient presents n.p.o. since mid n...  [orthopedic]\n",
              "14   PREOPERATIVE DIAGNOSES: 1. Torn anterior cruciate ligament, right knee. 2. Patellofemoral instability, right knee. 3. Possible torn medial meniscus. POSTOPERATIVE DIAGNOSES: 1. Complete tear anterior cruciate ligament, right knee. 2. Complex tear of the posterior horn lateral meniscus. 3. Tear of posterior horn medial meniscus. 4. Patellofemoral instability. 5. Chondromalacia patella. PROCEDURES PERFORMED: 1. Diagnostic operative arthroscopy with repair and reconstruction of anterior crucia...  [orthopedic]\n",
              "15   CHIEF COMPLAINT: Left hip pain. HISTORY OF PRESENT ILLNESS: The patient is a 32-year-old male seen by Dr. ABC several weeks ago for persistent left hip pain. He has a long eight to ten year history of pain into the left hip. He has been worked up by several specialists and evaluated. He was thought initially to have low back pain with radiculopathy. He does have a history of antibiotic steroid use as well as heavy drinking. He reports his symptoms started approximately eight years ago when ...  [orthopedic]\n",
              "16   PREOPERATIVE DIAGNOSES: 1. Bunion left foot. 2. Hammertoe, left second toe. POSTOPERATIVE DIAGNOSES: 1. Bunion left foot. 2. Hammertoe, left second toe. PROCEDURE PERFORMED: 1. Bunionectomy, SCARF type, with metatarsal osteotomy and internal screw fixation, left. 2. Arthroplasty left second toe. HISTORY: This 39-year-old female presents to ABCD General Hospital with the above chief complaint. The patient states that she has had bunion for many months. It has been progressively getting more ...  [orthopedic]\n",
              "17   PREOPERATIVE DIAGNOSES: Cervical degenerative disc disease, spondylosis, severe myelopathy, spinal cord compression especially at C3-C4, C4-C5, and C5-C6, and progressive quadriparesis. POSTOPERATIVE DIAGNOSES: Cervical degenerative disc disease, spondylosis, severe myelopathy, spinal cord compression especially at C3-C4, C4-C5, and C5-C6, progressive quadriparesis, and very poor bone quality as well as difficulty with hemostasis with the patient having been on aspirin. OPERATIVE PROCEDURE ...  [orthopedic]\n",
              "18   PREOPERATIVE DIAGNOSIS: Osteomyelitis, left hallux. POSTOPERATIVE DIAGNOSIS: Osteomyelitis, left hallux. PROCEDURES PERFORMED: Resection of infected bone, left hallux, proximal phalanx, and distal phalanx. ANESTHESIA: TIVA/Local. HISTORY: This 77-year-old male presents to ABCD preoperative holding area after keeping himself NPO since mid night for surgery on his infected left hallux. The patient has a history of chronic osteomyelitis and non-healing ulceration to the left hallux of almost 1...  [orthopedic]\n",
              "19   PREOPERATIVE DIAGNOSIS: Herniated nucleus pulposus, C5-C6, with spinal stenosis. POSTOPERATIVE DIAGNOSIS: Herniated nucleus pulposus, C5-C6, with spinal stenosis. PROCEDURE: Anterior cervical discectomy with fusion C5-C6. PROCEDURE IN DETAIL: The patient was placed in supine position. The neck was prepped and draped in the usual fashion. An incision was made from midline to the anterior border of the sternocleidomastoid in the right side. Skin and subcutaneous tissue were divided sharply. T...  [orthopedic]\n",
              "20   HISTORY OF PRESENT ILLNESS: The patient is a 26-year-old female, referred to Physical Therapy for low back pain. The patient has a history of traumatic injury to low back. The patient stated initial injury occurred eight years ago, when she fell at a ABC Store. The patient stated she received physical therapy, one to two visits and received modality treatment only, specifically electrical stimulation and heat pack per patient recollection. The patient stated that she has had continuous low-...  [orthopedic]\n",
              "21   PREOPERATIVE DIAGNOSES 1. Left neck pain with left upper extremity radiculopathy. 2. Left C6-C7 neuroforaminal stenosis secondary to osteophyte. POSTOPERATIVE DIAGNOSES 1. Left neck pain with left upper extremity radiculopathy. 2. Left C6-C7 neuroforaminal stenosis secondary to osteophyte. OPERATIVE PROCEDURE 1. Anterior cervical discectomy with decompression C6-C7. 2. Arthrodesis with anterior interbody fusion C6-C7. 3. Spinal instrumentation using Pioneer 20 mm plate and four 12 x 4.0 mm ...  [orthopedic]\n",
              "22   PREOPERATIVE DIAGNOSIS: Comminuted fracture, dislocation left proximal humerus. POSTOPERATIVE DIAGNOSIS: Comminuted fracture, dislocation left proximal humerus. PROCEDURE PERFORMED: Hemiarthroplasty of left shoulder utilizing a global advantage system with an #8 mm cemented humeral stem and 48 x 21 mm modular head replacement. PROCEDURE: The patient was taken to OR #2, administered general anesthetic. He was positioned in the modified beach chair position on the operative table utilizing th...  [orthopedic]\n",
              "23   PREOPERATIVE DIAGNOSES 1. Cervical spinal stenosis, C3-c4 and C4-C5. 2. Cervical spondylotic myelopathy. POSTOPERATIVE DIAGNOSES 1. Cervical spinal stenosis, C3-C4 and C4-C5. 2. Cervical spondylotic myelopathy. OPERATIVE PROCEDURES 1. Radical anterior discectomy, C3-C4 with removal of posterior osteophytes, foraminotomies, and decompression of the spinal canal (CPT 63075). 2. Radical anterior discectomy C4-C5 with removal of posterior osteophytes, foraminotomies, and decompression of the sp...  [orthopedic]\n",
              "24   PREOPERATIVE DIAGNOSIS: Displaced left subtrochanteric femur fracture. POSTOPERATIVE DIAGNOSIS: Displaced left subtrochanteric femur fracture. OPERATION: Intramedullary rod in the left hip using the Synthes trochanteric fixation nail measuring 11 x 130 degrees with an 85-mm helical blade. COMPLICATIONS: None. TOURNIQUET TIME: None. ESTIMATED BLOOD LOSS: 50 mL. ANESTHESIA: General. INDICATIONS: The patient suffered a fall at which time she was taken to the emergency room with pain in the low...  [orthopedic]\n",
              "25   PREOPERATIVE DIAGNOSIS: Stenosing tenosynovitis first dorsal extensor compartment/de Quervain tendonitis. POSTOPERATIVE DIAGNOSIS: Stenosing tenosynovitis first dorsal extensor compartment/de Quervain tendonitis. PROCEDURE PERFORMED: Release of first dorsal extensor compartment. ASSISTANT: None. ANESTHESIA: Bier block. TOURNIQUET TIME: 30 minutes. COMPLICATIONS: None. INDICATIONS: The above patient is a 47-year-old right hand dominant black female who has signs and symptomology of de Querva...  [orthopedic]\n",
              "26   PREOPERATIVE DIAGNOSIS: Hemarthrosis, left knee, status post total knee replacement, rule out infection. POSTOPERATIVE DIAGNOSIS: Hemarthrosis, left knee, status post total knee replacement, rule out infection. OPERATIONS: 1. Arthrotomy, left total knee. 2. Irrigation and debridement, left knee. 3. Polyethylene exchange, left knee. COMPLICATION: None. TOURNIQUET TIME: 58 minutes. ESTIMATED BLOOD LOSS: Minimal. ANESTHESIA: General. INDICATIONS: This patient underwent an uncomplicated left to...  [orthopedic]\n",
              "27   Mr. XXXX does state that he did undergo surgical intervention as related to the right knee and it was noted that the reconstruction had failed. A screw had come loose. Thereafter, Dr. X felt that two additional surgeries were indicated, that related to a bone graft and a reconstruction of the ACL with allograft. Thereafter, he was evaluated and it was felt that further reconstruction as related to the anterior cruciate ligament was definitely not indicated. On December 5, 2008, Mr. XXXX did...  [orthopedic]\n",
              "28   PREOPERATIVE DIAGNOSES: 1. Right shoulder rotator cuff tear. 2. Glenohumeral rotator cuff arthroscopy. 3. Degenerative joint disease. POSTOPERATIVE DIAGNOSES: 1. Right shoulder rotator cuff tear. 2. Glenohumeral rotator cuff arthroscopy. 3. Degenerative joint disease. PROCEDURE PERFORMED: Right shoulder hemiarthroplasty. ANESTHESIA: General. ESTIMATED BLOOD LOSS: Approximately 125 cc. COMPLICATIONS: None. COMPONENTS: A DePuy 10 mm global shoulder system stem was used cemented and a DePuy 44...  [orthopedic]\n",
              "29   This is a middle-aged female with moderate pain, severe swelling and a growth on the arm which is reportedly enlarging with limited range of motion for three months. FINDINGS: There is diffuse subcutis space edema extending along the posteromedial aspect of the elbow adjacent to the medial epicondyle, extending to the olecranon process and along the superficial aspect of the epicondylo-olecranon ligament. There is no demonstrated solid, cystic or lipomatous mass lesion. There is enlargement...  [orthopedic]"
            ]
          },
          "metadata": {},
          "execution_count": 14
        }
      ]
    }
  ],
  "metadata": {
    "colab": {
      "name": "Document classifier_MTSamples.ipynb",
      "provenance": [],
      "collapsed_sections": [],
      "toc_visible": true,
      "include_colab_link": true
    },
    "kernelspec": {
      "display_name": "Python 3",
      "name": "python3"
    },
    "language_info": {
      "name": "python"
    },
    "accelerator": "GPU"
  },
  "nbformat": 4,
  "nbformat_minor": 0
}